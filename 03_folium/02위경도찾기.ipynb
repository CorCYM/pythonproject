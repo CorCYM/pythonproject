{
 "cells": [
  {
   "cell_type": "code",
   "execution_count": 1,
   "id": "3d2f2d99-8f02-484d-b140-28b623d5d920",
   "metadata": {
    "tags": []
   },
   "outputs": [
    {
     "name": "stdout",
     "output_type": "stream",
     "text": [
      "Collecting geopy\n",
      "  Downloading geopy-2.3.0-py3-none-any.whl (119 kB)\n",
      "     ---------------------------------------- 0.0/119.8 kB ? eta -:--:--\n",
      "     -------------------------------------- 119.8/119.8 kB 6.8 MB/s eta 0:00:00\n",
      "Collecting geographiclib<3,>=1.52\n",
      "  Downloading geographiclib-2.0-py3-none-any.whl (40 kB)\n",
      "     ---------------------------------------- 0.0/40.3 kB ? eta -:--:--\n",
      "     ---------------------------------------- 40.3/40.3 kB ? eta 0:00:00\n",
      "Installing collected packages: geographiclib, geopy\n",
      "Successfully installed geographiclib-2.0 geopy-2.3.0\n"
     ]
    }
   ],
   "source": [
    "!pip install geopy"
   ]
  },
  {
   "cell_type": "code",
   "execution_count": 2,
   "id": "ab45e57d-a998-462a-a3c7-55159299c21b",
   "metadata": {
    "tags": []
   },
   "outputs": [],
   "source": [
    "from geopy.geocoders import Nominatim"
   ]
  },
  {
   "cell_type": "code",
   "execution_count": 3,
   "id": "fe5d4702-b55a-451c-82df-5bbadc380daa",
   "metadata": {
    "tags": []
   },
   "outputs": [
    {
     "name": "stdout",
     "output_type": "stream",
     "text": [
      "Flatiron Building, 175, 5th Avenue, Manhattan Community Board 5, Manhattan, New York County, City of New York, New York, 10010, United States\n"
     ]
    }
   ],
   "source": [
    "geolocator = Nominatim(user_agent=\"web\")\n",
    "location = geolocator.geocode(\"175 5th Avenue NYC\")\n",
    "print(location.address)"
   ]
  },
  {
   "cell_type": "code",
   "execution_count": 4,
   "id": "03b14e33-0c6b-4817-8e2b-6c2c3a60b7da",
   "metadata": {
    "tags": []
   },
   "outputs": [
    {
     "data": {
      "text/plain": [
       "40.741059199999995"
      ]
     },
     "execution_count": 4,
     "metadata": {},
     "output_type": "execute_result"
    }
   ],
   "source": [
    "location.latitude"
   ]
  },
  {
   "cell_type": "code",
   "execution_count": 5,
   "id": "437d880a-76dd-4d89-ac9e-3ea27cbf7229",
   "metadata": {
    "tags": []
   },
   "outputs": [
    {
     "data": {
      "text/plain": [
       "-73.98964162240998"
      ]
     },
     "execution_count": 5,
     "metadata": {},
     "output_type": "execute_result"
    }
   ],
   "source": [
    "location.longitude"
   ]
  },
  {
   "cell_type": "code",
   "execution_count": 6,
   "id": "38695af0-8aa3-44ef-ba13-58395b94a128",
   "metadata": {
    "tags": []
   },
   "outputs": [
    {
     "name": "stdout",
     "output_type": "stream",
     "text": [
      "35.158271150000004 126.795781369881 대한상공회의소 광주인력개발원, 37, 소촌로152번길, 소촌온세계아파트, 광산구, 광주, 62379, 대한민국\n"
     ]
    }
   ],
   "source": [
    "location = geolocator.geocode(\"광주광역시 광산구 소촌로152번길 37\")\n",
    "print(location.latitude, location.longitude, location.address)"
   ]
  },
  {
   "cell_type": "code",
   "execution_count": 7,
   "id": "c84f6b55-75d4-46bf-afb7-3cf697e2a99b",
   "metadata": {
    "tags": []
   },
   "outputs": [
    {
     "data": {
      "text/plain": [
       "{'place_id': 210684969,\n",
       " 'licence': 'Data © OpenStreetMap contributors, ODbL 1.0. https://osm.org/copyright',\n",
       " 'osm_type': 'way',\n",
       " 'osm_id': 472475874,\n",
       " 'boundingbox': ['35.1574848', '35.1592417', '126.7943724', '126.7972005'],\n",
       " 'lat': '35.158271150000004',\n",
       " 'lon': '126.795781369881',\n",
       " 'display_name': '대한상공회의소 광주인력개발원, 37, 소촌로152번길, 소촌온세계아파트, 광산구, 광주, 62379, 대한민국',\n",
       " 'class': 'amenity',\n",
       " 'type': 'school',\n",
       " 'importance': 0.33001,\n",
       " 'icon': 'https://nominatim.openstreetmap.org/ui/mapicons/education_school.p.20.png'}"
      ]
     },
     "execution_count": 7,
     "metadata": {},
     "output_type": "execute_result"
    }
   ],
   "source": [
    "location.raw"
   ]
  },
  {
   "cell_type": "code",
   "execution_count": 9,
   "id": "74e97208-1350-455e-9f33-804846b98a1e",
   "metadata": {
    "tags": []
   },
   "outputs": [
    {
     "name": "stdout",
     "output_type": "stream",
     "text": [
      "35.820083 128.7311572 강변서로, 한일유앤아이아파트, 서부1동, 경산시, 경상북도, 38678, 대한민국\n"
     ]
    }
   ],
   "source": [
    "location2 = geolocator.geocode(\"경상북도 경산시 강변서로 111\")\n",
    "print(location2.latitude, location2.longitude, location2.address)"
   ]
  },
  {
   "cell_type": "code",
   "execution_count": 10,
   "id": "e0df7384-5766-4173-b203-171ea075f22d",
   "metadata": {
    "tags": []
   },
   "outputs": [
    {
     "data": {
      "text/plain": [
       "{'place_id': 141108366,\n",
       " 'licence': 'Data © OpenStreetMap contributors, ODbL 1.0. https://osm.org/copyright',\n",
       " 'osm_type': 'way',\n",
       " 'osm_id': 153513002,\n",
       " 'boundingbox': ['35.808952', '35.833974', '128.729542', '128.7363247'],\n",
       " 'lat': '35.820083',\n",
       " 'lon': '128.7311572',\n",
       " 'display_name': '강변서로, 한일유앤아이아파트, 서부1동, 경산시, 경상북도, 38678, 대한민국',\n",
       " 'class': 'highway',\n",
       " 'type': 'tertiary',\n",
       " 'importance': 0.43001}"
      ]
     },
     "execution_count": 10,
     "metadata": {},
     "output_type": "execute_result"
    }
   ],
   "source": [
    "location2.raw"
   ]
  },
  {
   "cell_type": "code",
   "execution_count": null,
   "id": "0776d446-c995-4ac7-bbfe-c54b15e1e85d",
   "metadata": {},
   "outputs": [],
   "source": []
  },
  {
   "cell_type": "raw",
   "id": "19afe20b-3b80-450e-b0d4-718168914b18",
   "metadata": {
    "tags": []
   },
   "source": [
    "curl -v -X GET \"https://dapi.kakao.com/v2/local/search/address.json\" \\\n",
    "  -H \"Authorization: KakaoAK ${REST_API_KEY}\" \\\n",
    "  --data-urlencode \"query=전북 삼성동 100\" "
   ]
  },
  {
   "cell_type": "code",
   "execution_count": 12,
   "id": "2ce1425b-7628-4680-870b-665f5ef661f7",
   "metadata": {
    "tags": []
   },
   "outputs": [],
   "source": [
    "REST_API_KEY = '8331fd7d6a3fbc636cf74469d9a0d791'"
   ]
  },
  {
   "cell_type": "code",
   "execution_count": 13,
   "id": "d80c2efa-20ee-4128-84c1-50c1cbbced27",
   "metadata": {
    "tags": []
   },
   "outputs": [],
   "source": [
    "import requests"
   ]
  },
  {
   "cell_type": "code",
   "execution_count": 17,
   "id": "811aa338-05b0-4e96-bdb1-dfa0458ccd6a",
   "metadata": {
    "tags": []
   },
   "outputs": [
    {
     "data": {
      "text/plain": [
       "('35.1585158999773', '126.79600938096')"
      ]
     },
     "execution_count": 17,
     "metadata": {},
     "output_type": "execute_result"
    }
   ],
   "source": [
    "query ='광주광역시 광산구 소촌로152번길 37'\n",
    "url = f'https://dapi.kakao.com/v2/local/search/address.json?query={query}'\n",
    "header = {'Authorization' : f'KakaoAK {REST_API_KEY}'}\n",
    "r = requests.get(url, headers=header)\n",
    "jsondata = r.json()\n",
    "jsondata['documents'][0]['address']['y'],jsondata['documents'][0]['address']['x']"
   ]
  },
  {
   "cell_type": "raw",
   "id": "2ab2a2c3-02b6-4ead-973b-e706373e2e35",
   "metadata": {},
   "source": [
    "curl -v -X GET \"https://dapi.kakao.com/v2/local/search/keyword.json?y=37.514322572335935&x=127.06283102249932&radius=20000\" \\\n",
    "  -H \"Authorization: KakaoAK ${REST_API_KEY}\" \\\n",
    "  --data-urlencode \"query=카카오프렌즈\" "
   ]
  },
  {
   "cell_type": "code",
   "execution_count": 21,
   "id": "67d15135-fa5e-434b-9763-a14997db4e8e",
   "metadata": {
    "collapsed": true,
    "jupyter": {
     "outputs_hidden": true
    },
    "tags": []
   },
   "outputs": [
    {
     "data": {
      "text/plain": [
       "{'documents': [{'address_name': '서울 강남구 삼성동 159',\n",
       "   'category_group_code': '',\n",
       "   'category_group_name': '',\n",
       "   'category_name': '가정,생활 > 문구,사무용품 > 디자인문구 > 카카오프렌즈',\n",
       "   'distance': '418',\n",
       "   'id': '26338954',\n",
       "   'phone': '02-6002-1880',\n",
       "   'place_name': '카카오프렌즈 스타필드 코엑스몰점',\n",
       "   'place_url': 'http://place.map.kakao.com/26338954',\n",
       "   'road_address_name': '서울 강남구 영동대로 513',\n",
       "   'x': '127.059028716089',\n",
       "   'y': '37.5120756277877'}],\n",
       " 'meta': {'is_end': True,\n",
       "  'pageable_count': 1,\n",
       "  'same_name': {'keyword': '카카오프렌즈', 'region': [], 'selected_region': ''},\n",
       "  'total_count': 1}}"
      ]
     },
     "execution_count": 21,
     "metadata": {},
     "output_type": "execute_result"
    }
   ],
   "source": [
    "query ='카카오프렌즈'\n",
    "x=127.06283102249932\n",
    "y=37.514322572335935\n",
    "radius=2000\n",
    "\n",
    "url = f'https://dapi.kakao.com/v2/local/search/keyword.json?y={y}&x={x}&radius={radius}&query={query}'\n",
    "header = {'Authorization' : f'KakaoAK {REST_API_KEY}'}\n",
    "r = requests.get(url, headers=header)\n",
    "jsondata = r.json()\n",
    "jsondata"
   ]
  },
  {
   "cell_type": "code",
   "execution_count": 23,
   "id": "9d6dffef-7b81-474c-b69c-1398fd4695d1",
   "metadata": {
    "tags": []
   },
   "outputs": [],
   "source": [
    "## 광주인력개발원 주변 2km 근방 약국"
   ]
  },
  {
   "cell_type": "code",
   "execution_count": 25,
   "id": "1e2f2cfa-1451-4abb-a8ef-d6ab27c5d6c1",
   "metadata": {
    "collapsed": true,
    "jupyter": {
     "outputs_hidden": true
    },
    "tags": []
   },
   "outputs": [
    {
     "data": {
      "text/plain": [
       "{'documents': [{'address_name': '광주 광산구 소촌동 752-6',\n",
       "   'category_group_code': 'PM9',\n",
       "   'category_group_name': '약국',\n",
       "   'category_name': '의료,건강 > 약국',\n",
       "   'distance': '329',\n",
       "   'id': '8870859',\n",
       "   'phone': '062-941-7975',\n",
       "   'place_name': '대명당약국',\n",
       "   'place_url': 'http://place.map.kakao.com/8870859',\n",
       "   'road_address_name': '광주 광산구 소촌로 146',\n",
       "   'x': '126.792293086965',\n",
       "   'y': '35.157474736868'},\n",
       "  {'address_name': '광주 광산구 소촌동 185',\n",
       "   'category_group_code': 'PM9',\n",
       "   'category_group_name': '약국',\n",
       "   'category_name': '의료,건강 > 약국',\n",
       "   'distance': '416',\n",
       "   'id': '26037849',\n",
       "   'phone': '',\n",
       "   'place_name': '디엠바이오',\n",
       "   'place_url': 'http://place.map.kakao.com/26037849',\n",
       "   'road_address_name': '광주 광산구 용아로 143',\n",
       "   'x': '126.799645167694',\n",
       "   'y': '35.1562612706407'},\n",
       "  {'address_name': '광주 광산구 우산동 1575-1',\n",
       "   'category_group_code': 'PM9',\n",
       "   'category_group_name': '약국',\n",
       "   'category_name': '의료,건강 > 약국',\n",
       "   'distance': '860',\n",
       "   'id': '173275069',\n",
       "   'phone': '062-962-0166',\n",
       "   'place_name': '글래스팜대학약국',\n",
       "   'place_url': 'http://place.map.kakao.com/173275069',\n",
       "   'road_address_name': '광주 광산구 용아로 234',\n",
       "   'x': '126.802181524052',\n",
       "   'y': '35.1639737600791'},\n",
       "  {'address_name': '광주 광산구 우산동 1604-2',\n",
       "   'category_group_code': 'PM9',\n",
       "   'category_group_name': '약국',\n",
       "   'category_name': '의료,건강 > 약국',\n",
       "   'distance': '863',\n",
       "   'id': '9226769',\n",
       "   'phone': '062-944-8495',\n",
       "   'place_name': '에덴약국',\n",
       "   'place_url': 'http://place.map.kakao.com/9226769',\n",
       "   'road_address_name': '광주 광산구 사암로171번길 52',\n",
       "   'x': '126.804991909506',\n",
       "   'y': '35.1600989636393'},\n",
       "  {'address_name': '광주 광산구 우산동 1573-6',\n",
       "   'category_group_code': 'PM9',\n",
       "   'category_group_name': '약국',\n",
       "   'category_name': '의료,건강 > 약국',\n",
       "   'distance': '936',\n",
       "   'id': '26583809',\n",
       "   'phone': '062-531-6123',\n",
       "   'place_name': '우리동네온누리약국',\n",
       "   'place_url': 'http://place.map.kakao.com/26583809',\n",
       "   'road_address_name': '광주 광산구 사암로215번길 85',\n",
       "   'x': '126.803494572011',\n",
       "   'y': '35.1638534025418'},\n",
       "  {'address_name': '광주 광산구 산정동 143-21',\n",
       "   'category_group_code': 'PM9',\n",
       "   'category_group_name': '약국',\n",
       "   'category_name': '의료,건강 > 약국',\n",
       "   'distance': '1025',\n",
       "   'id': '99474834',\n",
       "   'phone': '062-952-2092',\n",
       "   'place_name': '종로당온누리약국',\n",
       "   'place_url': 'http://place.map.kakao.com/99474834',\n",
       "   'road_address_name': '광주 광산구 용아로 257',\n",
       "   'x': '126.80152187656707',\n",
       "   'y': '35.16622255848864'},\n",
       "  {'address_name': '광주 광산구 우산동 1571-1',\n",
       "   'category_group_code': 'PM9',\n",
       "   'category_group_name': '약국',\n",
       "   'category_name': '의료,건강 > 약국',\n",
       "   'distance': '1017',\n",
       "   'id': '9791681',\n",
       "   'phone': '062-951-9987',\n",
       "   'place_name': '빛고을약국',\n",
       "   'place_url': 'http://place.map.kakao.com/9791681',\n",
       "   'road_address_name': '광주 광산구 월곡산정로 12',\n",
       "   'x': '126.80421467253548',\n",
       "   'y': '35.16428631854358'},\n",
       "  {'address_name': '광주 광산구 우산동 1578-3',\n",
       "   'category_group_code': 'PM9',\n",
       "   'category_group_name': '약국',\n",
       "   'category_name': '의료,건강 > 약국',\n",
       "   'distance': '1065',\n",
       "   'id': '27304117',\n",
       "   'phone': '062-266-5431',\n",
       "   'place_name': '동인약국',\n",
       "   'place_url': 'http://place.map.kakao.com/27304117',\n",
       "   'road_address_name': '광주 광산구 사암로215번길 51',\n",
       "   'x': '126.805479581028',\n",
       "   'y': '35.1636402802552'},\n",
       "  {'address_name': '광주 광산구 우산동 1582-1',\n",
       "   'category_group_code': 'PM9',\n",
       "   'category_group_name': '약국',\n",
       "   'category_name': '의료,건강 > 약국',\n",
       "   'distance': '1247',\n",
       "   'id': '425227884',\n",
       "   'phone': '062-955-5652',\n",
       "   'place_name': '건강약국',\n",
       "   'place_url': 'http://place.map.kakao.com/425227884',\n",
       "   'road_address_name': '광주 광산구 사암로 211',\n",
       "   'x': '126.807987179116',\n",
       "   'y': '35.16337026794'},\n",
       "  {'address_name': '광주 광산구 산정동 1010',\n",
       "   'category_group_code': 'PM9',\n",
       "   'category_group_name': '약국',\n",
       "   'category_name': '의료,건강 > 약국',\n",
       "   'distance': '1085',\n",
       "   'id': '272154380',\n",
       "   'phone': '062-953-0250',\n",
       "   'place_name': '한마음약국',\n",
       "   'place_url': 'http://place.map.kakao.com/272154380',\n",
       "   'road_address_name': '광주 광산구 손재로 1',\n",
       "   'x': '126.801392791676',\n",
       "   'y': '35.1669000771296'},\n",
       "  {'address_name': '광주 광산구 우산동 1571-1',\n",
       "   'category_group_code': 'PM9',\n",
       "   'category_group_name': '약국',\n",
       "   'category_name': '의료,건강 > 약국',\n",
       "   'distance': '1120',\n",
       "   'id': '9443595',\n",
       "   'phone': '062-951-3344',\n",
       "   'place_name': '진달래약국',\n",
       "   'place_url': 'http://place.map.kakao.com/9443595',\n",
       "   'road_address_name': '광주 광산구 월곡산정로 12',\n",
       "   'x': '126.80326039791',\n",
       "   'y': '35.1662902920269'},\n",
       "  {'address_name': '광주 광산구 우산동 1579-1',\n",
       "   'category_group_code': 'PM9',\n",
       "   'category_group_name': '약국',\n",
       "   'category_name': '의료,건강 > 약국',\n",
       "   'distance': '1131',\n",
       "   'id': '950290210',\n",
       "   'phone': '062-962-7876',\n",
       "   'place_name': '밝은명약국',\n",
       "   'place_url': 'http://place.map.kakao.com/950290210',\n",
       "   'road_address_name': '광주 광산구 사암로215번길 35',\n",
       "   'x': '126.80638855196042',\n",
       "   'y': '35.16358044402019'},\n",
       "  {'address_name': '광주 광산구 월곡동 612-24',\n",
       "   'category_group_code': 'PM9',\n",
       "   'category_group_name': '약국',\n",
       "   'category_name': '의료,건강 > 약국',\n",
       "   'distance': '1622',\n",
       "   'id': '9005522',\n",
       "   'phone': '062-951-2388',\n",
       "   'place_name': '무등약국',\n",
       "   'place_url': 'http://place.map.kakao.com/9005522',\n",
       "   'road_address_name': '광주 광산구 월곡산정로 79',\n",
       "   'x': '126.81077523606876',\n",
       "   'y': '35.166165256816214'},\n",
       "  {'address_name': '광주 광산구 우산동 1598-3',\n",
       "   'category_group_code': 'PM9',\n",
       "   'category_group_name': '약국',\n",
       "   'category_name': '의료,건강 > 약국',\n",
       "   'distance': '1187',\n",
       "   'id': '13544635',\n",
       "   'phone': '062-946-2520',\n",
       "   'place_name': '기쁨약국',\n",
       "   'place_url': 'http://place.map.kakao.com/13544635',\n",
       "   'road_address_name': '광주 광산구 사암로 172',\n",
       "   'x': '126.808622614001',\n",
       "   'y': '35.160126385771'},\n",
       "  {'address_name': '광주 광산구 우산동 1363-14',\n",
       "   'category_group_code': 'PM9',\n",
       "   'category_group_name': '약국',\n",
       "   'category_name': '의료,건강 > 약국',\n",
       "   'distance': '1634',\n",
       "   'id': '2008323971',\n",
       "   'phone': '062-959-1205',\n",
       "   'place_name': '약국산책',\n",
       "   'place_url': 'http://place.map.kakao.com/2008323971',\n",
       "   'road_address_name': '광주 광산구 풍영철길로 20-6',\n",
       "   'x': '126.812853118058',\n",
       "   'y': '35.1628010135645'}],\n",
       " 'meta': {'is_end': False,\n",
       "  'pageable_count': 41,\n",
       "  'same_name': {'keyword': '약국', 'region': [], 'selected_region': ''},\n",
       "  'total_count': 41}}"
      ]
     },
     "execution_count": 25,
     "metadata": {},
     "output_type": "execute_result"
    }
   ],
   "source": [
    "query = '약국'\n",
    "x = '126.795781369881'\n",
    "y = '35.158271150000004'\n",
    "radius = 2000\n",
    "code = 'PM9'\n",
    "\n",
    "url = f'https://dapi.kakao.com/v2/local/search/keyword.json?y={y}&x={x}&radius={radius}&query={query}&category_group_code={code}'\n",
    "header = {'Authorization' : f'KakaoAK {REST_API_KEY}'}\n",
    "r = requests.get(url, headers=header)\n",
    "jsondata = r.json()\n",
    "jsondata"
   ]
  },
  {
   "cell_type": "code",
   "execution_count": null,
   "id": "e1b6b487-c291-4ea4-9f78-fe1754d132fb",
   "metadata": {},
   "outputs": [],
   "source": []
  },
  {
   "cell_type": "code",
   "execution_count": null,
   "id": "c24074e9-3cec-40bb-9d55-627a5880339b",
   "metadata": {},
   "outputs": [],
   "source": []
  }
 ],
 "metadata": {
  "kernelspec": {
   "display_name": "Python 3 (ipykernel)",
   "language": "python",
   "name": "python3"
  },
  "language_info": {
   "codemirror_mode": {
    "name": "ipython",
    "version": 3
   },
   "file_extension": ".py",
   "mimetype": "text/x-python",
   "name": "python",
   "nbconvert_exporter": "python",
   "pygments_lexer": "ipython3",
   "version": "3.11.1"
  }
 },
 "nbformat": 4,
 "nbformat_minor": 5
}
