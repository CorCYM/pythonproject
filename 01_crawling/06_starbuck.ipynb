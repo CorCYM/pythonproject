{
 "cells": [
  {
   "cell_type": "markdown",
   "id": "a342e327-7d67-42d6-95e1-c8dee9864b26",
   "metadata": {},
   "source": [
    "## 스타벅스 매장찾기"
   ]
  },
  {
   "cell_type": "code",
   "execution_count": 1,
   "id": "6ab19c81-448b-4b4f-a693-d0a458e5fc3b",
   "metadata": {
    "tags": []
   },
   "outputs": [],
   "source": [
    "from urllib import request\n",
    "from bs4 import BeautifulSoup"
   ]
  },
  {
   "cell_type": "code",
   "execution_count": 2,
   "id": "ac3f064f-7ac9-4956-ad95-6c3fe633ed80",
   "metadata": {
    "tags": []
   },
   "outputs": [],
   "source": [
    "url = 'https://www.starbucks.co.kr/store/store_map.do'\n",
    "r = request.urlopen(url)\n",
    "# print(r.read().decode('utf8'))\n",
    "soup = BeautifulSoup(r, 'lxml')"
   ]
  },
  {
   "cell_type": "code",
   "execution_count": 3,
   "id": "e6a8cfa9-3a81-466f-9c10-21bbbc2126cd",
   "metadata": {
    "tags": []
   },
   "outputs": [
    {
     "name": "stdout",
     "output_type": "stream",
     "text": [
      "[<ul class=\"quickSearchResultBox\">\n",
      "</ul>]\n"
     ]
    }
   ],
   "source": [
    "print(soup.select('ul.quickSearchResultBox'))"
   ]
  },
  {
   "cell_type": "code",
   "execution_count": null,
   "id": "bbfd9db7-f328-4f30-8469-f6e245183aed",
   "metadata": {},
   "outputs": [],
   "source": []
  },
  {
   "cell_type": "code",
   "execution_count": 4,
   "id": "2049b3e3-58a2-45df-8c9d-181e096c4c5d",
   "metadata": {
    "collapsed": true,
    "jupyter": {
     "outputs_hidden": true
    },
    "tags": []
   },
   "outputs": [
    {
     "name": "stdout",
     "output_type": "stream",
     "text": [
      "Requirement already satisfied: selenium in c:\\users\\admin\\appdata\\local\\programs\\python\\python311\\lib\\site-packages (4.8.3)\n",
      "Requirement already satisfied: urllib3[socks]~=1.26 in c:\\users\\admin\\appdata\\local\\programs\\python\\python311\\lib\\site-packages (from selenium) (1.26.14)\n",
      "Requirement already satisfied: trio~=0.17 in c:\\users\\admin\\appdata\\local\\programs\\python\\python311\\lib\\site-packages (from selenium) (0.22.0)\n",
      "Requirement already satisfied: trio-websocket~=0.9 in c:\\users\\admin\\appdata\\local\\programs\\python\\python311\\lib\\site-packages (from selenium) (0.10.2)\n",
      "Requirement already satisfied: certifi>=2021.10.8 in c:\\users\\admin\\appdata\\local\\programs\\python\\python311\\lib\\site-packages (from selenium) (2022.12.7)\n",
      "Requirement already satisfied: attrs>=19.2.0 in c:\\users\\admin\\appdata\\local\\programs\\python\\python311\\lib\\site-packages (from trio~=0.17->selenium) (22.2.0)\n",
      "Requirement already satisfied: sortedcontainers in c:\\users\\admin\\appdata\\local\\programs\\python\\python311\\lib\\site-packages (from trio~=0.17->selenium) (2.4.0)\n",
      "Requirement already satisfied: async-generator>=1.9 in c:\\users\\admin\\appdata\\local\\programs\\python\\python311\\lib\\site-packages (from trio~=0.17->selenium) (1.10)\n",
      "Requirement already satisfied: idna in c:\\users\\admin\\appdata\\local\\programs\\python\\python311\\lib\\site-packages (from trio~=0.17->selenium) (3.4)\n",
      "Requirement already satisfied: outcome in c:\\users\\admin\\appdata\\local\\programs\\python\\python311\\lib\\site-packages (from trio~=0.17->selenium) (1.2.0)\n",
      "Requirement already satisfied: sniffio in c:\\users\\admin\\appdata\\local\\programs\\python\\python311\\lib\\site-packages (from trio~=0.17->selenium) (1.3.0)\n",
      "Requirement already satisfied: cffi>=1.14 in c:\\users\\admin\\appdata\\local\\programs\\python\\python311\\lib\\site-packages (from trio~=0.17->selenium) (1.15.1)\n",
      "Requirement already satisfied: exceptiongroup in c:\\users\\admin\\appdata\\local\\programs\\python\\python311\\lib\\site-packages (from trio-websocket~=0.9->selenium) (1.1.1)\n",
      "Requirement already satisfied: wsproto>=0.14 in c:\\users\\admin\\appdata\\local\\programs\\python\\python311\\lib\\site-packages (from trio-websocket~=0.9->selenium) (1.2.0)\n",
      "Requirement already satisfied: PySocks!=1.5.7,<2.0,>=1.5.6 in c:\\users\\admin\\appdata\\local\\programs\\python\\python311\\lib\\site-packages (from urllib3[socks]~=1.26->selenium) (1.7.1)\n",
      "Requirement already satisfied: pycparser in c:\\users\\admin\\appdata\\local\\programs\\python\\python311\\lib\\site-packages (from cffi>=1.14->trio~=0.17->selenium) (2.21)\n",
      "Requirement already satisfied: h11<1,>=0.9.0 in c:\\users\\admin\\appdata\\local\\programs\\python\\python311\\lib\\site-packages (from wsproto>=0.14->trio-websocket~=0.9->selenium) (0.14.0)\n"
     ]
    }
   ],
   "source": [
    "!pip install selenium"
   ]
  },
  {
   "cell_type": "code",
   "execution_count": 6,
   "id": "8001f3f7-3cb2-46be-bcce-a5ed7b7368a9",
   "metadata": {
    "tags": []
   },
   "outputs": [],
   "source": [
    "from selenium import webdriver\n",
    "import time"
   ]
  },
  {
   "cell_type": "code",
   "execution_count": 10,
   "id": "fd371767-1ff8-44d2-8825-9ab0cf9f06c5",
   "metadata": {
    "tags": []
   },
   "outputs": [
    {
     "name": "stdout",
     "output_type": "stream",
     "text": [
      "[<ul class=\"quickSearchResultBox\"><li class=\"quickResultLstCon\" data-code=\"9879\" data-hlytag=\"null\" data-index=\"0\" data-lat=\"35.162722\" data-long=\"126.810218\" data-name=\"광주하남\" data-storecd=\"684\" style=\"background:#fff\"> <strong data-my_siren_order_store_yn=\"N\" data-name=\"광주하남\" data-store=\"684\" data-yn=\"N\">광주하남  </strong> <p class=\"result_details\">광주광역시 광산구 사암로216번길 38-16, 1~2층 (우산동)<br/>1522-3232</p> <i class=\"pin_general\">리저브 매장 2번</i></li><li class=\"quickResultLstCon\" data-code=\"3595\" data-hlytag=\"null\" data-index=\"1\" data-lat=\"35.173524\" data-long=\"126.804191\" data-name=\"광주산정DT\" data-storecd=\"1421\" style=\"background:#fff\"> <strong data-my_siren_order_store_yn=\"N\" data-name=\"광주산정DT\" data-store=\"1421\" data-yn=\"N\">광주산정DT  </strong> <p class=\"result_details\">광주광역시 광산구 용아로 342 (산정동)<br/>1522-3232</p> <i class=\"pin_generalDT\">리저브 매장 2번</i></li><li class=\"quickResultLstCon\" data-code=\"3757\" data-hlytag=\"null\" data-index=\"2\" data-lat=\"35.146768\" data-long=\"126.77772\" data-name=\"광주선운DT\" data-storecd=\"1635\" style=\"background:#fff\"> <strong data-my_siren_order_store_yn=\"N\" data-name=\"광주선운DT\" data-store=\"1635\" data-yn=\"N\">광주선운DT  </strong> <p class=\"result_details\">광주광역시 광산구 선운로 20번길 63 <br/>1522-3232</p> <i class=\"pin_generalDT\">리저브 매장 2번</i></li><li class=\"quickResultLstCon\" data-code=\"3363\" data-hlytag=\"null\" data-index=\"3\" data-lat=\"35.138026\" data-long=\"126.791444\" data-name=\"광주송정역\" data-storecd=\"1161\" style=\"background:#fff\"> <strong data-my_siren_order_store_yn=\"N\" data-name=\"광주송정역\" data-store=\"1161\" data-yn=\"N\">광주송정역  </strong> <p class=\"result_details\">광주광역시 광산구 상무대로205번길 6 (송정동)<br/>1522-3232</p> <i class=\"pin_general\">리저브 매장 2번</i></li><li class=\"quickResultLstCon\" data-code=\"3446\" data-hlytag=\"null\" data-index=\"4\" data-lat=\"35.176936\" data-long=\"126.807887\" data-name=\"광주흑석DT\" data-storecd=\"1252\" style=\"background:#fff\"> <strong data-my_siren_order_store_yn=\"N\" data-name=\"광주흑석DT\" data-store=\"1252\" data-yn=\"N\">광주흑석DT  </strong> <p class=\"result_details\">광주광역시 광산구 사암로 367 (산정동)<br/>1522-3232</p> <i class=\"pin_generalDT\">리저브 매장 2번</i></li><li class=\"quickResultLstCon\" data-code=\"4314\" data-hlytag=\"null\" data-index=\"5\" data-lat=\"35.137191435617\" data-long=\"126.791658278605\" data-name=\"광주송정로\" data-storecd=\"2023\" style=\"background:#fff\"> <strong data-my_siren_order_store_yn=\"N\" data-name=\"광주송정로\" data-store=\"2023\" data-yn=\"N\">광주송정로  </strong> <p class=\"result_details\">광주광역시 광산구 상무대로 202 (송정동)<br/>1522-3232</p> <i class=\"pin_general\">리저브 매장 2번</i></li><li class=\"quickResultLstCon\" data-code=\"3621\" data-hlytag=\"null\" data-index=\"6\" data-lat=\"35.175136\" data-long=\"126.818062\" data-name=\"광주운남DT\" data-storecd=\"1440\" style=\"background:#fff\"> <strong data-my_siren_order_store_yn=\"N\" data-name=\"광주운남DT\" data-store=\"1440\" data-yn=\"N\">광주운남DT  </strong> <p class=\"result_details\">광주광역시 광산구 임방울대로 156 (운남동)<br/>1522-3232</p> <i class=\"pin_generalDT\">리저브 매장 2번</i></li><li class=\"quickResultLstCon\" data-code=\"3055\" data-hlytag=\"null\" data-index=\"7\" data-lat=\"35.1790467\" data-long=\"126.8301259\" data-name=\"광주신가DT\" data-storecd=\"878\" style=\"background:#fff\"> <strong data-my_siren_order_store_yn=\"N\" data-name=\"광주신가DT\" data-store=\"878\" data-yn=\"N\">광주신가DT  </strong> <p class=\"result_details\">광주광역시 광산구 목련로 335 (신가동)<br/>1522-3232</p> <i class=\"pin_generalDT\">리저브 매장 2번</i></li><li class=\"quickResultLstCon\" data-code=\"9906\" data-hlytag=\"null\" data-index=\"8\" data-lat=\"35.191469\" data-long=\"126.819259\" data-name=\"광주장덕\" data-storecd=\"713\" style=\"background:#fff\"> <strong data-my_siren_order_store_yn=\"N\" data-name=\"광주장덕\" data-store=\"713\" data-yn=\"N\">광주장덕  </strong> <p class=\"result_details\">광주광역시 광산구 장신로 85 (장덕동)<br/>1522-3232</p> <i class=\"pin_general\">리저브 매장 2번</i></li><li class=\"quickResultLstCon\" data-code=\"9584\" data-hlytag=\"null\" data-index=\"9\" data-lat=\"35.190397\" data-long=\"126.824804\" data-name=\"광산수완\" data-storecd=\"379\" style=\"background:#fff\"> <strong data-my_siren_order_store_yn=\"N\" data-name=\"광산수완\" data-store=\"379\" data-yn=\"N\">광산수완  </strong> <p class=\"result_details\">광주광역시 광산구 장신로 134, 1~2층 (수완동)<br/>1522-3232</p> <i class=\"pin_general\">리저브 매장 2번</i></li></ul>]\n"
     ]
    }
   ],
   "source": [
    "driver = webdriver.Chrome()\n",
    "driver.get(url)\n",
    "# driver.implicitly_wait(10)\n",
    "time.sleep(5)\n",
    "page = driver.page_source\n",
    "soup = BeautifulSoup(page, 'lxml')\n",
    "print(soup.select('ul.quickSearchResultBox'))"
   ]
  },
  {
   "cell_type": "code",
   "execution_count": null,
   "id": "0e7e98a1-169a-4612-aea0-050f929832f6",
   "metadata": {},
   "outputs": [],
   "source": []
  }
 ],
 "metadata": {
  "kernelspec": {
   "display_name": "Python 3 (ipykernel)",
   "language": "python",
   "name": "python3"
  },
  "language_info": {
   "codemirror_mode": {
    "name": "ipython",
    "version": 3
   },
   "file_extension": ".py",
   "mimetype": "text/x-python",
   "name": "python",
   "nbconvert_exporter": "python",
   "pygments_lexer": "ipython3",
   "version": "3.11.1"
  }
 },
 "nbformat": 4,
 "nbformat_minor": 5
}
