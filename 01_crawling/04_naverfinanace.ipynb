{
 "cells": [
  {
   "cell_type": "raw",
   "id": "1f6af3dd-e02f-4850-97d1-fa10877ed520",
   "metadata": {
    "tags": []
   },
   "source": [
    "https://finance.naver.com/marketindex/exchangeList.naver"
   ]
  },
  {
   "cell_type": "code",
   "execution_count": 2,
   "id": "a759dda9-0cd3-483f-95b8-5d06ede0a3df",
   "metadata": {
    "tags": []
   },
   "outputs": [],
   "source": [
    "import requests\n",
    "from bs4 import BeautifulSoup"
   ]
  },
  {
   "cell_type": "code",
   "execution_count": 3,
   "id": "7c388928-ff3c-4e8e-9e20-565a0e94f4af",
   "metadata": {
    "tags": []
   },
   "outputs": [
    {
     "name": "stdout",
     "output_type": "stream",
     "text": [
      "58 58\n",
      "[('미국 USD', 1332.0), ('유럽연합 EUR', 1463.67), ('일본 JPY (100엔)', 993.1), ('중국 CNY', 193.08), ('홍콩 HKD', 169.74), ('대만 TWD', 43.47), ('영국 GBP', 1657.61), ('오만 OMR', 3459.47), ('캐나다 CAD', 983.82), ('스위스 CHF', 1492.6), ('스웨덴 SEK', 129.24), ('호주 AUD', 891.44), ('뉴질랜드 NZD', 817.78), ('체코 CZK', 62.31), ('칠레 CLP', 1.66), ('튀르키예 TRY', 68.66), ('몽골 MNT', 0.38), ('이스라엘 ILS', 363.76), ('덴마크 DKK', 196.42), ('노르웨이 NOK', 125.82), ('사우디아라비아 SAR', 355.14), ('쿠웨이트 KWD', 4348.54), ('바레인 BHD', 3533.81), ('아랍에미리트 AED', 362.67), ('요르단 JOD', 1877.64), ('이집트 EGP', 43.11), ('태국 THB', 38.71), ('싱가포르 SGD', 998.24), ('말레이시아 MYR', 300.17), ('인도네시아 IDR 100', 8.99), ('카타르 QAR', 364.44), ('카자흐스탄 KZT', 2.93), ('브루나이 BND', 998.24), ('인도 INR', 16.23), ('파키스탄 PKR', 4.7), ('방글라데시 BDT', 12.55), ('필리핀 PHP', 23.84), ('멕시코 MXN', 74.02), ('브라질 BRL', 263.8), ('베트남 VND 100', 5.67), ('남아프리카 공화국 ZAR', 73.66), ('러시아 RUB', 16.35), ('헝가리 HUF', 3.89), ('폴란드 PLN', 317.29), ('스리랑카 LKR', 4.16), ('알제리 DZD', 9.83), ('케냐 KES', 9.84), ('콜롬비아 COP', 0.29), ('탄자니아 TZS', 0.57), ('네팔 NPR', 10.14), ('루마니아 RON', 296.51), ('리비아 LYD', 279.64), ('마카오 MOP', 164.71), ('미얀마 MMK', 0.63), ('에티오피아 ETB', 24.44), ('우즈베키스탄 UZS', 0.12), ('캄보디아 KHR', 0.33), ('피지 FJD', 601.07)]\n"
     ]
    }
   ],
   "source": [
    "url = 'https://finance.naver.com/marketindex/exchangeList.naver'\n",
    "r = requests.get(url).text\n",
    "soup = BeautifulSoup(r, 'lxml')\n",
    "name = []\n",
    "price = []\n",
    "\n",
    "data = soup.select('td.tit > a')\n",
    "# print(data)\n",
    "for item in data:\n",
    "    # print(item.string.strip())\n",
    "    name.append(item.string.strip())\n",
    "\n",
    "data = soup.select('td.sale')\n",
    "# print(data)\n",
    "for item in data:\n",
    "    # print(item.string)\n",
    "    price.append(float(item.string.replace(',','')))\n",
    "print(len(name), len(price))\n",
    "items = list(zip(name, price))\n",
    "print(items)"
   ]
  },
  {
   "cell_type": "code",
   "execution_count": 4,
   "id": "45f9608a-2441-42b0-9106-e88e60aaafa0",
   "metadata": {
    "tags": []
   },
   "outputs": [
    {
     "name": "stdout",
     "output_type": "stream",
     "text": [
      "{'미국 USD': 1332.0, '유럽연합 EUR': 1463.67, '일본 JPY (100엔)': 993.1, '중국 CNY': 193.08, '홍콩 HKD': 169.74, '대만 TWD': 43.47, '영국 GBP': 1657.61, '오만 OMR': 3459.47, '캐나다 CAD': 983.82, '스위스 CHF': 1492.6, '스웨덴 SEK': 129.24, '호주 AUD': 891.44, '뉴질랜드 NZD': 817.78, '체코 CZK': 62.31, '칠레 CLP': 1.66, '튀르키예 TRY': 68.66, '몽골 MNT': 0.38, '이스라엘 ILS': 363.76, '덴마크 DKK': 196.42, '노르웨이 NOK': 125.82, '사우디아라비아 SAR': 355.14, '쿠웨이트 KWD': 4348.54, '바레인 BHD': 3533.81, '아랍에미리트 AED': 362.67, '요르단 JOD': 1877.64, '이집트 EGP': 43.11, '태국 THB': 38.71, '싱가포르 SGD': 998.24, '말레이시아 MYR': 300.17, '인도네시아 IDR 100': 8.99, '카타르 QAR': 364.44, '카자흐스탄 KZT': 2.93, '브루나이 BND': 998.24, '인도 INR': 16.23, '파키스탄 PKR': 4.7, '방글라데시 BDT': 12.55, '필리핀 PHP': 23.84, '멕시코 MXN': 74.02, '브라질 BRL': 263.8, '베트남 VND 100': 5.67, '남아프리카 공화국 ZAR': 73.66, '러시아 RUB': 16.35, '헝가리 HUF': 3.89, '폴란드 PLN': 317.29, '스리랑카 LKR': 4.16, '알제리 DZD': 9.83, '케냐 KES': 9.84, '콜롬비아 COP': 0.29, '탄자니아 TZS': 0.57, '네팔 NPR': 10.14, '루마니아 RON': 296.51, '리비아 LYD': 279.64, '마카오 MOP': 164.71, '미얀마 MMK': 0.63, '에티오피아 ETB': 24.44, '우즈베키스탄 UZS': 0.12, '캄보디아 KHR': 0.33, '피지 FJD': 601.07}\n"
     ]
    }
   ],
   "source": [
    "# dic = { name:value for name, value in zip(a, b) }\n",
    "dict1 = {name:price for name, price in zip(name, price)}\n",
    "print(dict1)"
   ]
  },
  {
   "cell_type": "code",
   "execution_count": null,
   "id": "ae524166-352b-415a-ab9d-5473d234d0e7",
   "metadata": {},
   "outputs": [],
   "source": []
  }
 ],
 "metadata": {
  "kernelspec": {
   "display_name": "Python 3 (ipykernel)",
   "language": "python",
   "name": "python3"
  },
  "language_info": {
   "codemirror_mode": {
    "name": "ipython",
    "version": 3
   },
   "file_extension": ".py",
   "mimetype": "text/x-python",
   "name": "python",
   "nbconvert_exporter": "python",
   "pygments_lexer": "ipython3",
   "version": "3.11.1"
  }
 },
 "nbformat": 4,
 "nbformat_minor": 5
}
