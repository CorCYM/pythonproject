{
 "cells": [
  {
   "cell_type": "code",
   "execution_count": 3,
   "id": "e2b98c32-f51d-42fa-b486-736464ac03ce",
   "metadata": {
    "tags": []
   },
   "outputs": [],
   "source": [
    "# 네이버 이미지에서 검색키워드를 입력받아서 검색한 \n",
    "# 다음 이미지 결과에 대해 이미지를 10개정도 다운로드 받아서 img 폴더에 저장하세요"
   ]
  },
  {
   "cell_type": "code",
   "execution_count": 4,
   "id": "c8c946e6-bcc8-4dab-93b2-7ed54a84837d",
   "metadata": {
    "tags": []
   },
   "outputs": [],
   "source": [
    "import requests\n",
    "from urllib import request"
   ]
  },
  {
   "cell_type": "code",
   "execution_count": 5,
   "id": "ed032748-1f79-4b6e-b90a-e53fce465f71",
   "metadata": {
    "tags": []
   },
   "outputs": [],
   "source": [
    "from bs4 import BeautifulSoup"
   ]
  },
  {
   "cell_type": "code",
   "execution_count": null,
   "id": "8061f55f-541b-4ad2-bb0a-cb09bc69d354",
   "metadata": {},
   "outputs": [],
   "source": []
  },
  {
   "cell_type": "code",
   "execution_count": 14,
   "id": "3742ac9d-c983-40bf-a6a0-571790652cff",
   "metadata": {
    "tags": []
   },
   "outputs": [
    {
     "name": "stdin",
     "output_type": "stream",
     "text": [
      "검색어 >>> 봄\n"
     ]
    },
    {
     "name": "stdout",
     "output_type": "stream",
     "text": [
      "url오류\n"
     ]
    }
   ],
   "source": [
    "#https://search.naver.com/search.naver?where=image&sm=tab_jum&query=%EB%B4%84#imgId=image_sas%3Ablog19927970%7C43%7C223031781610_41896100\n",
    "\n",
    "key = input('검색어 >>>')\n",
    "url = 'https://search.naver.com/search.naver'\n",
    "param = {\n",
    "    'where' : 'image',\n",
    "    'sm' : 'tab_jum',\n",
    "    'query' : key\n",
    "}\n",
    "\n",
    "r = requests.get(url, params=param)\n",
    "soup = BeautifulSoup(r.text, 'lxml')\n",
    "result = soup.find_all('img')\n",
    "# print(result)\n",
    "\n",
    "for i, item in enumerate(result):\n",
    "    try:\n",
    "        # print(item['src'])\n",
    "        index = item['src'].index('&')\n",
    "        # print(index)\n",
    "        src = item['src'][:index]\n",
    "        # print(src)\n",
    "        src_list = src.split('.')[-1]\n",
    "        # print(src_list)\n",
    "        request.urlretrieve(src, 'img/'+str(i)+'.'+src_list)\n",
    "    except:\n",
    "        print('url오류')\n"
   ]
  },
  {
   "cell_type": "code",
   "execution_count": null,
   "id": "aff22a49-d2e6-41b0-98ed-28aeb567eed8",
   "metadata": {},
   "outputs": [],
   "source": []
  },
  {
   "cell_type": "code",
   "execution_count": 15,
   "id": "2fd2d596-6ed7-4414-9569-740252555c04",
   "metadata": {
    "tags": []
   },
   "outputs": [],
   "source": [
    "r = requests.get('https://finance.naver.com/marketindex/?tabSel=exchange#tab_section')\n",
    "html_doc = r.text\n",
    "soup = BeautifulSoup(html_doc, 'html.parser')\n"
   ]
  },
  {
   "cell_type": "code",
   "execution_count": null,
   "id": "756c3ce1-8a65-47ee-9063-80522a9a9bbb",
   "metadata": {},
   "outputs": [],
   "source": []
  }
 ],
 "metadata": {
  "kernelspec": {
   "display_name": "Python 3 (ipykernel)",
   "language": "python",
   "name": "python3"
  },
  "language_info": {
   "codemirror_mode": {
    "name": "ipython",
    "version": 3
   },
   "file_extension": ".py",
   "mimetype": "text/x-python",
   "name": "python",
   "nbconvert_exporter": "python",
   "pygments_lexer": "ipython3",
   "version": "3.11.1"
  }
 },
 "nbformat": 4,
 "nbformat_minor": 5
}
