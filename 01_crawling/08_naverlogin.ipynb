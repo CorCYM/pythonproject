{
 "cells": [
  {
   "cell_type": "code",
   "execution_count": 21,
   "id": "995aaf9e-0c49-4170-a4b9-2c957bb6ce55",
   "metadata": {
    "tags": []
   },
   "outputs": [],
   "source": [
    "id = 'mingod1'\n",
    "pw = ''"
   ]
  },
  {
   "cell_type": "code",
   "execution_count": 22,
   "id": "ee30bde7-b7da-4234-bc5f-0ef27d7aa35f",
   "metadata": {
    "tags": []
   },
   "outputs": [],
   "source": [
    "# !pip install pyperclip"
   ]
  },
  {
   "cell_type": "code",
   "execution_count": 23,
   "id": "53fa07d2-04b5-4beb-a4e2-d9f3cc78a6ec",
   "metadata": {
    "tags": []
   },
   "outputs": [],
   "source": [
    "from selenium import webdriver\n",
    "from selenium.webdriver.common.by import By\n",
    "from selenium.webdriver.common.keys import Keys\n",
    "import time\n",
    "import pyperclip"
   ]
  },
  {
   "cell_type": "code",
   "execution_count": 20,
   "id": "8c656f99-b119-4137-b9cf-46beee764344",
   "metadata": {
    "tags": []
   },
   "outputs": [],
   "source": [
    "url = 'https://nid.naver.com/nidlogin.login'\n",
    "driver = webdriver.Chrome()\n",
    "driver.get(url)\n",
    "time.sleep(5)\n",
    "\n",
    "# driver.find_element(By.ID, 'id').send_keys(id)\n",
    "# driver.find_element(By.ID, 'pw').send_keys(pw)\n",
    "\n",
    "# driver.execute_script(\"document.getElementsByName('id')[0].value='\"+id+\"'\")\n",
    "# driver.execute_script(\"document.getElementsByName('pw')[0].value='\"+pw+\"'\")\n",
    "# time.sleep(3)\n",
    "\n",
    "# driver.find_element(By.CLASS_NAME, 'btn_login').click()\n",
    "\n",
    "# driver.find_element(By.XPATH, '//*[@id=\"log.login\"]').click()\n",
    "\n",
    "ele_id = driver.find_element(By.ID, 'id')\n",
    "ele_id.click()\n",
    "pyperclip.copy(id)\n",
    "ele_id.send_keys(Keys.CONTROL,'v')\n",
    "time.sleep(2)\n",
    "\n",
    "ele_pw = driver.find_element(By.ID, 'pw')\n",
    "ele_pw.click()\n",
    "pyperclip.copy(pw)\n",
    "ele_pw.send_keys(Keys.CONTROL,'v')\n",
    "time.sleep(2)\n",
    "\n",
    "driver.find_element(By.XPATH, '//*[@id=\"log.login\"]').click()"
   ]
  },
  {
   "cell_type": "code",
   "execution_count": 11,
   "id": "3cbffbe8-5b6f-4533-bd90-1565f25896cc",
   "metadata": {
    "tags": []
   },
   "outputs": [
    {
     "data": {
      "text/plain": [
       "\"document.getElementsByName('id')[0].value='mingod1'\""
      ]
     },
     "execution_count": 11,
     "metadata": {},
     "output_type": "execute_result"
    }
   ],
   "source": [
    "text = \"document.getElementsByName('id')[0].value='\"+id+\"'\"\n",
    "text"
   ]
  },
  {
   "cell_type": "code",
   "execution_count": 12,
   "id": "df593280-5bea-4aa3-8dab-1c2f561998f0",
   "metadata": {
    "tags": []
   },
   "outputs": [],
   "source": [
    "text2 = \"document.getElementsByName('pw')[0].value='\"+pw+\"'\""
   ]
  },
  {
   "cell_type": "code",
   "execution_count": null,
   "id": "127b166b-fcc5-4102-876b-03a4e5cc714a",
   "metadata": {},
   "outputs": [],
   "source": []
  },
  {
   "cell_type": "code",
   "execution_count": null,
   "id": "9c180c1d-0a4a-4f10-b2b4-127504b009c0",
   "metadata": {},
   "outputs": [],
   "source": []
  }
 ],
 "metadata": {
  "kernelspec": {
   "display_name": "Python 3 (ipykernel)",
   "language": "python",
   "name": "python3"
  },
  "language_info": {
   "codemirror_mode": {
    "name": "ipython",
    "version": 3
   },
   "file_extension": ".py",
   "mimetype": "text/x-python",
   "name": "python",
   "nbconvert_exporter": "python",
   "pygments_lexer": "ipython3",
   "version": "3.11.1"
  }
 },
 "nbformat": 4,
 "nbformat_minor": 5
}
