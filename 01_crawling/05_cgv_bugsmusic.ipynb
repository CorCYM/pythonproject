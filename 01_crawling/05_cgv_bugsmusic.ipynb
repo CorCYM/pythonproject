{
 "cells": [
  {
   "cell_type": "code",
   "execution_count": null,
   "id": "3130d656-53d8-4980-8a88-72f09f970626",
   "metadata": {},
   "outputs": [],
   "source": [
    "## cgv 무비차트 영화제목 크롤링\n",
    "# http://www.cgv.co.kr/movies/?lt=1&ft=0"
   ]
  },
  {
   "cell_type": "code",
   "execution_count": null,
   "id": "174a1b62-5f4b-4039-8217-6774965a5a7a",
   "metadata": {},
   "outputs": [],
   "source": [
    "## 벅스뮤직 벅스차트 곡이름/아티스트 크롤링\n",
    "# https://music.bugs.co.kr/chart"
   ]
  },
  {
   "cell_type": "code",
   "execution_count": 1,
   "id": "479d884e-0cbf-4f52-a0f3-8b0cfbf5014a",
   "metadata": {
    "tags": []
   },
   "outputs": [],
   "source": [
    "import requests\n",
    "from bs4 import BeautifulSoup"
   ]
  },
  {
   "cell_type": "code",
   "execution_count": 2,
   "id": "254524c1-f8a0-4d35-bfad-8cc6b02712b8",
   "metadata": {
    "tags": []
   },
   "outputs": [],
   "source": [
    "url = 'http://www.cgv.co.kr/movies/?lt=1&ft=0'\n",
    "r = requests.get(url).text\n",
    "soup = BeautifulSoup(r, 'lxml')"
   ]
  },
  {
   "cell_type": "code",
   "execution_count": 3,
   "id": "46808eab-22a7-40c1-b70d-ffe072816cdd",
   "metadata": {
    "tags": []
   },
   "outputs": [],
   "source": [
    "data = soup.select('[class~=title]')"
   ]
  },
  {
   "cell_type": "code",
   "execution_count": 8,
   "id": "0592eeab-21b9-4fde-b188-ea517d9e1eaf",
   "metadata": {
    "tags": []
   },
   "outputs": [],
   "source": [
    "moviename = []\n",
    "for i in data:\n",
    "    # print(i)\n",
    "    moviename.append(i.string)"
   ]
  },
  {
   "cell_type": "code",
   "execution_count": 9,
   "id": "eaa81cb1-c04a-4555-94e6-3e1581895fe2",
   "metadata": {
    "tags": []
   },
   "outputs": [
    {
     "name": "stdout",
     "output_type": "stream",
     "text": [
      "['슈퍼 마리오 브라더스', '가디언즈 오브 갤럭시-Volume 3', '드림', '존 윅 4', '옥수역귀신', '스즈메의 문단속', '더 퍼스트 슬램덩크', '리바운드', '인셉션', '킬링 로맨스', '렌필드', '2001 스페이스 오디세이', '블레이드 러너-더 파이널 컷', '라이스보이 슬립스', '거울 속 외딴 성', '극장판 짱구는 못말려-동물소환 닌자 배꼽수비대', '65', '무명', '아머드 사우루스-기계공룡제국의 침략']\n"
     ]
    }
   ],
   "source": [
    "print(moviename)"
   ]
  },
  {
   "cell_type": "code",
   "execution_count": null,
   "id": "f949788c-d3b3-4bc5-93cc-58a0bb1ef512",
   "metadata": {},
   "outputs": [],
   "source": []
  },
  {
   "cell_type": "code",
   "execution_count": 10,
   "id": "adc09c93-8375-49c9-90e5-c8e28d29e46e",
   "metadata": {
    "tags": []
   },
   "outputs": [],
   "source": [
    "url = 'https://music.bugs.co.kr/chart'\n",
    "r = requests.get(url).text\n",
    "soup = BeautifulSoup(r, 'lxml')"
   ]
  },
  {
   "cell_type": "code",
   "execution_count": 11,
   "id": "7c46422e-daa6-479a-9587-3fff8bf968c0",
   "metadata": {
    "tags": []
   },
   "outputs": [],
   "source": [
    "data = soup.select('p.title>a')"
   ]
  },
  {
   "cell_type": "code",
   "execution_count": 12,
   "id": "1332f898-17bb-41b0-a18e-c06e3e3fe5c8",
   "metadata": {
    "tags": []
   },
   "outputs": [
    {
     "name": "stdout",
     "output_type": "stream",
     "text": [
      "['I AM', 'Kitsch', '꽃', 'Cupid', 'Ditto', 'Hype Boy', 'OMG', 'Teddy Bear', '건물 사이에 피어난 장미 (Rose Blossom)', 'Love Me Like This', 'I Don’t Think That I Like Her', 'CHRISTIAN', 'Attention', '사건의 지평선', 'After LIKE', 'LOVE DIVE', '파이팅 해야지 (Feat. 이영지)', 'ANTIFRAGILE', '오르트구름', 'Dangerously', 'When I Get Old', '사랑인가 봐', 'Poppy (Korean Ver.)', 'FRIEND THE END', 'Shut Down', '심(心)', '한 페이지가 될 수 있게', 'Cupid (Twin Ver.)', '밤이 무서워요 (Lonely Night)', 'VIBE (feat. Jimin of BTS)', 'FEARLESS', 'Candy', 'Pink Venom', \"That's Hilarious\", 'STAY', 'ELEVEN', 'Nostalgia', '너의 모든 순간', 'Expectations', 'Cookie', 'TOMBOY', '그라데이션', '다정히 내 이름을 부르면', 'Say I Love You', 'Nxde', 'Monologue', 'WHEN I MOVE', 'Chase Love Hard (Feat. 황민현)', '사람 Pt.2 (feat. 아이유)', '정이라고 하자 (Feat. 10CM)', 'That’s Not How This Works (feat. Dan + Shay)', 'Unholy', 'Off My Face', '새삥 (Prod. ZICO) (Feat. 호미들)', '빛이 나는 너에게', '취중고백', 'Feel My Rhythm', '나의 X에게', 'Rush Hour (Feat. j-hope of BTS)', '사랑은 늘 도망가', 'strawberry moon', 'Say My Name', '드라마', 'Blue Blood', '모든 날, 모든 순간 (Every day, Every Moment)', '해요 (2022)', 'Love story', 'LOVE me', '주저하는 연인들을 위해', '헤어지자 말해요', 'Dynamite', '그때 그 순간 그대로 (그그그)', '봄여름가을겨울 (Still Life)', 'Zero', '친구로 지내다 보면 (Feat. 김민석 of 멜로망스)', '자격지심 (Feat. ZICO)', 'Dreamers [Music from the FIFA World Cup Qatar 2022 Official Soundtrack] (feat. FIFA Sound)', 'NOT SORRY (Feat. pH-1) (Prod. by Slom)', 'Higher', 'Young, Dumb, Stupid', 'INVU', 'Perfume', '딱 10CM만', '사랑하기 싫어', 'Left and Right (Feat. Jung Kook of BTS)', 'Anti-Hero', '그댄 행복에 살텐데 (2022)', 'Made You Look', 'Impurities', 'Next Level', '보고싶었어', '내가 아니라도', '도깨비불 (Illusion)', 'Hurt', '우린 그렇게 사랑해서', 'Lips', 'KNOCK', 'Like Crazy', '봄날', 'Rising']\n"
     ]
    }
   ],
   "source": [
    "songlist = []\n",
    "for link in data:\n",
    "    songlist.append(link.text)\n",
    "print(songlist)"
   ]
  },
  {
   "cell_type": "code",
   "execution_count": 13,
   "id": "d7fc3a42-04fe-4e43-a4a4-f277bb58d9f4",
   "metadata": {
    "tags": []
   },
   "outputs": [],
   "source": [
    "data = soup.select('p.artist>a')"
   ]
  },
  {
   "cell_type": "code",
   "execution_count": 14,
   "id": "3e5aedb0-31bd-44d9-98b5-03ac666e50f6",
   "metadata": {
    "tags": []
   },
   "outputs": [
    {
     "name": "stdout",
     "output_type": "stream",
     "text": [
      "['IVE (아이브)', 'IVE (아이브)', '지수(JISOO)', 'FIFTY FIFTY', 'NewJeans', 'NewJeans', 'NewJeans', 'STAYC(스테이씨)', 'H1-KEY (하이키)', 'NMIXX', 'Charlie Puth(찰리 푸스)', '지올팍(Zior Park)', 'NewJeans', '윤하(Younha/ユンナ)', 'IVE (아이브)', 'IVE (아이브)', '부석순(SEVENTEEN)', 'LE SSERAFIM (르세라핌)', '윤하(Younha/ユンナ)', 'Charlie Puth(찰리 푸스)', 'Christopher(크리스토퍼)', '\\r\\nChristopher(크리스토퍼)\\r\\n', '멜로망스(MeloMance)', 'STAYC(스테이씨)', '볼빨간사춘기', 'BLACKPINK', 'DK(디셈버)', 'DAY6 (데이식스)', 'FIFTY FIFTY', '주주 시크릿', '태양', 'LE SSERAFIM (르세라핌)', 'NCT DREAM', 'BLACKPINK', 'Charlie Puth(찰리 푸스)', 'The Kid LAROI', '\\r\\nThe Kid LAROI\\r\\n', 'IVE (아이브)', '우디(Woody)', '성시경', 'Anne-Marie(앤 마리)', '\\r\\nAnne-Marie(앤 마리)\\r\\n', 'NewJeans', '(여자)아이들', '10CM', '경서예지', '\\r\\n경서예지\\r\\n', '우디(Woody)', '(여자)아이들', '테이(Tei)', '카라(Kara)', '볼빨간사춘기', 'Agust D', 'BIG Naughty (서동현)', 'Charlie Puth(찰리 푸스)', 'Sam Smith(샘 스미스)', '\\r\\nSam Smith(샘 스미스)\\r\\n', 'Justin Bieber(저스틴 비버)', '지코 (ZICO)', '던 (DAWN)', '김민석 (멜로망스)', 'Red Velvet (레드벨벳)', '경서', 'Crush', '임영웅', '아이유(IU)', 'Say Yes!', '아이유(IU)', 'IVE (아이브)', '폴킴(Paul Kim)', '#안녕', '볼빨간사춘기', \"BE'O (비오)\", '잔나비', '박재정', '방탄소년단', 'WSG워너비 (가야G)', 'BIGBANG (빅뱅)', 'NewJeans', 'BIG Naughty (서동현)', \"BE'O (비오)\", '정국', '\\r\\n정국\\r\\n', '이영지', 'FIFTY FIFTY', 'NMIXX', '태연 (TAEYEON)', 'NCT 도재정', '10CM', '\\r\\n10CM\\r\\n', '지아(Zia)', 'Charlie Puth(찰리 푸스)', '\\r\\nCharlie Puth(찰리 푸스)\\r\\n', 'Taylor Swift(테일러 스위프트)', '최유리', 'Meghan Trainor(메간 트레이너)', 'LE SSERAFIM (르세라핌)', 'aespa', 'WSG워너비(4FIRE)', '주호', 'aespa', 'NewJeans', '강민경', '\\r\\n강민경\\r\\n', 'IVE (아이브)', '이채연', '지민', '방탄소년단', 'tripleS (트리플에스)']\n"
     ]
    }
   ],
   "source": [
    "artist = []\n",
    "for link in data:\n",
    "    artist.append(link.text)\n",
    "print(artist)"
   ]
  },
  {
   "cell_type": "code",
   "execution_count": 15,
   "id": "a3123e7e-aa96-4914-bdd1-5a872ca2b9e9",
   "metadata": {
    "tags": []
   },
   "outputs": [],
   "source": [
    "data2 = soup.select('a.more')"
   ]
  },
  {
   "cell_type": "code",
   "execution_count": 16,
   "id": "85506c05-57ed-4ce3-98ec-96c96ea3cc89",
   "metadata": {
    "tags": []
   },
   "outputs": [],
   "source": [
    "for j in data2:\n",
    "    artist.remove(j.text)"
   ]
  },
  {
   "cell_type": "code",
   "execution_count": 17,
   "id": "1422d666-4e37-4567-8de9-ae4a455bc169",
   "metadata": {
    "tags": []
   },
   "outputs": [],
   "source": [
    "bugslist = list(zip(songlist, artist))"
   ]
  },
  {
   "cell_type": "code",
   "execution_count": 18,
   "id": "8bfc02ab-af2a-44b5-847b-5b54714d097b",
   "metadata": {
    "tags": []
   },
   "outputs": [
    {
     "name": "stdout",
     "output_type": "stream",
     "text": [
      "[('I AM', 'IVE (아이브)'), ('Kitsch', 'IVE (아이브)'), ('꽃', '지수(JISOO)'), ('Cupid', 'FIFTY FIFTY'), ('Ditto', 'NewJeans'), ('Hype Boy', 'NewJeans'), ('OMG', 'NewJeans'), ('Teddy Bear', 'STAYC(스테이씨)'), ('건물 사이에 피어난 장미 (Rose Blossom)', 'H1-KEY (하이키)'), ('Love Me Like This', 'NMIXX'), ('I Don’t Think That I Like Her', 'Charlie Puth(찰리 푸스)'), ('CHRISTIAN', '지올팍(Zior Park)'), ('Attention', 'NewJeans'), ('사건의 지평선', '윤하(Younha/ユンナ)'), ('After LIKE', 'IVE (아이브)'), ('LOVE DIVE', 'IVE (아이브)'), ('파이팅 해야지 (Feat. 이영지)', '부석순(SEVENTEEN)'), ('ANTIFRAGILE', 'LE SSERAFIM (르세라핌)'), ('오르트구름', '윤하(Younha/ユンナ)'), ('Dangerously', 'Charlie Puth(찰리 푸스)'), ('When I Get Old', 'Christopher(크리스토퍼)'), ('사랑인가 봐', '멜로망스(MeloMance)'), ('Poppy (Korean Ver.)', 'STAYC(스테이씨)'), ('FRIEND THE END', '볼빨간사춘기'), ('Shut Down', 'BLACKPINK'), ('심(心)', 'DK(디셈버)'), ('한 페이지가 될 수 있게', 'DAY6 (데이식스)'), ('Cupid (Twin Ver.)', 'FIFTY FIFTY'), ('밤이 무서워요 (Lonely Night)', '주주 시크릿'), ('VIBE (feat. Jimin of BTS)', '태양'), ('FEARLESS', 'LE SSERAFIM (르세라핌)'), ('Candy', 'NCT DREAM'), ('Pink Venom', 'BLACKPINK'), (\"That's Hilarious\", 'Charlie Puth(찰리 푸스)'), ('STAY', 'The Kid LAROI'), ('ELEVEN', 'IVE (아이브)'), ('Nostalgia', '우디(Woody)'), ('너의 모든 순간', '성시경'), ('Expectations', 'Anne-Marie(앤 마리)'), ('Cookie', 'NewJeans'), ('TOMBOY', '(여자)아이들'), ('그라데이션', '10CM'), ('다정히 내 이름을 부르면', '경서예지'), ('Say I Love You', '우디(Woody)'), ('Nxde', '(여자)아이들'), ('Monologue', '테이(Tei)'), ('WHEN I MOVE', '카라(Kara)'), ('Chase Love Hard (Feat. 황민현)', '볼빨간사춘기'), ('사람 Pt.2 (feat. 아이유)', 'Agust D'), ('정이라고 하자 (Feat. 10CM)', 'BIG Naughty (서동현)'), ('That’s Not How This Works (feat. Dan + Shay)', 'Charlie Puth(찰리 푸스)'), ('Unholy', 'Sam Smith(샘 스미스)'), ('Off My Face', 'Justin Bieber(저스틴 비버)'), ('새삥 (Prod. ZICO) (Feat. 호미들)', '지코 (ZICO)'), ('빛이 나는 너에게', '던 (DAWN)'), ('취중고백', '김민석 (멜로망스)'), ('Feel My Rhythm', 'Red Velvet (레드벨벳)'), ('나의 X에게', '경서'), ('Rush Hour (Feat. j-hope of BTS)', 'Crush'), ('사랑은 늘 도망가', '임영웅'), ('strawberry moon', '아이유(IU)'), ('Say My Name', 'Say Yes!'), ('드라마', '아이유(IU)'), ('Blue Blood', 'IVE (아이브)'), ('모든 날, 모든 순간 (Every day, Every Moment)', '폴킴(Paul Kim)'), ('해요 (2022)', '#안녕'), ('Love story', '볼빨간사춘기'), ('LOVE me', \"BE'O (비오)\"), ('주저하는 연인들을 위해', '잔나비'), ('헤어지자 말해요', '박재정'), ('Dynamite', '방탄소년단'), ('그때 그 순간 그대로 (그그그)', 'WSG워너비 (가야G)'), ('봄여름가을겨울 (Still Life)', 'BIGBANG (빅뱅)'), ('Zero', 'NewJeans'), ('친구로 지내다 보면 (Feat. 김민석 of 멜로망스)', 'BIG Naughty (서동현)'), ('자격지심 (Feat. ZICO)', \"BE'O (비오)\"), ('Dreamers [Music from the FIFA World Cup Qatar 2022 Official Soundtrack] (feat. FIFA Sound)', '정국'), ('NOT SORRY (Feat. pH-1) (Prod. by Slom)', '이영지'), ('Higher', 'FIFTY FIFTY'), ('Young, Dumb, Stupid', 'NMIXX'), ('INVU', '태연 (TAEYEON)'), ('Perfume', 'NCT 도재정'), ('딱 10CM만', '10CM'), ('사랑하기 싫어', '지아(Zia)'), ('Left and Right (Feat. Jung Kook of BTS)', 'Charlie Puth(찰리 푸스)'), ('Anti-Hero', 'Taylor Swift(테일러 스위프트)'), ('그댄 행복에 살텐데 (2022)', '최유리'), ('Made You Look', 'Meghan Trainor(메간 트레이너)'), ('Impurities', 'LE SSERAFIM (르세라핌)'), ('Next Level', 'aespa'), ('보고싶었어', 'WSG워너비(4FIRE)'), ('내가 아니라도', '주호'), ('도깨비불 (Illusion)', 'aespa'), ('Hurt', 'NewJeans'), ('우린 그렇게 사랑해서', '강민경'), ('Lips', 'IVE (아이브)'), ('KNOCK', '이채연'), ('Like Crazy', '지민'), ('봄날', '방탄소년단'), ('Rising', 'tripleS (트리플에스)')]\n"
     ]
    }
   ],
   "source": [
    "print(bugslist)"
   ]
  },
  {
   "cell_type": "code",
   "execution_count": null,
   "id": "31e0f663-96eb-47d5-8385-b9ffadef5d60",
   "metadata": {},
   "outputs": [],
   "source": []
  },
  {
   "cell_type": "code",
   "execution_count": 19,
   "id": "c76a00a5-c825-4604-99ac-8182fa2d19b2",
   "metadata": {
    "tags": []
   },
   "outputs": [],
   "source": [
    "from urllib import request\n",
    "from bs4 import BeautifulSoup"
   ]
  },
  {
   "cell_type": "code",
   "execution_count": 20,
   "id": "acd2a1e3-8405-4113-890a-98a4695b69a4",
   "metadata": {
    "tags": []
   },
   "outputs": [
    {
     "name": "stdout",
     "output_type": "stream",
     "text": [
      "존 윅 4\n",
      "옥수역귀신\n",
      "스즈메의 문단속\n",
      "더 퍼스트 슬램덩크\n",
      "리바운드\n",
      "인셉션\n",
      "킬링 로맨스\n",
      "렌필드\n",
      "라이스보이 슬립스\n",
      "거울 속 외딴 성\n",
      "65\n",
      "아머드 사우루스-기계공룡제국의 침략\n",
      "콜드플레이 뮤직 오브 더 스피어스 라이브 앳 리버 플레이트\n",
      "레디 플레이어 원\n",
      "차이콥스키의 아내\n",
      "내 아내 이야기\n",
      "조이랜드\n",
      "카구야 님은 고백받고 싶어 -첫 키스는 끝나지 않아-\n",
      "아임 히어로 더 파이널\n"
     ]
    }
   ],
   "source": [
    "url = 'http://www.cgv.co.kr/movies/'\n",
    "response = request.urlopen(url)\n",
    "soup = BeautifulSoup(response, 'lxml')\n",
    "# print(soup)\n",
    "result = soup.select('strong.title')\n",
    "# print(result)\n",
    "for item in result:\n",
    "    # print(item.string)\n",
    "    print(item.text)"
   ]
  },
  {
   "cell_type": "code",
   "execution_count": null,
   "id": "5a9b4ed8-9bde-4c6e-b7ec-dd1eae81bcc2",
   "metadata": {
    "tags": []
   },
   "outputs": [],
   "source": []
  },
  {
   "cell_type": "code",
   "execution_count": 21,
   "id": "46aae9d0-8c72-4f6b-8fac-a545b724427c",
   "metadata": {
    "tags": []
   },
   "outputs": [],
   "source": [
    "from urllib import request\n",
    "from bs4 import BeautifulSoup"
   ]
  },
  {
   "cell_type": "code",
   "execution_count": 22,
   "id": "50432ef0-a961-4d1d-960c-bf5ac40cde3c",
   "metadata": {
    "tags": []
   },
   "outputs": [],
   "source": [
    "url = 'https://music.bugs.co.kr/chart'\n",
    "response = request.urlopen(url)\n",
    "soup = BeautifulSoup(response, 'lxml')\n",
    "\n",
    "title_list = []\n",
    "artist_list = []\n",
    "\n",
    "title = soup.select('p.title > a')\n",
    "# print(title)\n",
    "for item in title:\n",
    "    # print(item.string)\n",
    "    title_list.append(item.string)\n",
    "    \n",
    "artist = soup.select('p.artist')\n",
    "for item in artist:\n",
    "    # print(item.string)\n",
    "    # print(item.text.strip())\n",
    "    # print('--------------')\n",
    "    # artist_list.append(item.string)\n",
    "    artist_list.append(item.text.strip())"
   ]
  },
  {
   "cell_type": "code",
   "execution_count": 23,
   "id": "4316b9b7-2fa3-4c4d-927a-8f5cb26aac4d",
   "metadata": {
    "tags": []
   },
   "outputs": [
    {
     "data": {
      "text/plain": [
       "(100, 100)"
      ]
     },
     "execution_count": 23,
     "metadata": {},
     "output_type": "execute_result"
    }
   ],
   "source": [
    "len(title_list), len(artist_list)"
   ]
  },
  {
   "cell_type": "code",
   "execution_count": 24,
   "id": "e7f6cdd3-a337-4300-a750-1cf231695d03",
   "metadata": {
    "collapsed": true,
    "jupyter": {
     "outputs_hidden": true
    },
    "tags": []
   },
   "outputs": [
    {
     "data": {
      "text/plain": [
       "['IVE (아이브)',\n",
       " 'IVE (아이브)',\n",
       " '지수(JISOO)',\n",
       " 'FIFTY FIFTY',\n",
       " 'NewJeans',\n",
       " 'NewJeans',\n",
       " 'NewJeans',\n",
       " 'STAYC(스테이씨)',\n",
       " 'H1-KEY (하이키)',\n",
       " 'NMIXX',\n",
       " 'Charlie Puth(찰리 푸스)',\n",
       " '지올팍(Zior Park)',\n",
       " 'NewJeans',\n",
       " '윤하(Younha/ユンナ)',\n",
       " 'IVE (아이브)',\n",
       " 'IVE (아이브)',\n",
       " '부석순(SEVENTEEN)',\n",
       " 'LE SSERAFIM (르세라핌)',\n",
       " '윤하(Younha/ユンナ)',\n",
       " 'Charlie Puth(찰리 푸스)',\n",
       " 'Christopher(크리스토퍼)\\n\\n\\r\\nChristopher(크리스토퍼)',\n",
       " '멜로망스(MeloMance)',\n",
       " 'STAYC(스테이씨)',\n",
       " '볼빨간사춘기',\n",
       " 'BLACKPINK',\n",
       " 'DK(디셈버)',\n",
       " 'DAY6 (데이식스)',\n",
       " 'FIFTY FIFTY',\n",
       " '주주 시크릿',\n",
       " '태양',\n",
       " 'LE SSERAFIM (르세라핌)',\n",
       " 'NCT DREAM',\n",
       " 'BLACKPINK',\n",
       " 'Charlie Puth(찰리 푸스)',\n",
       " 'The Kid LAROI\\n\\n\\r\\nThe Kid LAROI',\n",
       " 'IVE (아이브)',\n",
       " '우디(Woody)',\n",
       " '성시경',\n",
       " 'Anne-Marie(앤 마리)\\n\\n\\r\\nAnne-Marie(앤 마리)',\n",
       " 'NewJeans',\n",
       " '(여자)아이들',\n",
       " '10CM',\n",
       " '경서예지\\n\\n\\r\\n경서예지',\n",
       " '우디(Woody)',\n",
       " '(여자)아이들',\n",
       " '테이(Tei)',\n",
       " '카라(Kara)',\n",
       " '볼빨간사춘기',\n",
       " 'Agust D',\n",
       " 'BIG Naughty (서동현)',\n",
       " 'Charlie Puth(찰리 푸스)',\n",
       " 'Sam Smith(샘 스미스)\\n\\n\\r\\nSam Smith(샘 스미스)',\n",
       " 'Justin Bieber(저스틴 비버)',\n",
       " '지코 (ZICO)',\n",
       " '던 (DAWN)',\n",
       " '김민석 (멜로망스)',\n",
       " 'Red Velvet (레드벨벳)',\n",
       " '경서',\n",
       " 'Crush',\n",
       " '임영웅',\n",
       " '아이유(IU)',\n",
       " 'Say Yes!',\n",
       " '아이유(IU)',\n",
       " 'IVE (아이브)',\n",
       " '폴킴(Paul Kim)',\n",
       " '#안녕',\n",
       " '볼빨간사춘기',\n",
       " \"BE'O (비오)\",\n",
       " '잔나비',\n",
       " '박재정',\n",
       " '방탄소년단',\n",
       " 'WSG워너비 (가야G)',\n",
       " 'BIGBANG (빅뱅)',\n",
       " 'NewJeans',\n",
       " 'BIG Naughty (서동현)',\n",
       " \"BE'O (비오)\",\n",
       " '정국\\n\\n\\r\\n정국',\n",
       " '이영지',\n",
       " 'FIFTY FIFTY',\n",
       " 'NMIXX',\n",
       " '태연 (TAEYEON)',\n",
       " 'NCT 도재정',\n",
       " '10CM\\n\\n\\r\\n10CM',\n",
       " '지아(Zia)',\n",
       " 'Charlie Puth(찰리 푸스)\\n\\n\\r\\nCharlie Puth(찰리 푸스)',\n",
       " 'Taylor Swift(테일러 스위프트)',\n",
       " '최유리',\n",
       " 'Meghan Trainor(메간 트레이너)',\n",
       " 'LE SSERAFIM (르세라핌)',\n",
       " 'aespa',\n",
       " 'WSG워너비(4FIRE)',\n",
       " '주호',\n",
       " 'aespa',\n",
       " 'NewJeans',\n",
       " '강민경\\n\\n\\r\\n강민경',\n",
       " 'IVE (아이브)',\n",
       " '이채연',\n",
       " '지민',\n",
       " '방탄소년단',\n",
       " 'tripleS (트리플에스)']"
      ]
     },
     "execution_count": 24,
     "metadata": {},
     "output_type": "execute_result"
    }
   ],
   "source": [
    "artist_list"
   ]
  },
  {
   "cell_type": "code",
   "execution_count": 29,
   "id": "e73537a7-42bf-43f1-8ff2-a5b7e57b153d",
   "metadata": {
    "tags": []
   },
   "outputs": [],
   "source": [
    "artist_list_final = []\n",
    "for item in artist_list:\n",
    "    # print(item)\n",
    "    # print(item.replace('\\n\\n\\r\\n',','))\n",
    "    artist_list_final.append(item.replace('\\n\\n\\r\\n',',').split(',')[0])"
   ]
  },
  {
   "cell_type": "code",
   "execution_count": null,
   "id": "5db48437-d63f-4fcf-89d3-9ef661aba903",
   "metadata": {},
   "outputs": [],
   "source": []
  },
  {
   "cell_type": "code",
   "execution_count": 30,
   "id": "418f5e2f-76c3-404b-936d-e0c0bb4d59a6",
   "metadata": {
    "collapsed": true,
    "jupyter": {
     "outputs_hidden": true
    },
    "tags": []
   },
   "outputs": [
    {
     "name": "stdout",
     "output_type": "stream",
     "text": [
      "[('I AM', 'IVE (아이브)'), ('Kitsch', 'IVE (아이브)'), ('꽃', '지수(JISOO)'), ('Cupid', 'FIFTY FIFTY'), ('Ditto', 'NewJeans'), ('Hype Boy', 'NewJeans'), ('OMG', 'NewJeans'), ('Teddy Bear', 'STAYC(스테이씨)'), ('건물 사이에 피어난 장미 (Rose Blossom)', 'H1-KEY (하이키)'), ('Love Me Like This', 'NMIXX'), ('I Don’t Think That I Like Her', 'Charlie Puth(찰리 푸스)'), ('CHRISTIAN', '지올팍(Zior Park)'), ('Attention', 'NewJeans'), ('사건의 지평선', '윤하(Younha/ユンナ)'), ('After LIKE', 'IVE (아이브)'), ('LOVE DIVE', 'IVE (아이브)'), ('파이팅 해야지 (Feat. 이영지)', '부석순(SEVENTEEN)'), ('ANTIFRAGILE', 'LE SSERAFIM (르세라핌)'), ('오르트구름', '윤하(Younha/ユンナ)'), ('Dangerously', 'Charlie Puth(찰리 푸스)'), ('When I Get Old', 'Christopher(크리스토퍼)'), ('사랑인가 봐', '멜로망스(MeloMance)'), ('Poppy (Korean Ver.)', 'STAYC(스테이씨)'), ('FRIEND THE END', '볼빨간사춘기'), ('Shut Down', 'BLACKPINK'), ('심(心)', 'DK(디셈버)'), ('한 페이지가 될 수 있게', 'DAY6 (데이식스)'), ('Cupid (Twin Ver.)', 'FIFTY FIFTY'), ('밤이 무서워요 (Lonely Night)', '주주 시크릿'), ('VIBE (feat. Jimin of BTS)', '태양'), ('FEARLESS', 'LE SSERAFIM (르세라핌)'), ('Candy', 'NCT DREAM'), ('Pink Venom', 'BLACKPINK'), (\"That's Hilarious\", 'Charlie Puth(찰리 푸스)'), ('STAY', 'The Kid LAROI'), ('ELEVEN', 'IVE (아이브)'), ('Nostalgia', '우디(Woody)'), ('너의 모든 순간', '성시경'), ('Expectations', 'Anne-Marie(앤 마리)'), ('Cookie', 'NewJeans'), ('TOMBOY', '(여자)아이들'), ('그라데이션', '10CM'), ('다정히 내 이름을 부르면', '경서예지'), ('Say I Love You', '우디(Woody)'), ('Nxde', '(여자)아이들'), ('Monologue', '테이(Tei)'), ('WHEN I MOVE', '카라(Kara)'), ('Chase Love Hard (Feat. 황민현)', '볼빨간사춘기'), ('사람 Pt.2 (feat. 아이유)', 'Agust D'), ('정이라고 하자 (Feat. 10CM)', 'BIG Naughty (서동현)'), ('That’s Not How This Works (feat. Dan + Shay)', 'Charlie Puth(찰리 푸스)'), ('Unholy', 'Sam Smith(샘 스미스)'), ('Off My Face', 'Justin Bieber(저스틴 비버)'), ('새삥 (Prod. ZICO) (Feat. 호미들)', '지코 (ZICO)'), ('빛이 나는 너에게', '던 (DAWN)'), ('취중고백', '김민석 (멜로망스)'), ('Feel My Rhythm', 'Red Velvet (레드벨벳)'), ('나의 X에게', '경서'), ('Rush Hour (Feat. j-hope of BTS)', 'Crush'), ('사랑은 늘 도망가', '임영웅'), ('strawberry moon', '아이유(IU)'), ('Say My Name', 'Say Yes!'), ('드라마', '아이유(IU)'), ('Blue Blood', 'IVE (아이브)'), ('모든 날, 모든 순간 (Every day, Every Moment)', '폴킴(Paul Kim)'), ('해요 (2022)', '#안녕'), ('Love story', '볼빨간사춘기'), ('LOVE me', \"BE'O (비오)\"), ('주저하는 연인들을 위해', '잔나비'), ('헤어지자 말해요', '박재정'), ('Dynamite', '방탄소년단'), ('그때 그 순간 그대로 (그그그)', 'WSG워너비 (가야G)'), ('봄여름가을겨울 (Still Life)', 'BIGBANG (빅뱅)'), ('Zero', 'NewJeans'), ('친구로 지내다 보면 (Feat. 김민석 of 멜로망스)', 'BIG Naughty (서동현)'), ('자격지심 (Feat. ZICO)', \"BE'O (비오)\"), ('Dreamers [Music from the FIFA World Cup Qatar 2022 Official Soundtrack] (feat. FIFA Sound)', '정국'), ('NOT SORRY (Feat. pH-1) (Prod. by Slom)', '이영지'), ('Higher', 'FIFTY FIFTY'), ('Young, Dumb, Stupid', 'NMIXX'), ('INVU', '태연 (TAEYEON)'), ('Perfume', 'NCT 도재정'), ('딱 10CM만', '10CM'), ('사랑하기 싫어', '지아(Zia)'), ('Left and Right (Feat. Jung Kook of BTS)', 'Charlie Puth(찰리 푸스)'), ('Anti-Hero', 'Taylor Swift(테일러 스위프트)'), ('그댄 행복에 살텐데 (2022)', '최유리'), ('Made You Look', 'Meghan Trainor(메간 트레이너)'), ('Impurities', 'LE SSERAFIM (르세라핌)'), ('Next Level', 'aespa'), ('보고싶었어', 'WSG워너비(4FIRE)'), ('내가 아니라도', '주호'), ('도깨비불 (Illusion)', 'aespa'), ('Hurt', 'NewJeans'), ('우린 그렇게 사랑해서', '강민경'), ('Lips', 'IVE (아이브)'), ('KNOCK', '이채연'), ('Like Crazy', '지민'), ('봄날', '방탄소년단'), ('Rising', 'tripleS (트리플에스)')]\n"
     ]
    }
   ],
   "source": [
    "result = list(zip(title_list, artist_list_final))\n",
    "print(result)"
   ]
  },
  {
   "cell_type": "code",
   "execution_count": null,
   "id": "28e31979-e703-4846-b88e-1d3e9ac0da91",
   "metadata": {},
   "outputs": [],
   "source": []
  },
  {
   "cell_type": "code",
   "execution_count": null,
   "id": "d2380030-9a45-4ce5-8d77-6ed8638f6f46",
   "metadata": {},
   "outputs": [],
   "source": []
  },
  {
   "cell_type": "code",
   "execution_count": null,
   "id": "20c98668-df68-4764-8c5a-1b6834cc1d30",
   "metadata": {},
   "outputs": [],
   "source": []
  }
 ],
 "metadata": {
  "kernelspec": {
   "display_name": "Python 3 (ipykernel)",
   "language": "python",
   "name": "python3"
  },
  "language_info": {
   "codemirror_mode": {
    "name": "ipython",
    "version": 3
   },
   "file_extension": ".py",
   "mimetype": "text/x-python",
   "name": "python",
   "nbconvert_exporter": "python",
   "pygments_lexer": "ipython3",
   "version": "3.11.1"
  }
 },
 "nbformat": 4,
 "nbformat_minor": 5
}
