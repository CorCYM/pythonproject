{
 "cells": [
  {
   "cell_type": "code",
   "execution_count": null,
   "id": "3130d656-53d8-4980-8a88-72f09f970626",
   "metadata": {},
   "outputs": [],
   "source": [
    "## cgv 무비차트 영화제목 크롤링\n",
    "# http://www.cgv.co.kr/movies/?lt=1&ft=0"
   ]
  },
  {
   "cell_type": "code",
   "execution_count": null,
   "id": "174a1b62-5f4b-4039-8217-6774965a5a7a",
   "metadata": {},
   "outputs": [],
   "source": [
    "## 벅스뮤직 벅스차트 곡이름/아티스트 크롤링\n",
    "# https://music.bugs.co.kr/chart"
   ]
  },
  {
   "cell_type": "code",
   "execution_count": 53,
   "id": "479d884e-0cbf-4f52-a0f3-8b0cfbf5014a",
   "metadata": {
    "tags": []
   },
   "outputs": [],
   "source": [
    "import requests\n",
    "from bs4 import BeautifulSoup"
   ]
  },
  {
   "cell_type": "code",
   "execution_count": 54,
   "id": "254524c1-f8a0-4d35-bfad-8cc6b02712b8",
   "metadata": {
    "tags": []
   },
   "outputs": [],
   "source": [
    "url = 'http://www.cgv.co.kr/movies/?lt=1&ft=0'\n",
    "r = requests.get(url).text\n",
    "soup = BeautifulSoup(r, 'lxml')"
   ]
  },
  {
   "cell_type": "code",
   "execution_count": 55,
   "id": "46808eab-22a7-40c1-b70d-ffe072816cdd",
   "metadata": {
    "tags": []
   },
   "outputs": [],
   "source": [
    "data = soup.select('[class~=title]')"
   ]
  },
  {
   "cell_type": "code",
   "execution_count": 56,
   "id": "0592eeab-21b9-4fde-b188-ea517d9e1eaf",
   "metadata": {
    "tags": []
   },
   "outputs": [],
   "source": [
    "moviename = []\n",
    "for i in data:\n",
    "    moviename.append(i.string)"
   ]
  },
  {
   "cell_type": "code",
   "execution_count": 57,
   "id": "eaa81cb1-c04a-4555-94e6-3e1581895fe2",
   "metadata": {
    "tags": []
   },
   "outputs": [
    {
     "name": "stdout",
     "output_type": "stream",
     "text": [
      "['더 퍼스트 슬램덩크', '존 윅 4', '스즈메의 문단속', '리바운드', '에어', '던전 앤 드래곤-도적들의 명예', '2023 LCK 스프링 결승', '카구야 님은 고백받고 싶어 -첫 키스는 끝나지 않아-', '오글리스-웰컴 투 냄새 마을', '아임 히어로 더 파이널', '파벨만스', '10-FEET 라이브 이벤트', '오토라는 남자', '웅남이', '찬란한 나의 복수', '상견니', '엘 카미노', '흐르다', '귀멸의 칼날-상현집결, 그리고 도공 마을로']\n"
     ]
    }
   ],
   "source": [
    "print(moviename)"
   ]
  },
  {
   "cell_type": "code",
   "execution_count": null,
   "id": "f949788c-d3b3-4bc5-93cc-58a0bb1ef512",
   "metadata": {},
   "outputs": [],
   "source": []
  },
  {
   "cell_type": "code",
   "execution_count": 75,
   "id": "adc09c93-8375-49c9-90e5-c8e28d29e46e",
   "metadata": {
    "tags": []
   },
   "outputs": [],
   "source": [
    "url = 'https://music.bugs.co.kr/chart'\n",
    "r = requests.get(url).text\n",
    "soup = BeautifulSoup(r, 'lxml')"
   ]
  },
  {
   "cell_type": "code",
   "execution_count": 76,
   "id": "7c46422e-daa6-479a-9587-3fff8bf968c0",
   "metadata": {
    "tags": []
   },
   "outputs": [],
   "source": [
    "data = soup.select('p.title>a')"
   ]
  },
  {
   "cell_type": "code",
   "execution_count": 77,
   "id": "1332f898-17bb-41b0-a18e-c06e3e3fe5c8",
   "metadata": {
    "tags": []
   },
   "outputs": [
    {
     "name": "stdout",
     "output_type": "stream",
     "text": [
      "['Kitsch', '꽃', 'Ditto', 'Teddy Bear', 'Hype Boy', 'Love Me Like This', 'OMG', '건물 사이에 피어난 장미 (Rose Blossom)', 'CHRISTIAN', 'Zero', '밤이 무서워요 (Lonely Night)', '파이팅 해야지 (Feat. 이영지)', 'Attention', 'I Don’t Think That I Like Her', '사건의 지평선', 'ANTIFRAGILE', 'After LIKE', 'LOVE DIVE', 'Poppy (Korean Ver.)', '심(心)', 'Dangerously', '오르트구름', '한 페이지가 될 수 있게', 'Nostalgia', 'VIBE (feat. Jimin of BTS)', 'Candy', '사랑인가 봐', 'Unholy', 'When I Get Old', 'FEARLESS', 'Shut Down', 'Pink Venom', 'Cookie', 'Young, Dumb, Stupid', \"That's Hilarious\", '그라데이션', 'ELEVEN', 'Nxde', 'WHEN I MOVE', 'TOMBOY', '너의 모든 순간', 'STAY', '벚꽃 엔딩', 'Feel My Rhythm', '새삥 (Prod. ZICO) (Feat. 호미들)', '봄 사랑 벚꽃 말고', 'That’s Not How This Works (feat. Dan + Shay)', 'Say I Love You', 'Rising', 'Monologue', '정이라고 하자 (Feat. 10CM)', 'Rush Hour (Feat. j-hope of BTS)', 'SET ME FREE', '다정히 내 이름을 부르면', '도깨비불 (Illusion)', 'Off My Face', 'All Eyes On Me', '나의 X에게', '그때 그 순간 그대로 (그그그)', 'NOT SORRY (Feat. pH-1) (Prod. by Slom)', 'strawberry moon', 'LOVE me', 'Made You Look', 'INVU', 'Dynamite', 'Left and Right (Feat. Jung Kook of BTS)', 'Anti-Hero', '주저하는 연인들을 위해', '취중고백', 'Dreamers [Music from the FIFA World Cup Qatar 2022 Official Soundtrack] (feat. FIFA Sound)', '드라마', 'Expectations', '자격지심 (Feat. ZICO)', '해요 (2022)', '모든 날, 모든 순간 (Every day, Every Moment)', '사랑하기 싫어', '봄여름가을겨울 (Still Life)', '친구로 지내다 보면 (Feat. 김민석 of 멜로망스)', '사랑은 늘 도망가', '결국엔 너에게 닿아서', 'Dawn', '내가 아니라도', '팡파레', 'Love story', '보고싶었어', '봄날', '마지막 사랑', '딱 10CM만', 'Next Level', 'Hurt', '그댄 행복에 살텐데 (2022)', '사랑하지 않아서 그랬어', 'Impurities', '우린 그렇게 사랑해서', 'Like Crazy', '신호등', '그대를 알고', '떠나보낼 준비해 둘걸 그랬어', '혼자서 걸어요 (Prod. by 나얼)', \"I Ain't Worried\"]\n"
     ]
    }
   ],
   "source": [
    "songlist = []\n",
    "for link in data:\n",
    "    songlist.append(link.text)\n",
    "print(songlist)"
   ]
  },
  {
   "cell_type": "code",
   "execution_count": 78,
   "id": "d7fc3a42-04fe-4e43-a4a4-f277bb58d9f4",
   "metadata": {
    "tags": []
   },
   "outputs": [],
   "source": [
    "data = soup.select('p.artist>a')"
   ]
  },
  {
   "cell_type": "code",
   "execution_count": 82,
   "id": "3e5aedb0-31bd-44d9-98b5-03ac666e50f6",
   "metadata": {
    "tags": []
   },
   "outputs": [
    {
     "name": "stdout",
     "output_type": "stream",
     "text": [
      "['IVE (아이브)', '지수(JISOO)', 'NewJeans', 'STAYC(스테이씨)', 'NewJeans', 'NMIXX', 'NewJeans', 'H1-KEY (하이키)', '지올팍(Zior Park)', 'NewJeans', '주주 시크릿', '부석순(SEVENTEEN)', 'NewJeans', 'Charlie Puth(찰리 푸스)', '윤하(Younha/ユンナ)', 'LE SSERAFIM (르세라핌)', 'IVE (아이브)', 'IVE (아이브)', 'STAYC(스테이씨)', 'DK(디셈버)', 'Charlie Puth(찰리 푸스)', '윤하(Younha/ユンナ)', 'DAY6 (데이식스)', '우디(Woody)', '태양', 'NCT DREAM', '멜로망스(MeloMance)', 'Sam Smith(샘 스미스)', '\\r\\nSam Smith(샘 스미스)\\r\\n', 'Christopher(크리스토퍼)', '\\r\\nChristopher(크리스토퍼)\\r\\n', 'LE SSERAFIM (르세라핌)', 'BLACKPINK', 'BLACKPINK', 'NewJeans', 'NMIXX', 'Charlie Puth(찰리 푸스)', '10CM', 'IVE (아이브)', '(여자)아이들', '카라(Kara)', '(여자)아이들', '성시경', 'The Kid LAROI', '\\r\\nThe Kid LAROI\\r\\n', '버스커 버스커(Busker Busker)', 'Red Velvet (레드벨벳)', '지코 (ZICO)', '하이포(HIGH4)', '\\r\\n하이포(HIGH4)\\r\\n', 'Charlie Puth(찰리 푸스)', '우디(Woody)', 'tripleS (트리플에스)', '테이(Tei)', 'BIG Naughty (서동현)', 'Crush', 'TWICE (트와이스)', '경서예지', '\\r\\n경서예지\\r\\n', 'aespa', 'Justin Bieber(저스틴 비버)', '지수(JISOO)', '경서', 'WSG워너비 (가야G)', '이영지', '아이유(IU)', \"BE'O (비오)\", 'Meghan Trainor(메간 트레이너)', '태연 (TAEYEON)', '방탄소년단', 'Charlie Puth(찰리 푸스)', '\\r\\nCharlie Puth(찰리 푸스)\\r\\n', 'Taylor Swift(테일러 스위프트)', '잔나비', '김민석 (멜로망스)', '정국', '\\r\\n정국\\r\\n', '아이유(IU)', 'Anne-Marie(앤 마리)', '\\r\\nAnne-Marie(앤 마리)\\r\\n', \"BE'O (비오)\", '#안녕', '폴킴(Paul Kim)', '지아(Zia)', 'BIGBANG (빅뱅)', 'BIG Naughty (서동현)', '임영웅', 'WSG워너비 (가야G)', '김우석', '주호', '다비치', '볼빨간사춘기', 'WSG워너비(4FIRE)', '방탄소년단', '신예영', '10CM', '\\r\\n10CM\\r\\n', 'aespa', 'NewJeans', '최유리', '임한별', 'LE SSERAFIM (르세라핌)', '강민경', '\\r\\n강민경\\r\\n', '지민', '이무진', '송하예', '임한별', '태연 (TAEYEON)', 'OneRepublic(원리퍼블릭)']\n"
     ]
    }
   ],
   "source": [
    "artist = []\n",
    "for link in data:\n",
    "    artist.append(link.text)\n",
    "print(artist)"
   ]
  },
  {
   "cell_type": "code",
   "execution_count": 83,
   "id": "a3123e7e-aa96-4914-bdd1-5a872ca2b9e9",
   "metadata": {
    "tags": []
   },
   "outputs": [],
   "source": [
    "data2 = soup.select('a.more')"
   ]
  },
  {
   "cell_type": "code",
   "execution_count": 87,
   "id": "85506c05-57ed-4ce3-98ec-96c96ea3cc89",
   "metadata": {
    "tags": []
   },
   "outputs": [],
   "source": [
    "for j in data2:\n",
    "    artist.remove(j.text)"
   ]
  },
  {
   "cell_type": "code",
   "execution_count": 90,
   "id": "1422d666-4e37-4567-8de9-ae4a455bc169",
   "metadata": {
    "tags": []
   },
   "outputs": [],
   "source": [
    "bugslist = list(zip(songlist, artist))"
   ]
  },
  {
   "cell_type": "code",
   "execution_count": 91,
   "id": "8bfc02ab-af2a-44b5-847b-5b54714d097b",
   "metadata": {
    "tags": []
   },
   "outputs": [
    {
     "name": "stdout",
     "output_type": "stream",
     "text": [
      "[('Kitsch', 'IVE (아이브)'), ('꽃', '지수(JISOO)'), ('Ditto', 'NewJeans'), ('Teddy Bear', 'STAYC(스테이씨)'), ('Hype Boy', 'NewJeans'), ('Love Me Like This', 'NMIXX'), ('OMG', 'NewJeans'), ('건물 사이에 피어난 장미 (Rose Blossom)', 'H1-KEY (하이키)'), ('CHRISTIAN', '지올팍(Zior Park)'), ('Zero', 'NewJeans'), ('밤이 무서워요 (Lonely Night)', '주주 시크릿'), ('파이팅 해야지 (Feat. 이영지)', '부석순(SEVENTEEN)'), ('Attention', 'NewJeans'), ('I Don’t Think That I Like Her', 'Charlie Puth(찰리 푸스)'), ('사건의 지평선', '윤하(Younha/ユンナ)'), ('ANTIFRAGILE', 'LE SSERAFIM (르세라핌)'), ('After LIKE', 'IVE (아이브)'), ('LOVE DIVE', 'IVE (아이브)'), ('Poppy (Korean Ver.)', 'STAYC(스테이씨)'), ('심(心)', 'DK(디셈버)'), ('Dangerously', 'Charlie Puth(찰리 푸스)'), ('오르트구름', '윤하(Younha/ユンナ)'), ('한 페이지가 될 수 있게', 'DAY6 (데이식스)'), ('Nostalgia', '우디(Woody)'), ('VIBE (feat. Jimin of BTS)', '태양'), ('Candy', 'NCT DREAM'), ('사랑인가 봐', '멜로망스(MeloMance)'), ('Unholy', 'Sam Smith(샘 스미스)'), ('When I Get Old', 'Christopher(크리스토퍼)'), ('FEARLESS', 'LE SSERAFIM (르세라핌)'), ('Shut Down', 'BLACKPINK'), ('Pink Venom', 'BLACKPINK'), ('Cookie', 'NewJeans'), ('Young, Dumb, Stupid', 'NMIXX'), (\"That's Hilarious\", 'Charlie Puth(찰리 푸스)'), ('그라데이션', '10CM'), ('ELEVEN', 'IVE (아이브)'), ('Nxde', '(여자)아이들'), ('WHEN I MOVE', '카라(Kara)'), ('TOMBOY', '(여자)아이들'), ('너의 모든 순간', '성시경'), ('STAY', 'The Kid LAROI'), ('벚꽃 엔딩', '버스커 버스커(Busker Busker)'), ('Feel My Rhythm', 'Red Velvet (레드벨벳)'), ('새삥 (Prod. ZICO) (Feat. 호미들)', '지코 (ZICO)'), ('봄 사랑 벚꽃 말고', '하이포(HIGH4)'), ('That’s Not How This Works (feat. Dan + Shay)', 'Charlie Puth(찰리 푸스)'), ('Say I Love You', '우디(Woody)'), ('Rising', 'tripleS (트리플에스)'), ('Monologue', '테이(Tei)'), ('정이라고 하자 (Feat. 10CM)', 'BIG Naughty (서동현)'), ('Rush Hour (Feat. j-hope of BTS)', 'Crush'), ('SET ME FREE', 'TWICE (트와이스)'), ('다정히 내 이름을 부르면', '경서예지'), ('도깨비불 (Illusion)', 'aespa'), ('Off My Face', 'Justin Bieber(저스틴 비버)'), ('All Eyes On Me', '지수(JISOO)'), ('나의 X에게', '경서'), ('그때 그 순간 그대로 (그그그)', 'WSG워너비 (가야G)'), ('NOT SORRY (Feat. pH-1) (Prod. by Slom)', '이영지'), ('strawberry moon', '아이유(IU)'), ('LOVE me', \"BE'O (비오)\"), ('Made You Look', 'Meghan Trainor(메간 트레이너)'), ('INVU', '태연 (TAEYEON)'), ('Dynamite', '방탄소년단'), ('Left and Right (Feat. Jung Kook of BTS)', 'Charlie Puth(찰리 푸스)'), ('Anti-Hero', 'Taylor Swift(테일러 스위프트)'), ('주저하는 연인들을 위해', '잔나비'), ('취중고백', '김민석 (멜로망스)'), ('Dreamers [Music from the FIFA World Cup Qatar 2022 Official Soundtrack] (feat. FIFA Sound)', '정국'), ('드라마', '아이유(IU)'), ('Expectations', 'Anne-Marie(앤 마리)'), ('자격지심 (Feat. ZICO)', \"BE'O (비오)\"), ('해요 (2022)', '#안녕'), ('모든 날, 모든 순간 (Every day, Every Moment)', '폴킴(Paul Kim)'), ('사랑하기 싫어', '지아(Zia)'), ('봄여름가을겨울 (Still Life)', 'BIGBANG (빅뱅)'), ('친구로 지내다 보면 (Feat. 김민석 of 멜로망스)', 'BIG Naughty (서동현)'), ('사랑은 늘 도망가', '임영웅'), ('결국엔 너에게 닿아서', 'WSG워너비 (가야G)'), ('Dawn', '김우석'), ('내가 아니라도', '주호'), ('팡파레', '다비치'), ('Love story', '볼빨간사춘기'), ('보고싶었어', 'WSG워너비(4FIRE)'), ('봄날', '방탄소년단'), ('마지막 사랑', '신예영'), ('딱 10CM만', '10CM'), ('Next Level', 'aespa'), ('Hurt', 'NewJeans'), ('그댄 행복에 살텐데 (2022)', '최유리'), ('사랑하지 않아서 그랬어', '임한별'), ('Impurities', 'LE SSERAFIM (르세라핌)'), ('우린 그렇게 사랑해서', '강민경'), ('Like Crazy', '지민'), ('신호등', '이무진'), ('그대를 알고', '송하예'), ('떠나보낼 준비해 둘걸 그랬어', '임한별'), ('혼자서 걸어요 (Prod. by 나얼)', '태연 (TAEYEON)'), (\"I Ain't Worried\", 'OneRepublic(원리퍼블릭)')]\n"
     ]
    }
   ],
   "source": [
    "print(bugslist)"
   ]
  },
  {
   "cell_type": "code",
   "execution_count": null,
   "id": "31e0f663-96eb-47d5-8385-b9ffadef5d60",
   "metadata": {},
   "outputs": [],
   "source": []
  },
  {
   "cell_type": "code",
   "execution_count": 4,
   "id": "c76a00a5-c825-4604-99ac-8182fa2d19b2",
   "metadata": {
    "tags": []
   },
   "outputs": [],
   "source": [
    "from urllib import request\n",
    "from bs4 import BeautifulSoup"
   ]
  },
  {
   "cell_type": "code",
   "execution_count": 10,
   "id": "acd2a1e3-8405-4113-890a-98a4695b69a4",
   "metadata": {
    "tags": []
   },
   "outputs": [
    {
     "name": "stdout",
     "output_type": "stream",
     "text": [
      "더 퍼스트 슬램덩크\n",
      "스즈메의 문단속\n",
      "던전 앤 드래곤-도적들의 명예\n",
      "아임 히어로 더 파이널\n",
      "파벨만스\n",
      "상견니\n",
      "찬란한 나의 복수\n",
      "오토라는 남자\n",
      "웅남이\n",
      "흐르다\n",
      "엘 카미노\n",
      "소울메이트\n",
      "귀멸의 칼날-상현집결, 그리고 도공 마을로\n",
      "이니셰린의 밴시\n",
      "에브리씽 에브리웨어 올 앳 원스+\n",
      "패왕별희 디 오리지널\n",
      "더 웨일\n",
      "멍뭉이\n",
      "[알베르게다이닝]엘 카미노(GV)\n"
     ]
    }
   ],
   "source": [
    "url = 'http://www.cgv.co.kr/movies/'\n",
    "response = request.urlopen(url)\n",
    "soup = BeautifulSoup(response, 'lxml')\n",
    "# print(soup)\n",
    "result = soup.select('strong.title')\n",
    "# print(result)\n",
    "for item in result:\n",
    "    # print(item.string)\n",
    "    print(item.text)"
   ]
  },
  {
   "cell_type": "code",
   "execution_count": null,
   "id": "5a9b4ed8-9bde-4c6e-b7ec-dd1eae81bcc2",
   "metadata": {
    "tags": []
   },
   "outputs": [],
   "source": []
  },
  {
   "cell_type": "code",
   "execution_count": 11,
   "id": "46aae9d0-8c72-4f6b-8fac-a545b724427c",
   "metadata": {
    "tags": []
   },
   "outputs": [],
   "source": [
    "from urllib import request\n",
    "from bs4 import BeautifulSoup"
   ]
  },
  {
   "cell_type": "code",
   "execution_count": 36,
   "id": "50432ef0-a961-4d1d-960c-bf5ac40cde3c",
   "metadata": {
    "tags": []
   },
   "outputs": [],
   "source": [
    "url = 'https://music.bugs.co.kr/chart'\n",
    "response = request.urlopen(url)\n",
    "soup = BeautifulSoup(response, 'lxml')\n",
    "\n",
    "title_list = []\n",
    "artist_list = []\n",
    "\n",
    "title = soup.select('p.title > a')\n",
    "# print(title)\n",
    "for item in title:\n",
    "    # print(item.string)\n",
    "    title_list.append(item.string)\n",
    "    \n",
    "artist = soup.select('p.artist')\n",
    "for item in artist:\n",
    "    # print(item.string)\n",
    "    # print(item.text.strip())\n",
    "    # print('--------------')\n",
    "    # artist_list.append(item.string)\n",
    "    artist_list.append(item.text.strip())"
   ]
  },
  {
   "cell_type": "code",
   "execution_count": 37,
   "id": "4316b9b7-2fa3-4c4d-927a-8f5cb26aac4d",
   "metadata": {
    "tags": []
   },
   "outputs": [
    {
     "data": {
      "text/plain": [
       "(100, 100)"
      ]
     },
     "execution_count": 37,
     "metadata": {},
     "output_type": "execute_result"
    }
   ],
   "source": [
    "len(title_list), len(artist_list)"
   ]
  },
  {
   "cell_type": "code",
   "execution_count": 38,
   "id": "e7f6cdd3-a337-4300-a750-1cf231695d03",
   "metadata": {
    "collapsed": true,
    "jupyter": {
     "outputs_hidden": true
    },
    "tags": []
   },
   "outputs": [
    {
     "data": {
      "text/plain": [
       "['IVE (아이브)',\n",
       " '지수(JISOO)',\n",
       " 'NewJeans',\n",
       " 'NewJeans',\n",
       " 'NewJeans',\n",
       " 'STAYC(스테이씨)',\n",
       " 'NMIXX',\n",
       " 'NewJeans',\n",
       " 'H1-KEY (하이키)',\n",
       " '지올팍(Zior Park)',\n",
       " 'NewJeans',\n",
       " '부석순(SEVENTEEN)',\n",
       " '주주 시크릿',\n",
       " 'Charlie Puth(찰리 푸스)',\n",
       " '윤하(Younha/ユンナ)',\n",
       " 'LE SSERAFIM (르세라핌)',\n",
       " 'IVE (아이브)',\n",
       " 'IVE (아이브)',\n",
       " 'STAYC(스테이씨)',\n",
       " 'DK(디셈버)',\n",
       " 'Charlie Puth(찰리 푸스)',\n",
       " 'DAY6 (데이식스)',\n",
       " '태양',\n",
       " '윤하(Younha/ユンナ)',\n",
       " '우디(Woody)',\n",
       " 'Christopher(크리스토퍼)\\n\\n\\r\\nChristopher(크리스토퍼)',\n",
       " '지민',\n",
       " 'NMIXX',\n",
       " 'NCT DREAM',\n",
       " '멜로망스(MeloMance)',\n",
       " 'BLACKPINK',\n",
       " 'Sam Smith(샘 스미스)\\n\\n\\r\\nSam Smith(샘 스미스)',\n",
       " 'BLACKPINK',\n",
       " 'LE SSERAFIM (르세라핌)',\n",
       " '성시경',\n",
       " 'NewJeans',\n",
       " 'Charlie Puth(찰리 푸스)',\n",
       " '버스커 버스커(Busker Busker)',\n",
       " '하이포(HIGH4)\\n\\n\\r\\n하이포(HIGH4)',\n",
       " 'The Kid LAROI\\n\\n\\r\\nThe Kid LAROI',\n",
       " 'Charlie Puth(찰리 푸스)',\n",
       " 'IVE (아이브)',\n",
       " '우디(Woody)',\n",
       " '카라(Kara)',\n",
       " 'Red Velvet (레드벨벳)',\n",
       " '10CM',\n",
       " '(여자)아이들',\n",
       " 'tripleS (트리플에스)',\n",
       " 'BIG Naughty (서동현)',\n",
       " 'Crush',\n",
       " '(여자)아이들',\n",
       " '경서예지\\n\\n\\r\\n경서예지',\n",
       " '#안녕',\n",
       " 'Justin Bieber(저스틴 비버)',\n",
       " '폴킴(Paul Kim)',\n",
       " '지코 (ZICO)',\n",
       " '이영지',\n",
       " '테이(Tei)',\n",
       " 'WSG워너비 (가야G)',\n",
       " '정국\\n\\n\\r\\n정국',\n",
       " '김민석 (멜로망스)',\n",
       " 'TWICE (트와이스)',\n",
       " '아이유(IU)',\n",
       " 'LE SSERAFIM (르세라핌)',\n",
       " '잔나비',\n",
       " 'WSG워너비 (가야G)',\n",
       " '방탄소년단',\n",
       " '임영웅',\n",
       " 'Anne-Marie(앤 마리)\\n\\n\\r\\nAnne-Marie(앤 마리)',\n",
       " '태연 (TAEYEON)',\n",
       " \"BE'O (비오)\",\n",
       " 'BIGBANG (빅뱅)',\n",
       " 'aespa',\n",
       " '경서',\n",
       " '볼빨간사춘기',\n",
       " 'BIG Naughty (서동현)',\n",
       " 'NewJeans',\n",
       " \"BE'O (비오)\",\n",
       " 'FIFTY FIFTY',\n",
       " '주호',\n",
       " 'WSG워너비(4FIRE)',\n",
       " '최유리',\n",
       " '지수(JISOO)',\n",
       " 'Charlie Puth(찰리 푸스)\\n\\n\\r\\nCharlie Puth(찰리 푸스)',\n",
       " '방탄소년단',\n",
       " '다비치',\n",
       " 'OneRepublic(원리퍼블릭)',\n",
       " 'aespa',\n",
       " 'Meghan Trainor(메간 트레이너)',\n",
       " '10CM\\n\\n\\r\\n10CM',\n",
       " '강민경\\n\\n\\r\\n강민경',\n",
       " '이홍기 (FT아일랜드)',\n",
       " '신예영',\n",
       " '송하예',\n",
       " 'Taylor Swift(테일러 스위프트)',\n",
       " '임한별',\n",
       " '지아(Zia)',\n",
       " '지민',\n",
       " '태연 (TAEYEON)',\n",
       " '임한별']"
      ]
     },
     "execution_count": 38,
     "metadata": {},
     "output_type": "execute_result"
    }
   ],
   "source": [
    "artist_list"
   ]
  },
  {
   "cell_type": "code",
   "execution_count": 42,
   "id": "e73537a7-42bf-43f1-8ff2-a5b7e57b153d",
   "metadata": {
    "tags": []
   },
   "outputs": [],
   "source": [
    "artist_list_final = []\n",
    "for item in artist_list:\n",
    "    # print(item.replace('\\n\\n\\r\\n',','))\n",
    "    artist_list_final.append(item.replace('\\n\\n\\r\\n',',').split(',')[0])"
   ]
  },
  {
   "cell_type": "code",
   "execution_count": null,
   "id": "5db48437-d63f-4fcf-89d3-9ef661aba903",
   "metadata": {},
   "outputs": [],
   "source": []
  },
  {
   "cell_type": "code",
   "execution_count": 43,
   "id": "418f5e2f-76c3-404b-936d-e0c0bb4d59a6",
   "metadata": {
    "collapsed": true,
    "jupyter": {
     "outputs_hidden": true
    },
    "tags": []
   },
   "outputs": [
    {
     "name": "stdout",
     "output_type": "stream",
     "text": [
      "[('Kitsch', 'IVE (아이브)'), ('꽃', '지수(JISOO)'), ('Zero', 'NewJeans'), ('Ditto', 'NewJeans'), ('Hype Boy', 'NewJeans'), ('Teddy Bear', 'STAYC(스테이씨)'), ('Love Me Like This', 'NMIXX'), ('OMG', 'NewJeans'), ('건물 사이에 피어난 장미 (Rose Blossom)', 'H1-KEY (하이키)'), ('CHRISTIAN', '지올팍(Zior Park)'), ('Attention', 'NewJeans'), ('파이팅 해야지 (Feat. 이영지)', '부석순(SEVENTEEN)'), ('밤이 무서워요 (Lonely Night)', '주주 시크릿'), ('I Don’t Think That I Like Her', 'Charlie Puth(찰리 푸스)'), ('사건의 지평선', '윤하(Younha/ユンナ)'), ('ANTIFRAGILE', 'LE SSERAFIM (르세라핌)'), ('After LIKE', 'IVE (아이브)'), ('LOVE DIVE', 'IVE (아이브)'), ('Poppy (Korean Ver.)', 'STAYC(스테이씨)'), ('심(心)', 'DK(디셈버)'), ('Dangerously', 'Charlie Puth(찰리 푸스)'), ('한 페이지가 될 수 있게', 'DAY6 (데이식스)'), ('VIBE (feat. Jimin of BTS)', '태양'), ('오르트구름', '윤하(Younha/ユンナ)'), ('Nostalgia', '우디(Woody)'), ('When I Get Old', 'Christopher(크리스토퍼)'), ('Like Crazy', '지민'), ('Young, Dumb, Stupid', 'NMIXX'), ('Candy', 'NCT DREAM'), ('사랑인가 봐', '멜로망스(MeloMance)'), ('Shut Down', 'BLACKPINK'), ('Unholy', 'Sam Smith(샘 스미스)'), ('Pink Venom', 'BLACKPINK'), ('FEARLESS', 'LE SSERAFIM (르세라핌)'), ('너의 모든 순간', '성시경'), ('Cookie', 'NewJeans'), (\"That's Hilarious\", 'Charlie Puth(찰리 푸스)'), ('벚꽃 엔딩', '버스커 버스커(Busker Busker)'), ('봄 사랑 벚꽃 말고', '하이포(HIGH4)'), ('STAY', 'The Kid LAROI'), ('That’s Not How This Works (feat. Dan + Shay)', 'Charlie Puth(찰리 푸스)'), ('ELEVEN', 'IVE (아이브)'), ('Say I Love You', '우디(Woody)'), ('WHEN I MOVE', '카라(Kara)'), ('Feel My Rhythm', 'Red Velvet (레드벨벳)'), ('그라데이션', '10CM'), ('Nxde', '(여자)아이들'), ('Rising', 'tripleS (트리플에스)'), ('정이라고 하자 (Feat. 10CM)', 'BIG Naughty (서동현)'), ('Rush Hour (Feat. j-hope of BTS)', 'Crush'), ('TOMBOY', '(여자)아이들'), ('다정히 내 이름을 부르면', '경서예지'), ('해요 (2022)', '#안녕'), ('Off My Face', 'Justin Bieber(저스틴 비버)'), ('모든 날, 모든 순간 (Every day, Every Moment)', '폴킴(Paul Kim)'), ('새삥 (Prod. ZICO) (Feat. 호미들)', '지코 (ZICO)'), ('NOT SORRY (Feat. pH-1) (Prod. by Slom)', '이영지'), ('Monologue', '테이(Tei)'), ('그때 그 순간 그대로 (그그그)', 'WSG워너비 (가야G)'), ('Dreamers [Music from the FIFA World Cup Qatar 2022 Official Soundtrack] (feat. FIFA Sound)', '정국'), ('취중고백', '김민석 (멜로망스)'), ('SET ME FREE', 'TWICE (트와이스)'), ('strawberry moon', '아이유(IU)'), ('Impurities', 'LE SSERAFIM (르세라핌)'), ('주저하는 연인들을 위해', '잔나비'), ('결국엔 너에게 닿아서', 'WSG워너비 (가야G)'), ('봄날', '방탄소년단'), ('사랑은 늘 도망가', '임영웅'), ('Expectations', 'Anne-Marie(앤 마리)'), ('INVU', '태연 (TAEYEON)'), ('LOVE me', \"BE'O (비오)\"), ('봄여름가을겨울 (Still Life)', 'BIGBANG (빅뱅)'), ('도깨비불 (Illusion)', 'aespa'), ('나의 X에게', '경서'), ('Love story', '볼빨간사춘기'), ('친구로 지내다 보면 (Feat. 김민석 of 멜로망스)', 'BIG Naughty (서동현)'), ('Hurt', 'NewJeans'), ('자격지심 (Feat. ZICO)', \"BE'O (비오)\"), ('Cupid', 'FIFTY FIFTY'), ('내가 아니라도', '주호'), ('보고싶었어', 'WSG워너비(4FIRE)'), ('그댄 행복에 살텐데 (2022)', '최유리'), ('All Eyes On Me', '지수(JISOO)'), ('Left and Right (Feat. Jung Kook of BTS)', 'Charlie Puth(찰리 푸스)'), ('Dynamite', '방탄소년단'), ('팡파레', '다비치'), (\"I Ain't Worried\", 'OneRepublic(원리퍼블릭)'), ('Next Level', 'aespa'), ('Made You Look', 'Meghan Trainor(메간 트레이너)'), ('딱 10CM만', '10CM'), ('우린 그렇게 사랑해서', '강민경'), ('아모르 파티', '이홍기 (FT아일랜드)'), ('마지막 사랑', '신예영'), ('그대를 알고', '송하예'), ('Anti-Hero', 'Taylor Swift(테일러 스위프트)'), ('사랑하지 않아서 그랬어', '임한별'), ('사랑하기 싫어', '지아(Zia)'), ('Set Me Free Pt.2', '지민'), ('혼자서 걸어요 (Prod. by 나얼)', '태연 (TAEYEON)'), ('떠나보낼 준비해 둘걸 그랬어', '임한별')]\n"
     ]
    }
   ],
   "source": [
    "result = list(zip(title_list, artist_list_final))\n",
    "print(result)"
   ]
  },
  {
   "cell_type": "code",
   "execution_count": null,
   "id": "28e31979-e703-4846-b88e-1d3e9ac0da91",
   "metadata": {},
   "outputs": [],
   "source": []
  },
  {
   "cell_type": "code",
   "execution_count": null,
   "id": "d2380030-9a45-4ce5-8d77-6ed8638f6f46",
   "metadata": {},
   "outputs": [],
   "source": []
  },
  {
   "cell_type": "code",
   "execution_count": null,
   "id": "20c98668-df68-4764-8c5a-1b6834cc1d30",
   "metadata": {},
   "outputs": [],
   "source": []
  }
 ],
 "metadata": {
  "kernelspec": {
   "display_name": "Python 3 (ipykernel)",
   "language": "python",
   "name": "python3"
  },
  "language_info": {
   "codemirror_mode": {
    "name": "ipython",
    "version": 3
   },
   "file_extension": ".py",
   "mimetype": "text/x-python",
   "name": "python",
   "nbconvert_exporter": "python",
   "pygments_lexer": "ipython3",
   "version": "3.11.1"
  }
 },
 "nbformat": 4,
 "nbformat_minor": 5
}
