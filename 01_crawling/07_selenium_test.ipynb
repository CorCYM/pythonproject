{
 "cells": [
  {
   "cell_type": "code",
   "execution_count": 1,
   "id": "dd167187-df68-4294-a026-6996ab8b6f07",
   "metadata": {
    "tags": []
   },
   "outputs": [],
   "source": [
    "from selenium import webdriver\n",
    "import time"
   ]
  },
  {
   "cell_type": "code",
   "execution_count": 9,
   "id": "cdbddbfc-24a0-4e82-a9b8-6d1f81027ecf",
   "metadata": {
    "tags": []
   },
   "outputs": [],
   "source": [
    "driver = webdriver.Chrome()\n",
    "driver.get('https://www.naver.com')\n",
    "# driver.implicitly_wait(10)\n",
    "time.sleep(5)\n",
    "driver.get('https://www.google.com')\n",
    "time.sleep(5)\n",
    "driver.get('https://www.daum.net/')\n",
    "time.sleep(5)\n",
    "driver.back()\n",
    "driver.fullscreen_window()\n",
    "time.sleep(3)\n",
    "driver.back()\n",
    "driver.set_window_rect(100,100,800,800)\n",
    "driver.forward()\n",
    "time.sleep(3)\n",
    "driver.forward()\n",
    "driver.quit()"
   ]
  },
  {
   "cell_type": "code",
   "execution_count": 6,
   "id": "dbcc64cb-de2f-489c-b556-376c574e468d",
   "metadata": {
    "tags": []
   },
   "outputs": [
    {
     "data": {
      "text/plain": [
       "'4.8.3'"
      ]
     },
     "execution_count": 6,
     "metadata": {},
     "output_type": "execute_result"
    }
   ],
   "source": [
    "import selenium\n",
    "selenium.__version__"
   ]
  },
  {
   "cell_type": "code",
   "execution_count": 10,
   "id": "9959b56d-511f-42e6-a87d-09d960916992",
   "metadata": {
    "tags": []
   },
   "outputs": [],
   "source": [
    "from selenium import webdriver\n",
    "import time\n",
    "from selenium.webdriver.common.by import By\n",
    "from selenium.webdriver.common.keys import Keys"
   ]
  },
  {
   "cell_type": "code",
   "execution_count": 14,
   "id": "56a0bebc-e41a-4947-8668-c8982c650594",
   "metadata": {
    "tags": []
   },
   "outputs": [],
   "source": [
    "driver = webdriver.Chrome()\n",
    "driver.get('https://www.naver.com')\n",
    "time.sleep(5)\n",
    "search = driver.find_element(By.ID, 'query')\n",
    "# print(type(search))\n",
    "# print(search)\n",
    "search.send_keys('봄')\n",
    "search.send_keys(Keys.ENTER)\n",
    "item = driver.find_element(By.CSS_SELECTOR, 'ul.base > li.menu:nth-child(2)')\n",
    "item.click()"
   ]
  },
  {
   "cell_type": "code",
   "execution_count": null,
   "id": "573d7e8c-104f-4ec4-9724-fa694c0a4c4c",
   "metadata": {},
   "outputs": [],
   "source": []
  },
  {
   "cell_type": "code",
   "execution_count": 30,
   "id": "deb4eeb4-9e2b-4fe0-9dec-6a488a7e251a",
   "metadata": {
    "tags": []
   },
   "outputs": [],
   "source": [
    "from bs4 import BeautifulSoup\n",
    "from selenium import webdriver\n",
    "from selenium.webdriver.common.by import By\n",
    "import time"
   ]
  },
  {
   "cell_type": "code",
   "execution_count": 40,
   "id": "769728bf-b6fa-457d-bec2-acd1c0f9f441",
   "metadata": {
    "jupyter": {
     "source_hidden": true
    },
    "tags": []
   },
   "outputs": [
    {
     "name": "stdout",
     "output_type": "stream",
     "text": [
      "그랜드조선 부산  \n",
      "부산광역시 해운대구 해운대해변로 292 (중동)\n",
      "-------------------\n",
      "센텀몰1F  \n",
      "부산광역시 해운대구 센텀4로 15 (우동)\n",
      "-------------------\n",
      "해운대중동역  \n",
      "부산광역시 해운대구 좌동순환로 6 (중동)\n",
      "-------------------\n",
      "센텀신세계3F  \n",
      "부산광역시 해운대구 센텀남대로 35 (우동)\n",
      "-------------------\n",
      "해운대 엑스더스카이  \n",
      "부산광역시 해운대구 달맞이길30 \n",
      "-------------------\n",
      "해운대좌동  \n",
      "부산광역시 해운대구 좌동순환로 178 (좌동)\n",
      "-------------------\n",
      "해운대NC  \n",
      "부산광역시 해운대구 해운대로 813 (좌동)\n",
      "-------------------\n",
      "월드마크센텀  \n",
      "부산광역시 해운대구 센텀동로 25, 1층 (우동)\n",
      "-------------------\n",
      "센텀KNN  \n",
      "부산광역시 해운대구 센텀서로 30 (우동)\n",
      "-------------------\n",
      "센텀드림월드  \n",
      "부산광역시 해운대구 센텀2로 25, 센텀드림월드 1층 (우동)\n",
      "-------------------\n",
      "해운대이마트  \n",
      "부산광역시 해운대구 좌동순환로 511 (중동) 1층\n",
      "-------------------\n",
      "해운대달맞이  \n",
      "부산광역시 해운대구 달맞이길 189 (중동)\n",
      "-------------------\n",
      "마린시티아이파크  \n",
      "부산광역시 해운대구 마린시티2로 38 (우동)\n",
      "-------------------\n",
      "제니스스퀘어  \n",
      "부산광역시 해운대구 마린시티2로 33, 제니스스퀘어 (우동)\n",
      "-------------------\n",
      "센텀시티역  \n",
      "부산광역시 해운대구 센텀동로 9, 트럼프월드센텀아파트 1층 (우동)\n",
      "-------------------\n",
      "블루스퀘어  \n",
      "부산광역시 해운대구 좌동로 96 (좌동)\n",
      "-------------------\n",
      "팔레드시즈  \n",
      "부산광역시 해운대구 해운대해변로298번길 24, 팔래드시즈 1-3호, 2-3호 (중동)\n",
      "-------------------\n",
      "베네시티  \n",
      "부산광역시 해운대구 해운대해변로 163 (우동)\n",
      "-------------------\n",
      "벡스코  \n",
      "부산광역시 해운대구 APEC로 55, 벡스코내 (우동)\n",
      "-------------------\n",
      "하버타운  \n",
      "부산광역시 해운대구 해운대해변로 257 (우동)\n",
      "-------------------\n",
      "장산역  \n",
      "부산광역시 해운대구 해운대로 802 (좌동)\n",
      "-------------------\n",
      "부산송정비치  \n",
      "부산광역시 해운대구 송정해변로 36 (송정동)\n",
      "-------------------\n",
      "센텀그린타워  \n",
      "부산광역시 해운대구 센텀중앙로 78 (우동)\n",
      "-------------------\n",
      "해운대달맞이DT  \n",
      "부산광역시 해운대구 달맞이길 57 (중동) 1~3층\n",
      "-------------------\n",
      "센텀신세계B1  \n",
      "부산광역시 해운대구 센텀남대로 35 (우동) 센텀시티 신세계UEC\n",
      "-------------------\n",
      "센텀로  \n",
      "부산광역시 해운대구 센텀2로 10 (우동) 센텀메디컬센타 1층 스타벅스 센텀로점\n",
      "-------------------\n",
      "해운대  \n",
      "부산광역시 해운대구 구남로 49 (중동) 101호\n",
      "-------------------\n",
      "부산재송DT  \n",
      "부산광역시 해운대구 해운대로 189 (재송동)\n",
      "-------------------\n",
      "해운대역  \n",
      "부산광역시 해운대구 구남로 9 (우동)\n",
      "-------------------\n",
      "센텀파크  \n",
      "부산광역시 해운대구 센텀중앙로 145 (재송동, 더샵센텀파크1차아파트)\n",
      "-------------------\n",
      "수영강변DT  \n",
      "부산광역시 해운대구 수영강변대로 516 (반여동)\n",
      "-------------------\n",
      "더해운대R  \n",
      "부산광역시 해운대구 해운대해변로 197 (우동, 해운대경동제이드아파트)\n",
      "-------------------\n"
     ]
    }
   ],
   "source": [
    "url = 'https://www.starbucks.co.kr/store/store_map.do'\n",
    "driver = webdriver.Chrome()\n",
    "driver.get(url)\n",
    "time.sleep(5)\n",
    "\n",
    "loca = driver.find_element(By.CLASS_NAME,'loca_search')\n",
    "loca.click()\n",
    "\n",
    "time.sleep(3)\n",
    "sido = driver.find_elements(By.CSS_SELECTOR, 'ul.sido_arae_box > li')\n",
    "# print(sido)\n",
    "sido[5].click()\n",
    "\n",
    "time.sleep(3)\n",
    "gugun = driver.find_elements(By.CSS_SELECTOR, 'ul.gugun_arae_box > li')\n",
    "gugun[-1].click()\n",
    "\n",
    "time.sleep(3)\n",
    "page = driver.page_source\n",
    "\n",
    "soup = BeautifulSoup(page, 'lxml')\n",
    "items = soup.select('ul.quickSearchResultBoxSidoGugun li')\n",
    "for li in items:\n",
    "    print(li.find('strong').string)\n",
    "    print(li.find('p').text.replace('1522-3232',''))\n",
    "    print('-------------------')"
   ]
  },
  {
   "cell_type": "code",
   "execution_count": null,
   "id": "fd2834b3-d5ca-4cc7-af33-c053b237bf58",
   "metadata": {},
   "outputs": [],
   "source": []
  }
 ],
 "metadata": {
  "kernelspec": {
   "display_name": "Python 3 (ipykernel)",
   "language": "python",
   "name": "python3"
  },
  "language_info": {
   "codemirror_mode": {
    "name": "ipython",
    "version": 3
   },
   "file_extension": ".py",
   "mimetype": "text/x-python",
   "name": "python",
   "nbconvert_exporter": "python",
   "pygments_lexer": "ipython3",
   "version": "3.11.1"
  }
 },
 "nbformat": 4,
 "nbformat_minor": 5
}
