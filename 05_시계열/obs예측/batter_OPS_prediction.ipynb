{
 "cells": [
  {
   "cell_type": "markdown",
   "metadata": {},
   "source": [
    "# 1. KBO 타자 OPS 예측"
   ]
  },
  {
   "cell_type": "markdown",
   "metadata": {},
   "source": [
    "## 1.1 문제 정의\n",
    "### 1.1.1 경진대회 소개"
   ]
  },
  {
   "cell_type": "markdown",
   "metadata": {},
   "source": [
    "![경진대회소개 이미지](img/1.png)\n",
    "![경진대회 개요](img/2.png)"
   ]
  },
  {
   "cell_type": "markdown",
   "metadata": {},
   "source": [
    "![경진대회 배경](img/3.png)"
   ]
  },
  {
   "cell_type": "markdown",
   "metadata": {},
   "source": [
    "### 1.1.2 평가척도"
   ]
  },
  {
   "cell_type": "markdown",
   "metadata": {},
   "source": [
    "WRMSE(Weighted Root Mean Squeare Error)\n",
    "![경진대회 배경](img/4.png)\n",
    "실제값과 예측값의 차이를 기준으로 평가하므로 오차가 적을수록 좋음.\n",
    "\n",
    "타석에 들어서지 못한 선수들은 가중치가 0이므로 계산 결과도 0이됨.\n",
    "\n",
    "![WRMSE 평가 예시](img/5.png)"
   ]
  },
  {
   "cell_type": "markdown",
   "metadata": {},
   "source": [
    "### 1.1.3 도메인 조사\n",
    "![분석에 필요한 주요 야구 용어](img/6.png)"
   ]
  },
  {
   "cell_type": "markdown",
   "metadata": {
    "tags": []
   },
   "source": [
    "## 1.2. 탐색적 데이터 분석"
   ]
  },
  {
   "cell_type": "code",
   "execution_count": 27,
   "metadata": {
    "tags": []
   },
   "outputs": [],
   "source": [
    "# 필요 라이브러리 로드\n",
    "from matplotlib import font_manager, rc\n",
    "import matplotlib\n",
    "import matplotlib.pyplot as plt\n",
    "import seaborn as sns\n",
    "import pandas as pd\n",
    "import numpy as np\n",
    "import platform\n",
    "\n",
    "if platform.system() == 'Windows':\n",
    "# 윈도우인 경우 맑은 고딕 폰트 이용\n",
    "    font_name = font_manager.FontProperties(fname=\"C:\\Windows\\Fonts\\malgun.ttf\").get_name()\n",
    "    rc('font', family=font_name, size=8) \n",
    "# Mac 인 경우\n",
    "else:\n",
    "    rc('font', family='AppleGothic', size=8)\n",
    "\n",
    "#그래프에서 마이너스 기호가 표시되게 하는 설정입니다.\n",
    "matplotlib.rcParams['axes.unicode_minus'] = False"
   ]
  },
  {
   "cell_type": "markdown",
   "metadata": {},
   "source": [
    "### 1.2.1. 프리시즌 데이터 분석"
   ]
  },
  {
   "cell_type": "code",
   "execution_count": 58,
   "metadata": {
    "tags": []
   },
   "outputs": [
    {
     "data": {
      "text/plain": [
       "(1393, 29)"
      ]
     },
     "execution_count": 58,
     "metadata": {},
     "output_type": "execute_result"
    }
   ],
   "source": [
    "# 프리시즌 데이터 로드\n",
    "preseason_df = pd.read_csv('data/Pre_Season_Batter.csv')\n",
    "\n",
    "# 정규시즌 데이터 로드\n",
    "regular_season_df = pd.read_csv('data/Regular_Season_Batter.csv')\n",
    "# 데이터 크기 확인\n",
    "preseason_df.shape"
   ]
  },
  {
   "cell_type": "code",
   "execution_count": 61,
   "metadata": {
    "tags": []
   },
   "outputs": [],
   "source": [
    "# type(regular_season_df)"
   ]
  },
  {
   "cell_type": "code",
   "execution_count": 62,
   "metadata": {
    "tags": []
   },
   "outputs": [
    {
     "data": {
      "text/html": [
       "<div>\n",
       "<style scoped>\n",
       "    .dataframe tbody tr th:only-of-type {\n",
       "        vertical-align: middle;\n",
       "    }\n",
       "\n",
       "    .dataframe tbody tr th {\n",
       "        vertical-align: top;\n",
       "    }\n",
       "\n",
       "    .dataframe thead th {\n",
       "        text-align: right;\n",
       "    }\n",
       "</style>\n",
       "<table border=\"1\" class=\"dataframe\">\n",
       "  <thead>\n",
       "    <tr style=\"text-align: right;\">\n",
       "      <th></th>\n",
       "      <th>batter_id</th>\n",
       "      <th>batter_name</th>\n",
       "      <th>year</th>\n",
       "      <th>team</th>\n",
       "      <th>avg</th>\n",
       "      <th>G</th>\n",
       "      <th>AB</th>\n",
       "      <th>R</th>\n",
       "      <th>H</th>\n",
       "      <th>2B</th>\n",
       "      <th>...</th>\n",
       "      <th>GDP</th>\n",
       "      <th>SLG</th>\n",
       "      <th>OBP</th>\n",
       "      <th>E</th>\n",
       "      <th>height/weight</th>\n",
       "      <th>year_born</th>\n",
       "      <th>position</th>\n",
       "      <th>career</th>\n",
       "      <th>starting_salary</th>\n",
       "      <th>OPS</th>\n",
       "    </tr>\n",
       "  </thead>\n",
       "  <tbody>\n",
       "    <tr>\n",
       "      <th>0</th>\n",
       "      <td>0</td>\n",
       "      <td>가르시아</td>\n",
       "      <td>2018</td>\n",
       "      <td>LG</td>\n",
       "      <td>0.350</td>\n",
       "      <td>7</td>\n",
       "      <td>20</td>\n",
       "      <td>1</td>\n",
       "      <td>7</td>\n",
       "      <td>1</td>\n",
       "      <td>...</td>\n",
       "      <td>1</td>\n",
       "      <td>0.55</td>\n",
       "      <td>0.409</td>\n",
       "      <td>1</td>\n",
       "      <td>177cm/93kg</td>\n",
       "      <td>1985년 04월 12일</td>\n",
       "      <td>내야수(우투우타)</td>\n",
       "      <td>쿠바 Ciego de Avila Maximo Gomez Baez(대)</td>\n",
       "      <td>NaN</td>\n",
       "      <td>0.959</td>\n",
       "    </tr>\n",
       "    <tr>\n",
       "      <th>1</th>\n",
       "      <td>1</td>\n",
       "      <td>강경학</td>\n",
       "      <td>2011</td>\n",
       "      <td>한화</td>\n",
       "      <td>0.000</td>\n",
       "      <td>4</td>\n",
       "      <td>2</td>\n",
       "      <td>2</td>\n",
       "      <td>0</td>\n",
       "      <td>0</td>\n",
       "      <td>...</td>\n",
       "      <td>0</td>\n",
       "      <td>0.00</td>\n",
       "      <td>0.500</td>\n",
       "      <td>0</td>\n",
       "      <td>180cm/72kg</td>\n",
       "      <td>1992년 08월 11일</td>\n",
       "      <td>내야수(우투좌타)</td>\n",
       "      <td>광주대성초-광주동성중-광주동성고</td>\n",
       "      <td>10000만원</td>\n",
       "      <td>0.500</td>\n",
       "    </tr>\n",
       "  </tbody>\n",
       "</table>\n",
       "<p>2 rows × 29 columns</p>\n",
       "</div>"
      ],
      "text/plain": [
       "   batter_id batter_name  year team    avg  G  AB  R  H  2B  ...  GDP   SLG   \n",
       "0          0        가르시아  2018   LG  0.350  7  20  1  7   1  ...    1  0.55  \\\n",
       "1          1         강경학  2011   한화  0.000  4   2  2  0   0  ...    0  0.00   \n",
       "\n",
       "     OBP  E  height/weight      year_born   position   \n",
       "0  0.409  1     177cm/93kg  1985년 04월 12일  내야수(우투우타)  \\\n",
       "1  0.500  0     180cm/72kg  1992년 08월 11일  내야수(우투좌타)   \n",
       "\n",
       "                                   career  starting_salary    OPS  \n",
       "0  쿠바 Ciego de Avila Maximo Gomez Baez(대)              NaN  0.959  \n",
       "1                       광주대성초-광주동성중-광주동성고          10000만원  0.500  \n",
       "\n",
       "[2 rows x 29 columns]"
      ]
     },
     "execution_count": 62,
     "metadata": {},
     "output_type": "execute_result"
    }
   ],
   "source": [
    "# 데이터 상단 출력\n",
    "preseason_df.head(2)"
   ]
  },
  {
   "cell_type": "code",
   "execution_count": 63,
   "metadata": {
    "tags": []
   },
   "outputs": [
    {
     "name": "stdout",
     "output_type": "stream",
     "text": [
      "<class 'pandas.core.frame.DataFrame'>\n",
      "RangeIndex: 1393 entries, 0 to 1392\n",
      "Data columns (total 29 columns):\n",
      " #   Column           Non-Null Count  Dtype  \n",
      "---  ------           --------------  -----  \n",
      " 0   batter_id        1393 non-null   int64  \n",
      " 1   batter_name      1393 non-null   object \n",
      " 2   year             1393 non-null   int64  \n",
      " 3   team             1393 non-null   object \n",
      " 4   avg              1393 non-null   object \n",
      " 5   G                1393 non-null   int64  \n",
      " 6   AB               1393 non-null   int64  \n",
      " 7   R                1393 non-null   int64  \n",
      " 8   H                1393 non-null   int64  \n",
      " 9   2B               1393 non-null   int64  \n",
      " 10  3B               1393 non-null   int64  \n",
      " 11  HR               1393 non-null   int64  \n",
      " 12  TB               1393 non-null   int64  \n",
      " 13  RBI              1393 non-null   int64  \n",
      " 14  SB               1393 non-null   int64  \n",
      " 15  CS               1393 non-null   int64  \n",
      " 16  BB               1393 non-null   int64  \n",
      " 17  HBP              1393 non-null   int64  \n",
      " 18  SO               1393 non-null   int64  \n",
      " 19  GDP              1393 non-null   int64  \n",
      " 20  SLG              1364 non-null   float64\n",
      " 21  OBP              1368 non-null   float64\n",
      " 22  E                1393 non-null   int64  \n",
      " 23  height/weight    1393 non-null   object \n",
      " 24  year_born        1393 non-null   object \n",
      " 25  position         1393 non-null   object \n",
      " 26  career           1393 non-null   object \n",
      " 27  starting_salary  1179 non-null   object \n",
      " 28  OPS              1364 non-null   float64\n",
      "dtypes: float64(3), int64(18), object(8)\n",
      "memory usage: 315.7+ KB\n"
     ]
    }
   ],
   "source": [
    "preseason_df.info()"
   ]
  },
  {
   "cell_type": "code",
   "execution_count": 64,
   "metadata": {
    "tags": []
   },
   "outputs": [
    {
     "data": {
      "text/html": [
       "<div>\n",
       "<style scoped>\n",
       "    .dataframe tbody tr th:only-of-type {\n",
       "        vertical-align: middle;\n",
       "    }\n",
       "\n",
       "    .dataframe tbody tr th {\n",
       "        vertical-align: top;\n",
       "    }\n",
       "\n",
       "    .dataframe thead th {\n",
       "        text-align: right;\n",
       "    }\n",
       "</style>\n",
       "<table border=\"1\" class=\"dataframe\">\n",
       "  <thead>\n",
       "    <tr style=\"text-align: right;\">\n",
       "      <th></th>\n",
       "      <th>batter_id</th>\n",
       "      <th>year</th>\n",
       "      <th>G</th>\n",
       "      <th>AB</th>\n",
       "      <th>R</th>\n",
       "      <th>H</th>\n",
       "      <th>2B</th>\n",
       "      <th>3B</th>\n",
       "      <th>HR</th>\n",
       "      <th>TB</th>\n",
       "      <th>...</th>\n",
       "      <th>SB</th>\n",
       "      <th>CS</th>\n",
       "      <th>BB</th>\n",
       "      <th>HBP</th>\n",
       "      <th>SO</th>\n",
       "      <th>GDP</th>\n",
       "      <th>SLG</th>\n",
       "      <th>OBP</th>\n",
       "      <th>E</th>\n",
       "      <th>OPS</th>\n",
       "    </tr>\n",
       "  </thead>\n",
       "  <tbody>\n",
       "    <tr>\n",
       "      <th>count</th>\n",
       "      <td>1393.000000</td>\n",
       "      <td>1393.000000</td>\n",
       "      <td>1393.000000</td>\n",
       "      <td>1393.000000</td>\n",
       "      <td>1393.000000</td>\n",
       "      <td>1393.000000</td>\n",
       "      <td>1393.000000</td>\n",
       "      <td>1393.000000</td>\n",
       "      <td>1393.000000</td>\n",
       "      <td>1393.000000</td>\n",
       "      <td>...</td>\n",
       "      <td>1393.000000</td>\n",
       "      <td>1393.000000</td>\n",
       "      <td>1393.000000</td>\n",
       "      <td>1393.000000</td>\n",
       "      <td>1393.000000</td>\n",
       "      <td>1393.000000</td>\n",
       "      <td>1364.000000</td>\n",
       "      <td>1368.000000</td>\n",
       "      <td>1393.000000</td>\n",
       "      <td>1364.000000</td>\n",
       "    </tr>\n",
       "    <tr>\n",
       "      <th>mean</th>\n",
       "      <td>173.434314</td>\n",
       "      <td>2013.014358</td>\n",
       "      <td>8.705671</td>\n",
       "      <td>19.201723</td>\n",
       "      <td>2.679828</td>\n",
       "      <td>5.021536</td>\n",
       "      <td>0.954774</td>\n",
       "      <td>0.119885</td>\n",
       "      <td>0.391960</td>\n",
       "      <td>7.391960</td>\n",
       "      <td>...</td>\n",
       "      <td>0.629576</td>\n",
       "      <td>0.291457</td>\n",
       "      <td>1.877961</td>\n",
       "      <td>0.330223</td>\n",
       "      <td>3.714286</td>\n",
       "      <td>0.447236</td>\n",
       "      <td>0.361012</td>\n",
       "      <td>0.317912</td>\n",
       "      <td>0.381910</td>\n",
       "      <td>0.676924</td>\n",
       "    </tr>\n",
       "    <tr>\n",
       "      <th>std</th>\n",
       "      <td>94.716851</td>\n",
       "      <td>4.166757</td>\n",
       "      <td>5.562686</td>\n",
       "      <td>13.395946</td>\n",
       "      <td>2.637212</td>\n",
       "      <td>4.232584</td>\n",
       "      <td>1.196904</td>\n",
       "      <td>0.379976</td>\n",
       "      <td>0.748557</td>\n",
       "      <td>6.538787</td>\n",
       "      <td>...</td>\n",
       "      <td>1.146854</td>\n",
       "      <td>0.595522</td>\n",
       "      <td>2.053392</td>\n",
       "      <td>0.642204</td>\n",
       "      <td>3.180884</td>\n",
       "      <td>0.723364</td>\n",
       "      <td>0.269892</td>\n",
       "      <td>0.151489</td>\n",
       "      <td>0.729521</td>\n",
       "      <td>0.386933</td>\n",
       "    </tr>\n",
       "    <tr>\n",
       "      <th>min</th>\n",
       "      <td>0.000000</td>\n",
       "      <td>2002.000000</td>\n",
       "      <td>1.000000</td>\n",
       "      <td>0.000000</td>\n",
       "      <td>0.000000</td>\n",
       "      <td>0.000000</td>\n",
       "      <td>0.000000</td>\n",
       "      <td>0.000000</td>\n",
       "      <td>0.000000</td>\n",
       "      <td>0.000000</td>\n",
       "      <td>...</td>\n",
       "      <td>0.000000</td>\n",
       "      <td>0.000000</td>\n",
       "      <td>0.000000</td>\n",
       "      <td>0.000000</td>\n",
       "      <td>0.000000</td>\n",
       "      <td>0.000000</td>\n",
       "      <td>0.000000</td>\n",
       "      <td>0.000000</td>\n",
       "      <td>0.000000</td>\n",
       "      <td>0.000000</td>\n",
       "    </tr>\n",
       "    <tr>\n",
       "      <th>25%</th>\n",
       "      <td>99.000000</td>\n",
       "      <td>2010.000000</td>\n",
       "      <td>6.000000</td>\n",
       "      <td>9.000000</td>\n",
       "      <td>1.000000</td>\n",
       "      <td>2.000000</td>\n",
       "      <td>0.000000</td>\n",
       "      <td>0.000000</td>\n",
       "      <td>0.000000</td>\n",
       "      <td>2.000000</td>\n",
       "      <td>...</td>\n",
       "      <td>0.000000</td>\n",
       "      <td>0.000000</td>\n",
       "      <td>0.000000</td>\n",
       "      <td>0.000000</td>\n",
       "      <td>1.000000</td>\n",
       "      <td>0.000000</td>\n",
       "      <td>0.217000</td>\n",
       "      <td>0.250000</td>\n",
       "      <td>0.000000</td>\n",
       "      <td>0.472000</td>\n",
       "    </tr>\n",
       "    <tr>\n",
       "      <th>50%</th>\n",
       "      <td>178.000000</td>\n",
       "      <td>2014.000000</td>\n",
       "      <td>9.000000</td>\n",
       "      <td>18.000000</td>\n",
       "      <td>2.000000</td>\n",
       "      <td>4.000000</td>\n",
       "      <td>1.000000</td>\n",
       "      <td>0.000000</td>\n",
       "      <td>0.000000</td>\n",
       "      <td>6.000000</td>\n",
       "      <td>...</td>\n",
       "      <td>0.000000</td>\n",
       "      <td>0.000000</td>\n",
       "      <td>1.000000</td>\n",
       "      <td>0.000000</td>\n",
       "      <td>3.000000</td>\n",
       "      <td>0.000000</td>\n",
       "      <td>0.344500</td>\n",
       "      <td>0.333000</td>\n",
       "      <td>0.000000</td>\n",
       "      <td>0.675000</td>\n",
       "    </tr>\n",
       "    <tr>\n",
       "      <th>75%</th>\n",
       "      <td>254.000000</td>\n",
       "      <td>2017.000000</td>\n",
       "      <td>11.000000</td>\n",
       "      <td>28.000000</td>\n",
       "      <td>4.000000</td>\n",
       "      <td>8.000000</td>\n",
       "      <td>2.000000</td>\n",
       "      <td>0.000000</td>\n",
       "      <td>1.000000</td>\n",
       "      <td>11.000000</td>\n",
       "      <td>...</td>\n",
       "      <td>1.000000</td>\n",
       "      <td>0.000000</td>\n",
       "      <td>3.000000</td>\n",
       "      <td>1.000000</td>\n",
       "      <td>5.000000</td>\n",
       "      <td>1.000000</td>\n",
       "      <td>0.478000</td>\n",
       "      <td>0.400000</td>\n",
       "      <td>1.000000</td>\n",
       "      <td>0.867000</td>\n",
       "    </tr>\n",
       "    <tr>\n",
       "      <th>max</th>\n",
       "      <td>344.000000</td>\n",
       "      <td>2018.000000</td>\n",
       "      <td>119.000000</td>\n",
       "      <td>183.000000</td>\n",
       "      <td>35.000000</td>\n",
       "      <td>51.000000</td>\n",
       "      <td>11.000000</td>\n",
       "      <td>4.000000</td>\n",
       "      <td>5.000000</td>\n",
       "      <td>68.000000</td>\n",
       "      <td>...</td>\n",
       "      <td>9.000000</td>\n",
       "      <td>4.000000</td>\n",
       "      <td>21.000000</td>\n",
       "      <td>4.000000</td>\n",
       "      <td>36.000000</td>\n",
       "      <td>5.000000</td>\n",
       "      <td>4.000000</td>\n",
       "      <td>1.000000</td>\n",
       "      <td>5.000000</td>\n",
       "      <td>5.000000</td>\n",
       "    </tr>\n",
       "  </tbody>\n",
       "</table>\n",
       "<p>8 rows × 21 columns</p>\n",
       "</div>"
      ],
      "text/plain": [
       "         batter_id         year            G           AB            R   \n",
       "count  1393.000000  1393.000000  1393.000000  1393.000000  1393.000000  \\\n",
       "mean    173.434314  2013.014358     8.705671    19.201723     2.679828   \n",
       "std      94.716851     4.166757     5.562686    13.395946     2.637212   \n",
       "min       0.000000  2002.000000     1.000000     0.000000     0.000000   \n",
       "25%      99.000000  2010.000000     6.000000     9.000000     1.000000   \n",
       "50%     178.000000  2014.000000     9.000000    18.000000     2.000000   \n",
       "75%     254.000000  2017.000000    11.000000    28.000000     4.000000   \n",
       "max     344.000000  2018.000000   119.000000   183.000000    35.000000   \n",
       "\n",
       "                 H           2B           3B           HR           TB  ...   \n",
       "count  1393.000000  1393.000000  1393.000000  1393.000000  1393.000000  ...  \\\n",
       "mean      5.021536     0.954774     0.119885     0.391960     7.391960  ...   \n",
       "std       4.232584     1.196904     0.379976     0.748557     6.538787  ...   \n",
       "min       0.000000     0.000000     0.000000     0.000000     0.000000  ...   \n",
       "25%       2.000000     0.000000     0.000000     0.000000     2.000000  ...   \n",
       "50%       4.000000     1.000000     0.000000     0.000000     6.000000  ...   \n",
       "75%       8.000000     2.000000     0.000000     1.000000    11.000000  ...   \n",
       "max      51.000000    11.000000     4.000000     5.000000    68.000000  ...   \n",
       "\n",
       "                SB           CS           BB          HBP           SO   \n",
       "count  1393.000000  1393.000000  1393.000000  1393.000000  1393.000000  \\\n",
       "mean      0.629576     0.291457     1.877961     0.330223     3.714286   \n",
       "std       1.146854     0.595522     2.053392     0.642204     3.180884   \n",
       "min       0.000000     0.000000     0.000000     0.000000     0.000000   \n",
       "25%       0.000000     0.000000     0.000000     0.000000     1.000000   \n",
       "50%       0.000000     0.000000     1.000000     0.000000     3.000000   \n",
       "75%       1.000000     0.000000     3.000000     1.000000     5.000000   \n",
       "max       9.000000     4.000000    21.000000     4.000000    36.000000   \n",
       "\n",
       "               GDP          SLG          OBP            E          OPS  \n",
       "count  1393.000000  1364.000000  1368.000000  1393.000000  1364.000000  \n",
       "mean      0.447236     0.361012     0.317912     0.381910     0.676924  \n",
       "std       0.723364     0.269892     0.151489     0.729521     0.386933  \n",
       "min       0.000000     0.000000     0.000000     0.000000     0.000000  \n",
       "25%       0.000000     0.217000     0.250000     0.000000     0.472000  \n",
       "50%       0.000000     0.344500     0.333000     0.000000     0.675000  \n",
       "75%       1.000000     0.478000     0.400000     1.000000     0.867000  \n",
       "max       5.000000     4.000000     1.000000     5.000000     5.000000  \n",
       "\n",
       "[8 rows x 21 columns]"
      ]
     },
     "execution_count": 64,
     "metadata": {},
     "output_type": "execute_result"
    }
   ],
   "source": [
    "# 데이터 기초통계량 확인\n",
    "preseason_df.describe()"
   ]
  },
  {
   "cell_type": "code",
   "execution_count": 65,
   "metadata": {
    "tags": []
   },
   "outputs": [
    {
     "data": {
      "image/png": "[encoded data removed]",
      "text/plain": [
       "<Figure size 1000x900 with 25 Axes>"
      ]
     },
     "metadata": {},
     "output_type": "display_data"
    }
   ],
   "source": [
    "# 데이터 시각화\n",
    "preseason_df.hist(figsize=(10,9))\n",
    "plt.tight_layout()\n",
    "plt.show()"
   ]
  },
  {
   "cell_type": "code",
   "execution_count": 66,
   "metadata": {
    "tags": []
   },
   "outputs": [],
   "source": [
    "# 정규시즌 데이터에서 2002년 이후의 연도별 기록된 선수의 수\n",
    "regular_count = regular_season_df.groupby('year')['batter_id'].count().rename('regular')"
   ]
  },
  {
   "cell_type": "code",
   "execution_count": 67,
   "metadata": {
    "tags": []
   },
   "outputs": [],
   "source": [
    "# 프리시즌 데이터에서 연도별 기록된 선수의 수\n",
    "preseason_count = preseason_df.groupby('year')['batter_id'].count().rename('preseason')"
   ]
  },
  {
   "cell_type": "code",
   "execution_count": 68,
   "metadata": {
    "tags": []
   },
   "outputs": [
    {
     "data": {
      "text/html": [
       "<div>\n",
       "<style scoped>\n",
       "    .dataframe tbody tr th:only-of-type {\n",
       "        vertical-align: middle;\n",
       "    }\n",
       "\n",
       "    .dataframe tbody tr th {\n",
       "        vertical-align: top;\n",
       "    }\n",
       "\n",
       "    .dataframe thead th {\n",
       "        text-align: right;\n",
       "    }\n",
       "</style>\n",
       "<table border=\"1\" class=\"dataframe\">\n",
       "  <thead>\n",
       "    <tr style=\"text-align: right;\">\n",
       "      <th>year</th>\n",
       "      <th>2002</th>\n",
       "      <th>2003</th>\n",
       "      <th>2004</th>\n",
       "      <th>2005</th>\n",
       "      <th>2006</th>\n",
       "      <th>2007</th>\n",
       "      <th>2008</th>\n",
       "      <th>2009</th>\n",
       "      <th>2010</th>\n",
       "      <th>2011</th>\n",
       "      <th>2012</th>\n",
       "      <th>2013</th>\n",
       "      <th>2014</th>\n",
       "      <th>2015</th>\n",
       "      <th>2016</th>\n",
       "      <th>2017</th>\n",
       "      <th>2018</th>\n",
       "    </tr>\n",
       "  </thead>\n",
       "  <tbody>\n",
       "    <tr>\n",
       "      <th>regular</th>\n",
       "      <td>43.00</td>\n",
       "      <td>54.00</td>\n",
       "      <td>68.00</td>\n",
       "      <td>73.00</td>\n",
       "      <td>85.00</td>\n",
       "      <td>98.00</td>\n",
       "      <td>115.00</td>\n",
       "      <td>124.00</td>\n",
       "      <td>130.00</td>\n",
       "      <td>151.0</td>\n",
       "      <td>174.0</td>\n",
       "      <td>194.00</td>\n",
       "      <td>186.00</td>\n",
       "      <td>207.00</td>\n",
       "      <td>213.00</td>\n",
       "      <td>217.00</td>\n",
       "      <td>227.0</td>\n",
       "    </tr>\n",
       "    <tr>\n",
       "      <th>preseason</th>\n",
       "      <td>12.00</td>\n",
       "      <td>19.00</td>\n",
       "      <td>28.00</td>\n",
       "      <td>37.00</td>\n",
       "      <td>36.00</td>\n",
       "      <td>43.00</td>\n",
       "      <td>61.00</td>\n",
       "      <td>66.00</td>\n",
       "      <td>72.00</td>\n",
       "      <td>75.0</td>\n",
       "      <td>87.0</td>\n",
       "      <td>104.00</td>\n",
       "      <td>117.00</td>\n",
       "      <td>134.00</td>\n",
       "      <td>153.00</td>\n",
       "      <td>167.00</td>\n",
       "      <td>182.0</td>\n",
       "    </tr>\n",
       "    <tr>\n",
       "      <th>ratio</th>\n",
       "      <td>0.28</td>\n",
       "      <td>0.35</td>\n",
       "      <td>0.41</td>\n",
       "      <td>0.51</td>\n",
       "      <td>0.42</td>\n",
       "      <td>0.44</td>\n",
       "      <td>0.53</td>\n",
       "      <td>0.53</td>\n",
       "      <td>0.55</td>\n",
       "      <td>0.5</td>\n",
       "      <td>0.5</td>\n",
       "      <td>0.54</td>\n",
       "      <td>0.63</td>\n",
       "      <td>0.65</td>\n",
       "      <td>0.72</td>\n",
       "      <td>0.77</td>\n",
       "      <td>0.8</td>\n",
       "    </tr>\n",
       "  </tbody>\n",
       "</table>\n",
       "</div>"
      ],
      "text/plain": [
       "year        2002   2003   2004   2005   2006   2007    2008    2009    2010   \n",
       "regular    43.00  54.00  68.00  73.00  85.00  98.00  115.00  124.00  130.00  \\\n",
       "preseason  12.00  19.00  28.00  37.00  36.00  43.00   61.00   66.00   72.00   \n",
       "ratio       0.28   0.35   0.41   0.51   0.42   0.44    0.53    0.53    0.55   \n",
       "\n",
       "year        2011   2012    2013    2014    2015    2016    2017   2018  \n",
       "regular    151.0  174.0  194.00  186.00  207.00  213.00  217.00  227.0  \n",
       "preseason   75.0   87.0  104.00  117.00  134.00  153.00  167.00  182.0  \n",
       "ratio        0.5    0.5    0.54    0.63    0.65    0.72    0.77    0.8  "
      ]
     },
     "execution_count": 68,
     "metadata": {},
     "output_type": "execute_result"
    }
   ],
   "source": [
    "pd.concat([regular_count, \n",
    "           preseason_count, \n",
    "           np.round( preseason_count/regular_count ,2).rename('ratio')], \n",
    "           axis=1).T.loc[:, 2002:]"
   ]
  },
  {
   "cell_type": "code",
   "execution_count": 69,
   "metadata": {
    "tags": []
   },
   "outputs": [],
   "source": [
    "#프리시즌 성적과 정규시즌의 성적 간의 상관관계를 살펴보기 위해 두 데이터에 공통적으로 존제하는 선수들의 기록만 정리\n",
    "\n",
    "# 타자의 이름과 연도를 이용해 새로운 인덱스를 생성\n",
    "regular_season_df['new_idx'] = regular_season_df['batter_name']+regular_season_df['year'].apply(str)\n",
    "preseason_df['new_idx'] = preseason_df['batter_name']+preseason_df['year'].apply(str)"
   ]
  },
  {
   "cell_type": "code",
   "execution_count": 70,
   "metadata": {
    "tags": []
   },
   "outputs": [
    {
     "data": {
      "text/plain": [
       "1358"
      ]
     },
     "execution_count": 70,
     "metadata": {},
     "output_type": "execute_result"
    }
   ],
   "source": [
    "# 새로운 인덱스의 교집합\n",
    "intersection_idx = list(set(regular_season_df['new_idx']).intersection(preseason_df['new_idx']))\n",
    "len(intersection_idx)"
   ]
  },
  {
   "cell_type": "code",
   "execution_count": 71,
   "metadata": {
    "tags": []
   },
   "outputs": [
    {
     "data": {
      "text/html": [
       "<div>\n",
       "<style scoped>\n",
       "    .dataframe tbody tr th:only-of-type {\n",
       "        vertical-align: middle;\n",
       "    }\n",
       "\n",
       "    .dataframe tbody tr th {\n",
       "        vertical-align: top;\n",
       "    }\n",
       "\n",
       "    .dataframe thead th {\n",
       "        text-align: right;\n",
       "    }\n",
       "</style>\n",
       "<table border=\"1\" class=\"dataframe\">\n",
       "  <thead>\n",
       "    <tr style=\"text-align: right;\">\n",
       "      <th></th>\n",
       "      <th>batter_id</th>\n",
       "      <th>batter_name</th>\n",
       "      <th>year</th>\n",
       "      <th>team</th>\n",
       "      <th>avg</th>\n",
       "      <th>G</th>\n",
       "      <th>AB</th>\n",
       "      <th>R</th>\n",
       "      <th>H</th>\n",
       "      <th>2B</th>\n",
       "      <th>...</th>\n",
       "      <th>SLG</th>\n",
       "      <th>OBP</th>\n",
       "      <th>E</th>\n",
       "      <th>height/weight</th>\n",
       "      <th>year_born</th>\n",
       "      <th>position</th>\n",
       "      <th>career</th>\n",
       "      <th>starting_salary</th>\n",
       "      <th>OPS</th>\n",
       "      <th>new_idx</th>\n",
       "    </tr>\n",
       "  </thead>\n",
       "  <tbody>\n",
       "    <tr>\n",
       "      <th>0</th>\n",
       "      <td>0</td>\n",
       "      <td>가르시아</td>\n",
       "      <td>2018</td>\n",
       "      <td>LG</td>\n",
       "      <td>0.339</td>\n",
       "      <td>50</td>\n",
       "      <td>183</td>\n",
       "      <td>27</td>\n",
       "      <td>62</td>\n",
       "      <td>9</td>\n",
       "      <td>...</td>\n",
       "      <td>0.519</td>\n",
       "      <td>0.383</td>\n",
       "      <td>9</td>\n",
       "      <td>177cm/93kg</td>\n",
       "      <td>1985년 04월 12일</td>\n",
       "      <td>내야수(우투우타)</td>\n",
       "      <td>쿠바 Ciego de Avila Maximo Gomez Baez(대)</td>\n",
       "      <td>NaN</td>\n",
       "      <td>0.902</td>\n",
       "      <td>가르시아2018</td>\n",
       "    </tr>\n",
       "    <tr>\n",
       "      <th>1</th>\n",
       "      <td>1</td>\n",
       "      <td>강경학</td>\n",
       "      <td>2011</td>\n",
       "      <td>한화</td>\n",
       "      <td>0.000</td>\n",
       "      <td>2</td>\n",
       "      <td>1</td>\n",
       "      <td>0</td>\n",
       "      <td>0</td>\n",
       "      <td>0</td>\n",
       "      <td>...</td>\n",
       "      <td>0.000</td>\n",
       "      <td>0.000</td>\n",
       "      <td>1</td>\n",
       "      <td>180cm/72kg</td>\n",
       "      <td>1992년 08월 11일</td>\n",
       "      <td>내야수(우투좌타)</td>\n",
       "      <td>광주대성초-광주동성중-광주동성고</td>\n",
       "      <td>10000만원</td>\n",
       "      <td>0.000</td>\n",
       "      <td>강경학2011</td>\n",
       "    </tr>\n",
       "  </tbody>\n",
       "</table>\n",
       "<p>2 rows × 30 columns</p>\n",
       "</div>"
      ],
      "text/plain": [
       "   batter_id batter_name  year team    avg   G   AB   R   H  2B  ...    SLG   \n",
       "0          0        가르시아  2018   LG  0.339  50  183  27  62   9  ...  0.519  \\\n",
       "1          1         강경학  2011   한화  0.000   2    1   0   0   0  ...  0.000   \n",
       "\n",
       "     OBP  E  height/weight      year_born   position   \n",
       "0  0.383  9     177cm/93kg  1985년 04월 12일  내야수(우투우타)  \\\n",
       "1  0.000  1     180cm/72kg  1992년 08월 11일  내야수(우투좌타)   \n",
       "\n",
       "                                   career  starting_salary    OPS   new_idx  \n",
       "0  쿠바 Ciego de Avila Maximo Gomez Baez(대)              NaN  0.902  가르시아2018  \n",
       "1                       광주대성초-광주동성중-광주동성고          10000만원  0.000   강경학2011  \n",
       "\n",
       "[2 rows x 30 columns]"
      ]
     },
     "execution_count": 71,
     "metadata": {},
     "output_type": "execute_result"
    }
   ],
   "source": [
    "# 교집합에 존재하는 데이터만 불러오기\n",
    "regular_season_new = regular_season_df.loc[regular_season_df['new_idx'].apply(lambda x: x in intersection_idx)].copy()\n",
    "regular_season_new = regular_season_new.sort_values(by = 'new_idx').reset_index(drop=True)\n",
    "regular_season_new.head(2)"
   ]
  },
  {
   "cell_type": "code",
   "execution_count": 72,
   "metadata": {
    "tags": []
   },
   "outputs": [
    {
     "data": {
      "text/html": [
       "<div>\n",
       "<style scoped>\n",
       "    .dataframe tbody tr th:only-of-type {\n",
       "        vertical-align: middle;\n",
       "    }\n",
       "\n",
       "    .dataframe tbody tr th {\n",
       "        vertical-align: top;\n",
       "    }\n",
       "\n",
       "    .dataframe thead th {\n",
       "        text-align: right;\n",
       "    }\n",
       "</style>\n",
       "<table border=\"1\" class=\"dataframe\">\n",
       "  <thead>\n",
       "    <tr style=\"text-align: right;\">\n",
       "      <th></th>\n",
       "      <th>batter_id</th>\n",
       "      <th>batter_name</th>\n",
       "      <th>year</th>\n",
       "      <th>team</th>\n",
       "      <th>avg</th>\n",
       "      <th>G</th>\n",
       "      <th>AB</th>\n",
       "      <th>R</th>\n",
       "      <th>H</th>\n",
       "      <th>2B</th>\n",
       "      <th>...</th>\n",
       "      <th>SLG</th>\n",
       "      <th>OBP</th>\n",
       "      <th>E</th>\n",
       "      <th>height/weight</th>\n",
       "      <th>year_born</th>\n",
       "      <th>position</th>\n",
       "      <th>career</th>\n",
       "      <th>starting_salary</th>\n",
       "      <th>OPS</th>\n",
       "      <th>new_idx</th>\n",
       "    </tr>\n",
       "  </thead>\n",
       "  <tbody>\n",
       "    <tr>\n",
       "      <th>0</th>\n",
       "      <td>0</td>\n",
       "      <td>가르시아</td>\n",
       "      <td>2018</td>\n",
       "      <td>LG</td>\n",
       "      <td>0.350</td>\n",
       "      <td>7</td>\n",
       "      <td>20</td>\n",
       "      <td>1</td>\n",
       "      <td>7</td>\n",
       "      <td>1</td>\n",
       "      <td>...</td>\n",
       "      <td>0.55</td>\n",
       "      <td>0.409</td>\n",
       "      <td>1</td>\n",
       "      <td>177cm/93kg</td>\n",
       "      <td>1985년 04월 12일</td>\n",
       "      <td>내야수(우투우타)</td>\n",
       "      <td>쿠바 Ciego de Avila Maximo Gomez Baez(대)</td>\n",
       "      <td>NaN</td>\n",
       "      <td>0.959</td>\n",
       "      <td>가르시아2018</td>\n",
       "    </tr>\n",
       "    <tr>\n",
       "      <th>1</th>\n",
       "      <td>1</td>\n",
       "      <td>강경학</td>\n",
       "      <td>2011</td>\n",
       "      <td>한화</td>\n",
       "      <td>0.000</td>\n",
       "      <td>4</td>\n",
       "      <td>2</td>\n",
       "      <td>2</td>\n",
       "      <td>0</td>\n",
       "      <td>0</td>\n",
       "      <td>...</td>\n",
       "      <td>0.00</td>\n",
       "      <td>0.500</td>\n",
       "      <td>0</td>\n",
       "      <td>180cm/72kg</td>\n",
       "      <td>1992년 08월 11일</td>\n",
       "      <td>내야수(우투좌타)</td>\n",
       "      <td>광주대성초-광주동성중-광주동성고</td>\n",
       "      <td>10000만원</td>\n",
       "      <td>0.500</td>\n",
       "      <td>강경학2011</td>\n",
       "    </tr>\n",
       "  </tbody>\n",
       "</table>\n",
       "<p>2 rows × 30 columns</p>\n",
       "</div>"
      ],
      "text/plain": [
       "   batter_id batter_name  year team    avg  G  AB  R  H  2B  ...   SLG    OBP   \n",
       "0          0        가르시아  2018   LG  0.350  7  20  1  7   1  ...  0.55  0.409  \\\n",
       "1          1         강경학  2011   한화  0.000  4   2  2  0   0  ...  0.00  0.500   \n",
       "\n",
       "   E  height/weight      year_born   position   \n",
       "0  1     177cm/93kg  1985년 04월 12일  내야수(우투우타)  \\\n",
       "1  0     180cm/72kg  1992년 08월 11일  내야수(우투좌타)   \n",
       "\n",
       "                                   career  starting_salary    OPS   new_idx  \n",
       "0  쿠바 Ciego de Avila Maximo Gomez Baez(대)              NaN  0.959  가르시아2018  \n",
       "1                       광주대성초-광주동성중-광주동성고          10000만원  0.500   강경학2011  \n",
       "\n",
       "[2 rows x 30 columns]"
      ]
     },
     "execution_count": 72,
     "metadata": {},
     "output_type": "execute_result"
    }
   ],
   "source": [
    "# 비교를 위해 preseason도 동일하게 처리 \n",
    "preseason_new = preseason_df.loc[preseason_df['new_idx'].apply(lambda x: x in intersection_idx)].copy()\n",
    "preseason_new = preseason_new.sort_values(by = 'new_idx').reset_index(drop=True)\n",
    "preseason_new.head(2)"
   ]
  },
  {
   "cell_type": "code",
   "execution_count": 73,
   "metadata": {
    "tags": []
   },
   "outputs": [
    {
     "name": "stdout",
     "output_type": "stream",
     "text": [
      "(1358, 30) (1358, 30)\n"
     ]
    },
    {
     "data": {
      "text/plain": [
       "1358"
      ]
     },
     "execution_count": 73,
     "metadata": {},
     "output_type": "execute_result"
    }
   ],
   "source": [
    "# 검정 코드\n",
    "print(regular_season_new.shape, preseason_new.shape)\n",
    "sum(regular_season_new['new_idx']==preseason_new['new_idx'] )"
   ]
  },
  {
   "cell_type": "code",
   "execution_count": 74,
   "metadata": {
    "tags": []
   },
   "outputs": [
    {
     "data": {
      "image/png": "[encoded data removed]",
      "text/plain": [
       "<Figure size 640x480 with 1 Axes>"
      ]
     },
     "metadata": {},
     "output_type": "display_data"
    }
   ],
   "source": [
    "# 정규시즌과 프리시즌의 상관관계 계산\n",
    "correlation = regular_season_new['OPS'].corr(preseason_new['OPS'])\n",
    "sns.scatterplot(x=regular_season_new['OPS'], y=preseason_new['OPS'])\n",
    "plt.title('상관계수:'+str(correlation), fontsize=20)\n",
    "plt.xlabel('정규시즌 OPS')\n",
    "plt.ylabel('프리시즌 OPS')\n",
    "plt.show()"
   ]
  },
  {
   "cell_type": "markdown",
   "metadata": {},
   "source": [
    "### 1.2.2. 정규시즌 데이터 분석"
   ]
  },
  {
   "cell_type": "code",
   "execution_count": 80,
   "metadata": {
    "tags": []
   },
   "outputs": [
    {
     "data": {
      "text/plain": [
       "(2454, 30)"
      ]
     },
     "execution_count": 80,
     "metadata": {},
     "output_type": "execute_result"
    }
   ],
   "source": [
    "regular_season_df.shape"
   ]
  },
  {
   "cell_type": "code",
   "execution_count": 81,
   "metadata": {
    "tags": []
   },
   "outputs": [
    {
     "data": {
      "text/html": [
       "<div>\n",
       "<style scoped>\n",
       "    .dataframe tbody tr th:only-of-type {\n",
       "        vertical-align: middle;\n",
       "    }\n",
       "\n",
       "    .dataframe tbody tr th {\n",
       "        vertical-align: top;\n",
       "    }\n",
       "\n",
       "    .dataframe thead th {\n",
       "        text-align: right;\n",
       "    }\n",
       "</style>\n",
       "<table border=\"1\" class=\"dataframe\">\n",
       "  <thead>\n",
       "    <tr style=\"text-align: right;\">\n",
       "      <th></th>\n",
       "      <th>batter_id</th>\n",
       "      <th>batter_name</th>\n",
       "      <th>year</th>\n",
       "      <th>team</th>\n",
       "      <th>avg</th>\n",
       "      <th>G</th>\n",
       "      <th>AB</th>\n",
       "      <th>R</th>\n",
       "      <th>H</th>\n",
       "      <th>2B</th>\n",
       "      <th>...</th>\n",
       "      <th>SLG</th>\n",
       "      <th>OBP</th>\n",
       "      <th>E</th>\n",
       "      <th>height/weight</th>\n",
       "      <th>year_born</th>\n",
       "      <th>position</th>\n",
       "      <th>career</th>\n",
       "      <th>starting_salary</th>\n",
       "      <th>OPS</th>\n",
       "      <th>new_idx</th>\n",
       "    </tr>\n",
       "  </thead>\n",
       "  <tbody>\n",
       "    <tr>\n",
       "      <th>0</th>\n",
       "      <td>0</td>\n",
       "      <td>가르시아</td>\n",
       "      <td>2018</td>\n",
       "      <td>LG</td>\n",
       "      <td>0.339</td>\n",
       "      <td>50</td>\n",
       "      <td>183</td>\n",
       "      <td>27</td>\n",
       "      <td>62</td>\n",
       "      <td>9</td>\n",
       "      <td>...</td>\n",
       "      <td>0.519</td>\n",
       "      <td>0.383</td>\n",
       "      <td>9</td>\n",
       "      <td>177cm/93kg</td>\n",
       "      <td>1985년 04월 12일</td>\n",
       "      <td>내야수(우투우타)</td>\n",
       "      <td>쿠바 Ciego de Avila Maximo Gomez Baez(대)</td>\n",
       "      <td>NaN</td>\n",
       "      <td>0.902</td>\n",
       "      <td>가르시아2018</td>\n",
       "    </tr>\n",
       "    <tr>\n",
       "      <th>1</th>\n",
       "      <td>1</td>\n",
       "      <td>강경학</td>\n",
       "      <td>2011</td>\n",
       "      <td>한화</td>\n",
       "      <td>0.000</td>\n",
       "      <td>2</td>\n",
       "      <td>1</td>\n",
       "      <td>0</td>\n",
       "      <td>0</td>\n",
       "      <td>0</td>\n",
       "      <td>...</td>\n",
       "      <td>0.000</td>\n",
       "      <td>0.000</td>\n",
       "      <td>1</td>\n",
       "      <td>180cm/72kg</td>\n",
       "      <td>1992년 08월 11일</td>\n",
       "      <td>내야수(우투좌타)</td>\n",
       "      <td>광주대성초-광주동성중-광주동성고</td>\n",
       "      <td>10000만원</td>\n",
       "      <td>0.000</td>\n",
       "      <td>강경학2011</td>\n",
       "    </tr>\n",
       "  </tbody>\n",
       "</table>\n",
       "<p>2 rows × 30 columns</p>\n",
       "</div>"
      ],
      "text/plain": [
       "   batter_id batter_name  year team    avg   G   AB   R   H  2B  ...    SLG   \n",
       "0          0        가르시아  2018   LG  0.339  50  183  27  62   9  ...  0.519  \\\n",
       "1          1         강경학  2011   한화  0.000   2    1   0   0   0  ...  0.000   \n",
       "\n",
       "     OBP  E  height/weight      year_born   position   \n",
       "0  0.383  9     177cm/93kg  1985년 04월 12일  내야수(우투우타)  \\\n",
       "1  0.000  1     180cm/72kg  1992년 08월 11일  내야수(우투좌타)   \n",
       "\n",
       "                                   career  starting_salary    OPS   new_idx  \n",
       "0  쿠바 Ciego de Avila Maximo Gomez Baez(대)              NaN  0.902  가르시아2018  \n",
       "1                       광주대성초-광주동성중-광주동성고          10000만원  0.000   강경학2011  \n",
       "\n",
       "[2 rows x 30 columns]"
      ]
     },
     "execution_count": 81,
     "metadata": {},
     "output_type": "execute_result"
    }
   ],
   "source": [
    "regular_season_df.head(2)"
   ]
  },
  {
   "cell_type": "code",
   "execution_count": 82,
   "metadata": {
    "tags": []
   },
   "outputs": [
    {
     "data": {
      "text/html": [
       "<div>\n",
       "<style scoped>\n",
       "    .dataframe tbody tr th:only-of-type {\n",
       "        vertical-align: middle;\n",
       "    }\n",
       "\n",
       "    .dataframe tbody tr th {\n",
       "        vertical-align: top;\n",
       "    }\n",
       "\n",
       "    .dataframe thead th {\n",
       "        text-align: right;\n",
       "    }\n",
       "</style>\n",
       "<table border=\"1\" class=\"dataframe\">\n",
       "  <thead>\n",
       "    <tr style=\"text-align: right;\">\n",
       "      <th></th>\n",
       "      <th>batter_id</th>\n",
       "      <th>year</th>\n",
       "      <th>avg</th>\n",
       "      <th>G</th>\n",
       "      <th>AB</th>\n",
       "      <th>R</th>\n",
       "      <th>H</th>\n",
       "      <th>2B</th>\n",
       "      <th>3B</th>\n",
       "      <th>HR</th>\n",
       "      <th>...</th>\n",
       "      <th>SB</th>\n",
       "      <th>CS</th>\n",
       "      <th>BB</th>\n",
       "      <th>HBP</th>\n",
       "      <th>SO</th>\n",
       "      <th>GDP</th>\n",
       "      <th>SLG</th>\n",
       "      <th>OBP</th>\n",
       "      <th>E</th>\n",
       "      <th>OPS</th>\n",
       "    </tr>\n",
       "  </thead>\n",
       "  <tbody>\n",
       "    <tr>\n",
       "      <th>count</th>\n",
       "      <td>2454.000000</td>\n",
       "      <td>2454.000000</td>\n",
       "      <td>2428.000000</td>\n",
       "      <td>2454.000000</td>\n",
       "      <td>2454.000000</td>\n",
       "      <td>2454.000000</td>\n",
       "      <td>2454.000000</td>\n",
       "      <td>2454.000000</td>\n",
       "      <td>2454.000000</td>\n",
       "      <td>2454.000000</td>\n",
       "      <td>...</td>\n",
       "      <td>2454.000000</td>\n",
       "      <td>2454.000000</td>\n",
       "      <td>2454.000000</td>\n",
       "      <td>2454.000000</td>\n",
       "      <td>2454.000000</td>\n",
       "      <td>2454.000000</td>\n",
       "      <td>2428.000000</td>\n",
       "      <td>2430.000000</td>\n",
       "      <td>2454.000000</td>\n",
       "      <td>2428.000000</td>\n",
       "    </tr>\n",
       "    <tr>\n",
       "      <th>mean</th>\n",
       "      <td>178.079462</td>\n",
       "      <td>2011.614507</td>\n",
       "      <td>0.237559</td>\n",
       "      <td>72.535045</td>\n",
       "      <td>201.514670</td>\n",
       "      <td>29.912388</td>\n",
       "      <td>55.988183</td>\n",
       "      <td>9.863488</td>\n",
       "      <td>0.957620</td>\n",
       "      <td>5.504075</td>\n",
       "      <td>...</td>\n",
       "      <td>5.290139</td>\n",
       "      <td>2.335778</td>\n",
       "      <td>20.943765</td>\n",
       "      <td>3.424613</td>\n",
       "      <td>38.596985</td>\n",
       "      <td>4.603504</td>\n",
       "      <td>0.343826</td>\n",
       "      <td>0.306684</td>\n",
       "      <td>3.676447</td>\n",
       "      <td>0.649939</td>\n",
       "    </tr>\n",
       "    <tr>\n",
       "      <th>std</th>\n",
       "      <td>97.557947</td>\n",
       "      <td>4.992833</td>\n",
       "      <td>0.098440</td>\n",
       "      <td>45.093871</td>\n",
       "      <td>169.537029</td>\n",
       "      <td>28.778759</td>\n",
       "      <td>52.253844</td>\n",
       "      <td>9.871314</td>\n",
       "      <td>1.647193</td>\n",
       "      <td>7.989380</td>\n",
       "      <td>...</td>\n",
       "      <td>9.088580</td>\n",
       "      <td>3.194045</td>\n",
       "      <td>21.206113</td>\n",
       "      <td>4.132614</td>\n",
       "      <td>31.801466</td>\n",
       "      <td>4.713531</td>\n",
       "      <td>0.163335</td>\n",
       "      <td>0.111778</td>\n",
       "      <td>4.585248</td>\n",
       "      <td>0.261634</td>\n",
       "    </tr>\n",
       "    <tr>\n",
       "      <th>min</th>\n",
       "      <td>0.000000</td>\n",
       "      <td>1993.000000</td>\n",
       "      <td>0.000000</td>\n",
       "      <td>1.000000</td>\n",
       "      <td>0.000000</td>\n",
       "      <td>0.000000</td>\n",
       "      <td>0.000000</td>\n",
       "      <td>0.000000</td>\n",
       "      <td>0.000000</td>\n",
       "      <td>0.000000</td>\n",
       "      <td>...</td>\n",
       "      <td>0.000000</td>\n",
       "      <td>0.000000</td>\n",
       "      <td>0.000000</td>\n",
       "      <td>0.000000</td>\n",
       "      <td>0.000000</td>\n",
       "      <td>0.000000</td>\n",
       "      <td>0.000000</td>\n",
       "      <td>0.000000</td>\n",
       "      <td>0.000000</td>\n",
       "      <td>0.000000</td>\n",
       "    </tr>\n",
       "    <tr>\n",
       "      <th>25%</th>\n",
       "      <td>101.250000</td>\n",
       "      <td>2008.000000</td>\n",
       "      <td>0.203000</td>\n",
       "      <td>28.000000</td>\n",
       "      <td>38.250000</td>\n",
       "      <td>5.000000</td>\n",
       "      <td>8.000000</td>\n",
       "      <td>1.000000</td>\n",
       "      <td>0.000000</td>\n",
       "      <td>0.000000</td>\n",
       "      <td>...</td>\n",
       "      <td>0.000000</td>\n",
       "      <td>0.000000</td>\n",
       "      <td>3.000000</td>\n",
       "      <td>0.000000</td>\n",
       "      <td>10.000000</td>\n",
       "      <td>1.000000</td>\n",
       "      <td>0.267454</td>\n",
       "      <td>0.272727</td>\n",
       "      <td>0.000000</td>\n",
       "      <td>0.546000</td>\n",
       "    </tr>\n",
       "    <tr>\n",
       "      <th>50%</th>\n",
       "      <td>183.000000</td>\n",
       "      <td>2013.000000</td>\n",
       "      <td>0.255000</td>\n",
       "      <td>79.000000</td>\n",
       "      <td>163.000000</td>\n",
       "      <td>21.000000</td>\n",
       "      <td>40.000000</td>\n",
       "      <td>7.000000</td>\n",
       "      <td>0.000000</td>\n",
       "      <td>2.000000</td>\n",
       "      <td>...</td>\n",
       "      <td>2.000000</td>\n",
       "      <td>1.000000</td>\n",
       "      <td>14.000000</td>\n",
       "      <td>2.000000</td>\n",
       "      <td>33.000000</td>\n",
       "      <td>3.000000</td>\n",
       "      <td>0.360124</td>\n",
       "      <td>0.328592</td>\n",
       "      <td>2.000000</td>\n",
       "      <td>0.688637</td>\n",
       "    </tr>\n",
       "    <tr>\n",
       "      <th>75%</th>\n",
       "      <td>265.000000</td>\n",
       "      <td>2016.000000</td>\n",
       "      <td>0.291000</td>\n",
       "      <td>115.000000</td>\n",
       "      <td>357.500000</td>\n",
       "      <td>49.000000</td>\n",
       "      <td>100.000000</td>\n",
       "      <td>16.000000</td>\n",
       "      <td>1.000000</td>\n",
       "      <td>8.000000</td>\n",
       "      <td>...</td>\n",
       "      <td>6.000000</td>\n",
       "      <td>3.000000</td>\n",
       "      <td>34.000000</td>\n",
       "      <td>5.000000</td>\n",
       "      <td>60.000000</td>\n",
       "      <td>7.000000</td>\n",
       "      <td>0.436000</td>\n",
       "      <td>0.367000</td>\n",
       "      <td>5.000000</td>\n",
       "      <td>0.797234</td>\n",
       "    </tr>\n",
       "    <tr>\n",
       "      <th>max</th>\n",
       "      <td>344.000000</td>\n",
       "      <td>2018.000000</td>\n",
       "      <td>1.000000</td>\n",
       "      <td>144.000000</td>\n",
       "      <td>600.000000</td>\n",
       "      <td>135.000000</td>\n",
       "      <td>201.000000</td>\n",
       "      <td>47.000000</td>\n",
       "      <td>17.000000</td>\n",
       "      <td>53.000000</td>\n",
       "      <td>...</td>\n",
       "      <td>84.000000</td>\n",
       "      <td>21.000000</td>\n",
       "      <td>108.000000</td>\n",
       "      <td>27.000000</td>\n",
       "      <td>161.000000</td>\n",
       "      <td>24.000000</td>\n",
       "      <td>3.000000</td>\n",
       "      <td>1.000000</td>\n",
       "      <td>30.000000</td>\n",
       "      <td>4.000000</td>\n",
       "    </tr>\n",
       "  </tbody>\n",
       "</table>\n",
       "<p>8 rows × 22 columns</p>\n",
       "</div>"
      ],
      "text/plain": [
       "         batter_id         year          avg            G           AB   \n",
       "count  2454.000000  2454.000000  2428.000000  2454.000000  2454.000000  \\\n",
       "mean    178.079462  2011.614507     0.237559    72.535045   201.514670   \n",
       "std      97.557947     4.992833     0.098440    45.093871   169.537029   \n",
       "min       0.000000  1993.000000     0.000000     1.000000     0.000000   \n",
       "25%     101.250000  2008.000000     0.203000    28.000000    38.250000   \n",
       "50%     183.000000  2013.000000     0.255000    79.000000   163.000000   \n",
       "75%     265.000000  2016.000000     0.291000   115.000000   357.500000   \n",
       "max     344.000000  2018.000000     1.000000   144.000000   600.000000   \n",
       "\n",
       "                 R            H           2B           3B           HR  ...   \n",
       "count  2454.000000  2454.000000  2454.000000  2454.000000  2454.000000  ...  \\\n",
       "mean     29.912388    55.988183     9.863488     0.957620     5.504075  ...   \n",
       "std      28.778759    52.253844     9.871314     1.647193     7.989380  ...   \n",
       "min       0.000000     0.000000     0.000000     0.000000     0.000000  ...   \n",
       "25%       5.000000     8.000000     1.000000     0.000000     0.000000  ...   \n",
       "50%      21.000000    40.000000     7.000000     0.000000     2.000000  ...   \n",
       "75%      49.000000   100.000000    16.000000     1.000000     8.000000  ...   \n",
       "max     135.000000   201.000000    47.000000    17.000000    53.000000  ...   \n",
       "\n",
       "                SB           CS           BB          HBP           SO   \n",
       "count  2454.000000  2454.000000  2454.000000  2454.000000  2454.000000  \\\n",
       "mean      5.290139     2.335778    20.943765     3.424613    38.596985   \n",
       "std       9.088580     3.194045    21.206113     4.132614    31.801466   \n",
       "min       0.000000     0.000000     0.000000     0.000000     0.000000   \n",
       "25%       0.000000     0.000000     3.000000     0.000000    10.000000   \n",
       "50%       2.000000     1.000000    14.000000     2.000000    33.000000   \n",
       "75%       6.000000     3.000000    34.000000     5.000000    60.000000   \n",
       "max      84.000000    21.000000   108.000000    27.000000   161.000000   \n",
       "\n",
       "               GDP          SLG          OBP            E          OPS  \n",
       "count  2454.000000  2428.000000  2430.000000  2454.000000  2428.000000  \n",
       "mean      4.603504     0.343826     0.306684     3.676447     0.649939  \n",
       "std       4.713531     0.163335     0.111778     4.585248     0.261634  \n",
       "min       0.000000     0.000000     0.000000     0.000000     0.000000  \n",
       "25%       1.000000     0.267454     0.272727     0.000000     0.546000  \n",
       "50%       3.000000     0.360124     0.328592     2.000000     0.688637  \n",
       "75%       7.000000     0.436000     0.367000     5.000000     0.797234  \n",
       "max      24.000000     3.000000     1.000000    30.000000     4.000000  \n",
       "\n",
       "[8 rows x 22 columns]"
      ]
     },
     "execution_count": 82,
     "metadata": {},
     "output_type": "execute_result"
    }
   ],
   "source": [
    "regular_season_df.describe()"
   ]
  },
  {
   "cell_type": "code",
   "execution_count": null,
   "metadata": {},
   "outputs": [],
   "source": []
  },
  {
   "cell_type": "code",
   "execution_count": null,
   "metadata": {
    "tags": []
   },
   "outputs": [],
   "source": []
  },
  {
   "cell_type": "markdown",
   "metadata": {},
   "source": [
    "<a id='m1'>연도별 OPS 중앙값 그래프</a>"
   ]
  },
  {
   "cell_type": "code",
   "execution_count": 96,
   "metadata": {
    "tags": []
   },
   "outputs": [
    {
     "data": {
      "image/png": "[encoded data removed]",
      "text/plain": [
       "<Figure size 1500x600 with 2 Axes>"
      ]
     },
     "metadata": {},
     "output_type": "display_data"
    }
   ],
   "source": [
    "plt.figure(figsize=(15,6))\n",
    "plt.subplot(1,2,1)\n",
    "g = sns.boxplot(data=regular_season_df, x='year', y='OPS', showfliers=False)\n",
    "g.set_title('연도별 OPS 박스플롯', size=20)\n",
    "g.set_xticklabels(g.get_xticklabels(), rotation=90)\n",
    "\n",
    "plt.subplot(1,2,2)\n",
    "plt.plot(regular_season_df.groupby('year')['OPS'].median(), marker='o')\n",
    "plt.grid(axis='y', linestyle='-', alpha=0.4)\n",
    "plt.title('연도별 OPS 중앙값', size=20)\n",
    "\n",
    "plt.show()"
   ]
  },
  {
   "cell_type": "code",
   "execution_count": 98,
   "metadata": {
    "tags": []
   },
   "outputs": [
    {
     "data": {
      "text/html": [
       "<div>\n",
       "<style scoped>\n",
       "    .dataframe tbody tr th:only-of-type {\n",
       "        vertical-align: middle;\n",
       "    }\n",
       "\n",
       "    .dataframe tbody tr th {\n",
       "        vertical-align: top;\n",
       "    }\n",
       "\n",
       "    .dataframe thead th {\n",
       "        text-align: right;\n",
       "    }\n",
       "</style>\n",
       "<table border=\"1\" class=\"dataframe\">\n",
       "  <thead>\n",
       "    <tr style=\"text-align: right;\">\n",
       "      <th>year</th>\n",
       "      <th>1993</th>\n",
       "      <th>1994</th>\n",
       "      <th>1995</th>\n",
       "      <th>1996</th>\n",
       "      <th>1997</th>\n",
       "      <th>1998</th>\n",
       "      <th>1999</th>\n",
       "      <th>2000</th>\n",
       "      <th>2001</th>\n",
       "      <th>2002</th>\n",
       "      <th>...</th>\n",
       "      <th>2009</th>\n",
       "      <th>2010</th>\n",
       "      <th>2011</th>\n",
       "      <th>2012</th>\n",
       "      <th>2013</th>\n",
       "      <th>2014</th>\n",
       "      <th>2015</th>\n",
       "      <th>2016</th>\n",
       "      <th>2017</th>\n",
       "      <th>2018</th>\n",
       "    </tr>\n",
       "    <tr>\n",
       "      <th>col_0</th>\n",
       "      <th></th>\n",
       "      <th></th>\n",
       "      <th></th>\n",
       "      <th></th>\n",
       "      <th></th>\n",
       "      <th></th>\n",
       "      <th></th>\n",
       "      <th></th>\n",
       "      <th></th>\n",
       "      <th></th>\n",
       "      <th></th>\n",
       "      <th></th>\n",
       "      <th></th>\n",
       "      <th></th>\n",
       "      <th></th>\n",
       "      <th></th>\n",
       "      <th></th>\n",
       "      <th></th>\n",
       "      <th></th>\n",
       "      <th></th>\n",
       "      <th></th>\n",
       "    </tr>\n",
       "  </thead>\n",
       "  <tbody>\n",
       "    <tr>\n",
       "      <th>count</th>\n",
       "      <td>1</td>\n",
       "      <td>2</td>\n",
       "      <td>1</td>\n",
       "      <td>7</td>\n",
       "      <td>8</td>\n",
       "      <td>10</td>\n",
       "      <td>14</td>\n",
       "      <td>20</td>\n",
       "      <td>32</td>\n",
       "      <td>43</td>\n",
       "      <td>...</td>\n",
       "      <td>124</td>\n",
       "      <td>130</td>\n",
       "      <td>151</td>\n",
       "      <td>174</td>\n",
       "      <td>194</td>\n",
       "      <td>186</td>\n",
       "      <td>207</td>\n",
       "      <td>213</td>\n",
       "      <td>217</td>\n",
       "      <td>227</td>\n",
       "    </tr>\n",
       "  </tbody>\n",
       "</table>\n",
       "<p>1 rows × 26 columns</p>\n",
       "</div>"
      ],
      "text/plain": [
       "year   1993  1994  1995  1996  1997  1998  1999  2000  2001  2002  ...  2009   \n",
       "col_0                                                              ...         \n",
       "count     1     2     1     7     8    10    14    20    32    43  ...   124  \\\n",
       "\n",
       "year   2010  2011  2012  2013  2014  2015  2016  2017  2018  \n",
       "col_0                                                        \n",
       "count   130   151   174   194   186   207   213   217   227  \n",
       "\n",
       "[1 rows x 26 columns]"
      ]
     },
     "execution_count": 98,
     "metadata": {},
     "output_type": "execute_result"
    }
   ],
   "source": [
    "pd.crosstab(regular_season_df['year'], 'count').T #도수분포표"
   ]
  },
  {
   "cell_type": "markdown",
   "metadata": {},
   "source": [
    "<a id='m2'>연도별 팀 OPS</a>"
   ]
  },
  {
   "cell_type": "code",
   "execution_count": 102,
   "metadata": {
    "collapsed": true,
    "jupyter": {
     "outputs_hidden": true
    },
    "tags": []
   },
   "outputs": [
    {
     "data": {
      "text/html": [
       "<div>\n",
       "<style scoped>\n",
       "    .dataframe tbody tr th:only-of-type {\n",
       "        vertical-align: middle;\n",
       "    }\n",
       "\n",
       "    .dataframe tbody tr th {\n",
       "        vertical-align: top;\n",
       "    }\n",
       "\n",
       "    .dataframe thead th {\n",
       "        text-align: right;\n",
       "    }\n",
       "</style>\n",
       "<table border=\"1\" class=\"dataframe\">\n",
       "  <thead>\n",
       "    <tr style=\"text-align: right;\">\n",
       "      <th>year</th>\n",
       "      <th>1993</th>\n",
       "      <th>1994</th>\n",
       "      <th>1995</th>\n",
       "      <th>1996</th>\n",
       "      <th>1997</th>\n",
       "      <th>1998</th>\n",
       "      <th>1999</th>\n",
       "      <th>2000</th>\n",
       "      <th>2001</th>\n",
       "      <th>2002</th>\n",
       "      <th>...</th>\n",
       "      <th>2009</th>\n",
       "      <th>2010</th>\n",
       "      <th>2011</th>\n",
       "      <th>2012</th>\n",
       "      <th>2013</th>\n",
       "      <th>2014</th>\n",
       "      <th>2015</th>\n",
       "      <th>2016</th>\n",
       "      <th>2017</th>\n",
       "      <th>2018</th>\n",
       "    </tr>\n",
       "    <tr>\n",
       "      <th>team</th>\n",
       "      <th></th>\n",
       "      <th></th>\n",
       "      <th></th>\n",
       "      <th></th>\n",
       "      <th></th>\n",
       "      <th></th>\n",
       "      <th></th>\n",
       "      <th></th>\n",
       "      <th></th>\n",
       "      <th></th>\n",
       "      <th></th>\n",
       "      <th></th>\n",
       "      <th></th>\n",
       "      <th></th>\n",
       "      <th></th>\n",
       "      <th></th>\n",
       "      <th></th>\n",
       "      <th></th>\n",
       "      <th></th>\n",
       "      <th></th>\n",
       "      <th></th>\n",
       "    </tr>\n",
       "  </thead>\n",
       "  <tbody>\n",
       "    <tr>\n",
       "      <th>KIA</th>\n",
       "      <td>NaN</td>\n",
       "      <td>NaN</td>\n",
       "      <td>NaN</td>\n",
       "      <td>NaN</td>\n",
       "      <td>NaN</td>\n",
       "      <td>NaN</td>\n",
       "      <td>NaN</td>\n",
       "      <td>NaN</td>\n",
       "      <td>0.849337</td>\n",
       "      <td>0.829906</td>\n",
       "      <td>...</td>\n",
       "      <td>0.707000</td>\n",
       "      <td>0.725000</td>\n",
       "      <td>0.680963</td>\n",
       "      <td>0.615420</td>\n",
       "      <td>0.679763</td>\n",
       "      <td>0.751196</td>\n",
       "      <td>0.598500</td>\n",
       "      <td>0.777000</td>\n",
       "      <td>0.777000</td>\n",
       "      <td>0.7320</td>\n",
       "    </tr>\n",
       "    <tr>\n",
       "      <th>KT</th>\n",
       "      <td>NaN</td>\n",
       "      <td>NaN</td>\n",
       "      <td>NaN</td>\n",
       "      <td>NaN</td>\n",
       "      <td>NaN</td>\n",
       "      <td>NaN</td>\n",
       "      <td>NaN</td>\n",
       "      <td>NaN</td>\n",
       "      <td>NaN</td>\n",
       "      <td>NaN</td>\n",
       "      <td>...</td>\n",
       "      <td>NaN</td>\n",
       "      <td>NaN</td>\n",
       "      <td>NaN</td>\n",
       "      <td>NaN</td>\n",
       "      <td>NaN</td>\n",
       "      <td>NaN</td>\n",
       "      <td>0.643561</td>\n",
       "      <td>0.634500</td>\n",
       "      <td>0.710791</td>\n",
       "      <td>0.6550</td>\n",
       "    </tr>\n",
       "    <tr>\n",
       "      <th>LG</th>\n",
       "      <td>NaN</td>\n",
       "      <td>0.000000</td>\n",
       "      <td>NaN</td>\n",
       "      <td>0.476212</td>\n",
       "      <td>0.679836</td>\n",
       "      <td>0.509843</td>\n",
       "      <td>0.637173</td>\n",
       "      <td>0.689250</td>\n",
       "      <td>0.698978</td>\n",
       "      <td>0.645345</td>\n",
       "      <td>...</td>\n",
       "      <td>0.704000</td>\n",
       "      <td>0.677000</td>\n",
       "      <td>0.626000</td>\n",
       "      <td>0.552501</td>\n",
       "      <td>0.653000</td>\n",
       "      <td>0.680809</td>\n",
       "      <td>0.678000</td>\n",
       "      <td>0.729000</td>\n",
       "      <td>0.703000</td>\n",
       "      <td>0.7040</td>\n",
       "    </tr>\n",
       "    <tr>\n",
       "      <th>NC</th>\n",
       "      <td>NaN</td>\n",
       "      <td>NaN</td>\n",
       "      <td>NaN</td>\n",
       "      <td>NaN</td>\n",
       "      <td>NaN</td>\n",
       "      <td>NaN</td>\n",
       "      <td>NaN</td>\n",
       "      <td>NaN</td>\n",
       "      <td>NaN</td>\n",
       "      <td>NaN</td>\n",
       "      <td>...</td>\n",
       "      <td>NaN</td>\n",
       "      <td>NaN</td>\n",
       "      <td>NaN</td>\n",
       "      <td>NaN</td>\n",
       "      <td>0.652500</td>\n",
       "      <td>0.636742</td>\n",
       "      <td>0.711000</td>\n",
       "      <td>0.703000</td>\n",
       "      <td>0.705000</td>\n",
       "      <td>0.6000</td>\n",
       "    </tr>\n",
       "    <tr>\n",
       "      <th>OB</th>\n",
       "      <td>NaN</td>\n",
       "      <td>NaN</td>\n",
       "      <td>NaN</td>\n",
       "      <td>NaN</td>\n",
       "      <td>0.615797</td>\n",
       "      <td>0.727667</td>\n",
       "      <td>NaN</td>\n",
       "      <td>NaN</td>\n",
       "      <td>NaN</td>\n",
       "      <td>NaN</td>\n",
       "      <td>...</td>\n",
       "      <td>NaN</td>\n",
       "      <td>NaN</td>\n",
       "      <td>NaN</td>\n",
       "      <td>NaN</td>\n",
       "      <td>NaN</td>\n",
       "      <td>NaN</td>\n",
       "      <td>NaN</td>\n",
       "      <td>NaN</td>\n",
       "      <td>NaN</td>\n",
       "      <td>NaN</td>\n",
       "    </tr>\n",
       "    <tr>\n",
       "      <th>SK</th>\n",
       "      <td>NaN</td>\n",
       "      <td>NaN</td>\n",
       "      <td>NaN</td>\n",
       "      <td>NaN</td>\n",
       "      <td>NaN</td>\n",
       "      <td>NaN</td>\n",
       "      <td>NaN</td>\n",
       "      <td>0.000000</td>\n",
       "      <td>0.596491</td>\n",
       "      <td>0.393000</td>\n",
       "      <td>...</td>\n",
       "      <td>0.822977</td>\n",
       "      <td>0.689176</td>\n",
       "      <td>0.710000</td>\n",
       "      <td>0.666953</td>\n",
       "      <td>0.689636</td>\n",
       "      <td>0.751500</td>\n",
       "      <td>0.714000</td>\n",
       "      <td>0.798500</td>\n",
       "      <td>0.764796</td>\n",
       "      <td>0.7685</td>\n",
       "    </tr>\n",
       "    <tr>\n",
       "      <th>넥센</th>\n",
       "      <td>NaN</td>\n",
       "      <td>NaN</td>\n",
       "      <td>NaN</td>\n",
       "      <td>NaN</td>\n",
       "      <td>NaN</td>\n",
       "      <td>NaN</td>\n",
       "      <td>NaN</td>\n",
       "      <td>NaN</td>\n",
       "      <td>NaN</td>\n",
       "      <td>NaN</td>\n",
       "      <td>...</td>\n",
       "      <td>NaN</td>\n",
       "      <td>0.636166</td>\n",
       "      <td>0.623000</td>\n",
       "      <td>0.589000</td>\n",
       "      <td>0.671000</td>\n",
       "      <td>0.792032</td>\n",
       "      <td>0.753000</td>\n",
       "      <td>0.800500</td>\n",
       "      <td>0.743500</td>\n",
       "      <td>0.7650</td>\n",
       "    </tr>\n",
       "    <tr>\n",
       "      <th>두산</th>\n",
       "      <td>NaN</td>\n",
       "      <td>NaN</td>\n",
       "      <td>NaN</td>\n",
       "      <td>NaN</td>\n",
       "      <td>NaN</td>\n",
       "      <td>NaN</td>\n",
       "      <td>0.853830</td>\n",
       "      <td>0.739755</td>\n",
       "      <td>0.695808</td>\n",
       "      <td>0.762809</td>\n",
       "      <td>...</td>\n",
       "      <td>0.701938</td>\n",
       "      <td>0.780000</td>\n",
       "      <td>0.733000</td>\n",
       "      <td>0.660000</td>\n",
       "      <td>0.781500</td>\n",
       "      <td>0.702330</td>\n",
       "      <td>0.760000</td>\n",
       "      <td>0.763000</td>\n",
       "      <td>0.685000</td>\n",
       "      <td>0.8230</td>\n",
       "    </tr>\n",
       "    <tr>\n",
       "      <th>롯데</th>\n",
       "      <td>NaN</td>\n",
       "      <td>NaN</td>\n",
       "      <td>NaN</td>\n",
       "      <td>NaN</td>\n",
       "      <td>NaN</td>\n",
       "      <td>NaN</td>\n",
       "      <td>1.124961</td>\n",
       "      <td>0.453390</td>\n",
       "      <td>0.577847</td>\n",
       "      <td>0.577000</td>\n",
       "      <td>...</td>\n",
       "      <td>0.680000</td>\n",
       "      <td>0.653000</td>\n",
       "      <td>0.676715</td>\n",
       "      <td>0.581845</td>\n",
       "      <td>0.600000</td>\n",
       "      <td>0.689000</td>\n",
       "      <td>0.622000</td>\n",
       "      <td>0.704000</td>\n",
       "      <td>0.728000</td>\n",
       "      <td>0.7100</td>\n",
       "    </tr>\n",
       "    <tr>\n",
       "      <th>삼성</th>\n",
       "      <td>NaN</td>\n",
       "      <td>NaN</td>\n",
       "      <td>NaN</td>\n",
       "      <td>NaN</td>\n",
       "      <td>NaN</td>\n",
       "      <td>NaN</td>\n",
       "      <td>0.575549</td>\n",
       "      <td>0.369048</td>\n",
       "      <td>0.830124</td>\n",
       "      <td>0.778831</td>\n",
       "      <td>...</td>\n",
       "      <td>0.694336</td>\n",
       "      <td>0.771000</td>\n",
       "      <td>0.677606</td>\n",
       "      <td>0.614071</td>\n",
       "      <td>0.721250</td>\n",
       "      <td>0.737000</td>\n",
       "      <td>0.742500</td>\n",
       "      <td>0.717500</td>\n",
       "      <td>0.684000</td>\n",
       "      <td>0.6515</td>\n",
       "    </tr>\n",
       "    <tr>\n",
       "      <th>쌍방울</th>\n",
       "      <td>NaN</td>\n",
       "      <td>NaN</td>\n",
       "      <td>NaN</td>\n",
       "      <td>NaN</td>\n",
       "      <td>NaN</td>\n",
       "      <td>NaN</td>\n",
       "      <td>0.000000</td>\n",
       "      <td>NaN</td>\n",
       "      <td>NaN</td>\n",
       "      <td>NaN</td>\n",
       "      <td>...</td>\n",
       "      <td>NaN</td>\n",
       "      <td>NaN</td>\n",
       "      <td>NaN</td>\n",
       "      <td>NaN</td>\n",
       "      <td>NaN</td>\n",
       "      <td>NaN</td>\n",
       "      <td>NaN</td>\n",
       "      <td>NaN</td>\n",
       "      <td>NaN</td>\n",
       "      <td>NaN</td>\n",
       "    </tr>\n",
       "    <tr>\n",
       "      <th>우리</th>\n",
       "      <td>NaN</td>\n",
       "      <td>NaN</td>\n",
       "      <td>NaN</td>\n",
       "      <td>NaN</td>\n",
       "      <td>NaN</td>\n",
       "      <td>NaN</td>\n",
       "      <td>NaN</td>\n",
       "      <td>NaN</td>\n",
       "      <td>NaN</td>\n",
       "      <td>NaN</td>\n",
       "      <td>...</td>\n",
       "      <td>NaN</td>\n",
       "      <td>NaN</td>\n",
       "      <td>NaN</td>\n",
       "      <td>NaN</td>\n",
       "      <td>NaN</td>\n",
       "      <td>NaN</td>\n",
       "      <td>NaN</td>\n",
       "      <td>NaN</td>\n",
       "      <td>NaN</td>\n",
       "      <td>NaN</td>\n",
       "    </tr>\n",
       "    <tr>\n",
       "      <th>한화</th>\n",
       "      <td>NaN</td>\n",
       "      <td>NaN</td>\n",
       "      <td>NaN</td>\n",
       "      <td>0.890260</td>\n",
       "      <td>0.768116</td>\n",
       "      <td>0.456915</td>\n",
       "      <td>0.512775</td>\n",
       "      <td>0.478132</td>\n",
       "      <td>0.870676</td>\n",
       "      <td>0.741000</td>\n",
       "      <td>...</td>\n",
       "      <td>0.672000</td>\n",
       "      <td>0.628597</td>\n",
       "      <td>0.649190</td>\n",
       "      <td>0.583929</td>\n",
       "      <td>0.616000</td>\n",
       "      <td>0.703893</td>\n",
       "      <td>0.673000</td>\n",
       "      <td>0.653752</td>\n",
       "      <td>0.675500</td>\n",
       "      <td>0.6910</td>\n",
       "    </tr>\n",
       "    <tr>\n",
       "      <th>해태</th>\n",
       "      <td>0.764912</td>\n",
       "      <td>1.036198</td>\n",
       "      <td>0.987261</td>\n",
       "      <td>0.781758</td>\n",
       "      <td>0.836358</td>\n",
       "      <td>0.844605</td>\n",
       "      <td>0.492506</td>\n",
       "      <td>0.463483</td>\n",
       "      <td>NaN</td>\n",
       "      <td>NaN</td>\n",
       "      <td>...</td>\n",
       "      <td>NaN</td>\n",
       "      <td>NaN</td>\n",
       "      <td>NaN</td>\n",
       "      <td>NaN</td>\n",
       "      <td>NaN</td>\n",
       "      <td>NaN</td>\n",
       "      <td>NaN</td>\n",
       "      <td>NaN</td>\n",
       "      <td>NaN</td>\n",
       "      <td>NaN</td>\n",
       "    </tr>\n",
       "    <tr>\n",
       "      <th>현대</th>\n",
       "      <td>NaN</td>\n",
       "      <td>NaN</td>\n",
       "      <td>NaN</td>\n",
       "      <td>0.833385</td>\n",
       "      <td>0.783934</td>\n",
       "      <td>0.547971</td>\n",
       "      <td>0.794743</td>\n",
       "      <td>0.838528</td>\n",
       "      <td>0.828384</td>\n",
       "      <td>0.673733</td>\n",
       "      <td>...</td>\n",
       "      <td>NaN</td>\n",
       "      <td>NaN</td>\n",
       "      <td>NaN</td>\n",
       "      <td>NaN</td>\n",
       "      <td>NaN</td>\n",
       "      <td>NaN</td>\n",
       "      <td>NaN</td>\n",
       "      <td>NaN</td>\n",
       "      <td>NaN</td>\n",
       "      <td>NaN</td>\n",
       "    </tr>\n",
       "    <tr>\n",
       "      <th>히어로즈</th>\n",
       "      <td>NaN</td>\n",
       "      <td>NaN</td>\n",
       "      <td>NaN</td>\n",
       "      <td>NaN</td>\n",
       "      <td>NaN</td>\n",
       "      <td>NaN</td>\n",
       "      <td>NaN</td>\n",
       "      <td>NaN</td>\n",
       "      <td>NaN</td>\n",
       "      <td>NaN</td>\n",
       "      <td>...</td>\n",
       "      <td>0.598059</td>\n",
       "      <td>NaN</td>\n",
       "      <td>NaN</td>\n",
       "      <td>NaN</td>\n",
       "      <td>NaN</td>\n",
       "      <td>NaN</td>\n",
       "      <td>NaN</td>\n",
       "      <td>NaN</td>\n",
       "      <td>NaN</td>\n",
       "      <td>NaN</td>\n",
       "    </tr>\n",
       "  </tbody>\n",
       "</table>\n",
       "<p>16 rows × 26 columns</p>\n",
       "</div>"
      ],
      "text/plain": [
       "year      1993      1994      1995      1996      1997      1998      1999   \n",
       "team                                                                         \n",
       "KIA        NaN       NaN       NaN       NaN       NaN       NaN       NaN  \\\n",
       "KT         NaN       NaN       NaN       NaN       NaN       NaN       NaN   \n",
       "LG         NaN  0.000000       NaN  0.476212  0.679836  0.509843  0.637173   \n",
       "NC         NaN       NaN       NaN       NaN       NaN       NaN       NaN   \n",
       "OB         NaN       NaN       NaN       NaN  0.615797  0.727667       NaN   \n",
       "SK         NaN       NaN       NaN       NaN       NaN       NaN       NaN   \n",
       "넥센         NaN       NaN       NaN       NaN       NaN       NaN       NaN   \n",
       "두산         NaN       NaN       NaN       NaN       NaN       NaN  0.853830   \n",
       "롯데         NaN       NaN       NaN       NaN       NaN       NaN  1.124961   \n",
       "삼성         NaN       NaN       NaN       NaN       NaN       NaN  0.575549   \n",
       "쌍방울        NaN       NaN       NaN       NaN       NaN       NaN  0.000000   \n",
       "우리         NaN       NaN       NaN       NaN       NaN       NaN       NaN   \n",
       "한화         NaN       NaN       NaN  0.890260  0.768116  0.456915  0.512775   \n",
       "해태    0.764912  1.036198  0.987261  0.781758  0.836358  0.844605  0.492506   \n",
       "현대         NaN       NaN       NaN  0.833385  0.783934  0.547971  0.794743   \n",
       "히어로즈       NaN       NaN       NaN       NaN       NaN       NaN       NaN   \n",
       "\n",
       "year      2000      2001      2002  ...      2009      2010      2011   \n",
       "team                                ...                                 \n",
       "KIA        NaN  0.849337  0.829906  ...  0.707000  0.725000  0.680963  \\\n",
       "KT         NaN       NaN       NaN  ...       NaN       NaN       NaN   \n",
       "LG    0.689250  0.698978  0.645345  ...  0.704000  0.677000  0.626000   \n",
       "NC         NaN       NaN       NaN  ...       NaN       NaN       NaN   \n",
       "OB         NaN       NaN       NaN  ...       NaN       NaN       NaN   \n",
       "SK    0.000000  0.596491  0.393000  ...  0.822977  0.689176  0.710000   \n",
       "넥센         NaN       NaN       NaN  ...       NaN  0.636166  0.623000   \n",
       "두산    0.739755  0.695808  0.762809  ...  0.701938  0.780000  0.733000   \n",
       "롯데    0.453390  0.577847  0.577000  ...  0.680000  0.653000  0.676715   \n",
       "삼성    0.369048  0.830124  0.778831  ...  0.694336  0.771000  0.677606   \n",
       "쌍방울        NaN       NaN       NaN  ...       NaN       NaN       NaN   \n",
       "우리         NaN       NaN       NaN  ...       NaN       NaN       NaN   \n",
       "한화    0.478132  0.870676  0.741000  ...  0.672000  0.628597  0.649190   \n",
       "해태    0.463483       NaN       NaN  ...       NaN       NaN       NaN   \n",
       "현대    0.838528  0.828384  0.673733  ...       NaN       NaN       NaN   \n",
       "히어로즈       NaN       NaN       NaN  ...  0.598059       NaN       NaN   \n",
       "\n",
       "year      2012      2013      2014      2015      2016      2017    2018  \n",
       "team                                                                      \n",
       "KIA   0.615420  0.679763  0.751196  0.598500  0.777000  0.777000  0.7320  \n",
       "KT         NaN       NaN       NaN  0.643561  0.634500  0.710791  0.6550  \n",
       "LG    0.552501  0.653000  0.680809  0.678000  0.729000  0.703000  0.7040  \n",
       "NC         NaN  0.652500  0.636742  0.711000  0.703000  0.705000  0.6000  \n",
       "OB         NaN       NaN       NaN       NaN       NaN       NaN     NaN  \n",
       "SK    0.666953  0.689636  0.751500  0.714000  0.798500  0.764796  0.7685  \n",
       "넥센    0.589000  0.671000  0.792032  0.753000  0.800500  0.743500  0.7650  \n",
       "두산    0.660000  0.781500  0.702330  0.760000  0.763000  0.685000  0.8230  \n",
       "롯데    0.581845  0.600000  0.689000  0.622000  0.704000  0.728000  0.7100  \n",
       "삼성    0.614071  0.721250  0.737000  0.742500  0.717500  0.684000  0.6515  \n",
       "쌍방울        NaN       NaN       NaN       NaN       NaN       NaN     NaN  \n",
       "우리         NaN       NaN       NaN       NaN       NaN       NaN     NaN  \n",
       "한화    0.583929  0.616000  0.703893  0.673000  0.653752  0.675500  0.6910  \n",
       "해태         NaN       NaN       NaN       NaN       NaN       NaN     NaN  \n",
       "현대         NaN       NaN       NaN       NaN       NaN       NaN     NaN  \n",
       "히어로즈       NaN       NaN       NaN       NaN       NaN       NaN     NaN  \n",
       "\n",
       "[16 rows x 26 columns]"
      ]
     },
     "execution_count": 102,
     "metadata": {},
     "output_type": "execute_result"
    }
   ],
   "source": [
    "# 연도별 팀의 OPS 중앙값 계산\n",
    "med_OPS_team = regular_season_df.pivot_table(index=['team'], \n",
    "                                             columns=['year'], \n",
    "                                             values='OPS', \n",
    "                                             aggfunc='median')\n",
    "med_OPS_team"
   ]
  },
  {
   "cell_type": "code",
   "execution_count": 110,
   "metadata": {
    "tags": []
   },
   "outputs": [
    {
     "data": {
      "text/plain": [
       "team\n",
       "KIA      True\n",
       "KT      False\n",
       "LG       True\n",
       "NC      False\n",
       "OB      False\n",
       "SK       True\n",
       "넥센      False\n",
       "두산       True\n",
       "롯데       True\n",
       "삼성       True\n",
       "쌍방울     False\n",
       "우리      False\n",
       "한화       True\n",
       "해태      False\n",
       "현대      False\n",
       "히어로즈    False\n",
       "dtype: bool"
      ]
     },
     "execution_count": 110,
     "metadata": {},
     "output_type": "execute_result"
    }
   ],
   "source": [
    "# 2005년 이후에 결측치가 존재하지 않는 팀만 확인\n",
    "team_idx = med_OPS_team.loc[:,2005:].isna().sum(axis=1) <= 0\n",
    "team_idx"
   ]
  },
  {
   "cell_type": "code",
   "execution_count": 120,
   "metadata": {
    "tags": []
   },
   "outputs": [
    {
     "data": {
      "text/html": [
       "<div>\n",
       "<style scoped>\n",
       "    .dataframe tbody tr th:only-of-type {\n",
       "        vertical-align: middle;\n",
       "    }\n",
       "\n",
       "    .dataframe tbody tr th {\n",
       "        vertical-align: top;\n",
       "    }\n",
       "\n",
       "    .dataframe thead th {\n",
       "        text-align: right;\n",
       "    }\n",
       "</style>\n",
       "<table border=\"1\" class=\"dataframe\">\n",
       "  <thead>\n",
       "    <tr style=\"text-align: right;\">\n",
       "      <th>team</th>\n",
       "      <th>KIA</th>\n",
       "      <th>LG</th>\n",
       "      <th>SK</th>\n",
       "      <th>두산</th>\n",
       "      <th>롯데</th>\n",
       "      <th>삼성</th>\n",
       "      <th>한화</th>\n",
       "    </tr>\n",
       "    <tr>\n",
       "      <th>year</th>\n",
       "      <th></th>\n",
       "      <th></th>\n",
       "      <th></th>\n",
       "      <th></th>\n",
       "      <th></th>\n",
       "      <th></th>\n",
       "      <th></th>\n",
       "    </tr>\n",
       "  </thead>\n",
       "  <tbody>\n",
       "    <tr>\n",
       "      <th>2005</th>\n",
       "      <td>0.583333</td>\n",
       "      <td>0.657000</td>\n",
       "      <td>0.601000</td>\n",
       "      <td>0.699575</td>\n",
       "      <td>0.673000</td>\n",
       "      <td>0.741419</td>\n",
       "      <td>0.577151</td>\n",
       "    </tr>\n",
       "    <tr>\n",
       "      <th>2006</th>\n",
       "      <td>0.717176</td>\n",
       "      <td>0.593128</td>\n",
       "      <td>0.682591</td>\n",
       "      <td>0.639750</td>\n",
       "      <td>0.586748</td>\n",
       "      <td>0.734067</td>\n",
       "      <td>0.624351</td>\n",
       "    </tr>\n",
       "    <tr>\n",
       "      <th>2007</th>\n",
       "      <td>0.546944</td>\n",
       "      <td>0.661500</td>\n",
       "      <td>0.774000</td>\n",
       "      <td>0.656000</td>\n",
       "      <td>0.629000</td>\n",
       "      <td>0.602000</td>\n",
       "      <td>0.665602</td>\n",
       "    </tr>\n",
       "    <tr>\n",
       "      <th>2008</th>\n",
       "      <td>0.644474</td>\n",
       "      <td>0.622015</td>\n",
       "      <td>0.693000</td>\n",
       "      <td>0.702000</td>\n",
       "      <td>0.725455</td>\n",
       "      <td>0.681104</td>\n",
       "      <td>0.562049</td>\n",
       "    </tr>\n",
       "    <tr>\n",
       "      <th>2009</th>\n",
       "      <td>0.707000</td>\n",
       "      <td>0.704000</td>\n",
       "      <td>0.822977</td>\n",
       "      <td>0.701938</td>\n",
       "      <td>0.680000</td>\n",
       "      <td>0.694336</td>\n",
       "      <td>0.672000</td>\n",
       "    </tr>\n",
       "    <tr>\n",
       "      <th>2010</th>\n",
       "      <td>0.725000</td>\n",
       "      <td>0.677000</td>\n",
       "      <td>0.689176</td>\n",
       "      <td>0.780000</td>\n",
       "      <td>0.653000</td>\n",
       "      <td>0.771000</td>\n",
       "      <td>0.628597</td>\n",
       "    </tr>\n",
       "    <tr>\n",
       "      <th>2011</th>\n",
       "      <td>0.680963</td>\n",
       "      <td>0.626000</td>\n",
       "      <td>0.710000</td>\n",
       "      <td>0.733000</td>\n",
       "      <td>0.676715</td>\n",
       "      <td>0.677606</td>\n",
       "      <td>0.649190</td>\n",
       "    </tr>\n",
       "    <tr>\n",
       "      <th>2012</th>\n",
       "      <td>0.615420</td>\n",
       "      <td>0.552501</td>\n",
       "      <td>0.666953</td>\n",
       "      <td>0.660000</td>\n",
       "      <td>0.581845</td>\n",
       "      <td>0.614071</td>\n",
       "      <td>0.583929</td>\n",
       "    </tr>\n",
       "    <tr>\n",
       "      <th>2013</th>\n",
       "      <td>0.679763</td>\n",
       "      <td>0.653000</td>\n",
       "      <td>0.689636</td>\n",
       "      <td>0.781500</td>\n",
       "      <td>0.600000</td>\n",
       "      <td>0.721250</td>\n",
       "      <td>0.616000</td>\n",
       "    </tr>\n",
       "    <tr>\n",
       "      <th>2014</th>\n",
       "      <td>0.751196</td>\n",
       "      <td>0.680809</td>\n",
       "      <td>0.751500</td>\n",
       "      <td>0.702330</td>\n",
       "      <td>0.689000</td>\n",
       "      <td>0.737000</td>\n",
       "      <td>0.703893</td>\n",
       "    </tr>\n",
       "    <tr>\n",
       "      <th>2015</th>\n",
       "      <td>0.598500</td>\n",
       "      <td>0.678000</td>\n",
       "      <td>0.714000</td>\n",
       "      <td>0.760000</td>\n",
       "      <td>0.622000</td>\n",
       "      <td>0.742500</td>\n",
       "      <td>0.673000</td>\n",
       "    </tr>\n",
       "    <tr>\n",
       "      <th>2016</th>\n",
       "      <td>0.777000</td>\n",
       "      <td>0.729000</td>\n",
       "      <td>0.798500</td>\n",
       "      <td>0.763000</td>\n",
       "      <td>0.704000</td>\n",
       "      <td>0.717500</td>\n",
       "      <td>0.653752</td>\n",
       "    </tr>\n",
       "    <tr>\n",
       "      <th>2017</th>\n",
       "      <td>0.777000</td>\n",
       "      <td>0.703000</td>\n",
       "      <td>0.764796</td>\n",
       "      <td>0.685000</td>\n",
       "      <td>0.728000</td>\n",
       "      <td>0.684000</td>\n",
       "      <td>0.675500</td>\n",
       "    </tr>\n",
       "    <tr>\n",
       "      <th>2018</th>\n",
       "      <td>0.732000</td>\n",
       "      <td>0.704000</td>\n",
       "      <td>0.768500</td>\n",
       "      <td>0.823000</td>\n",
       "      <td>0.710000</td>\n",
       "      <td>0.651500</td>\n",
       "      <td>0.691000</td>\n",
       "    </tr>\n",
       "  </tbody>\n",
       "</table>\n",
       "</div>"
      ],
      "text/plain": [
       "team       KIA        LG        SK        두산        롯데        삼성        한화\n",
       "year                                                                      \n",
       "2005  0.583333  0.657000  0.601000  0.699575  0.673000  0.741419  0.577151\n",
       "2006  0.717176  0.593128  0.682591  0.639750  0.586748  0.734067  0.624351\n",
       "2007  0.546944  0.661500  0.774000  0.656000  0.629000  0.602000  0.665602\n",
       "2008  0.644474  0.622015  0.693000  0.702000  0.725455  0.681104  0.562049\n",
       "2009  0.707000  0.704000  0.822977  0.701938  0.680000  0.694336  0.672000\n",
       "2010  0.725000  0.677000  0.689176  0.780000  0.653000  0.771000  0.628597\n",
       "2011  0.680963  0.626000  0.710000  0.733000  0.676715  0.677606  0.649190\n",
       "2012  0.615420  0.552501  0.666953  0.660000  0.581845  0.614071  0.583929\n",
       "2013  0.679763  0.653000  0.689636  0.781500  0.600000  0.721250  0.616000\n",
       "2014  0.751196  0.680809  0.751500  0.702330  0.689000  0.737000  0.703893\n",
       "2015  0.598500  0.678000  0.714000  0.760000  0.622000  0.742500  0.673000\n",
       "2016  0.777000  0.729000  0.798500  0.763000  0.704000  0.717500  0.653752\n",
       "2017  0.777000  0.703000  0.764796  0.685000  0.728000  0.684000  0.675500\n",
       "2018  0.732000  0.704000  0.768500  0.823000  0.710000  0.651500  0.691000"
      ]
     },
     "execution_count": 120,
     "metadata": {},
     "output_type": "execute_result"
    }
   ],
   "source": [
    "data = med_OPS_team.loc[team_idx,2005:].T\n",
    "data"
   ]
  },
  {
   "cell_type": "code",
   "execution_count": 124,
   "metadata": {
    "collapsed": true,
    "jupyter": {
     "outputs_hidden": true
    },
    "tags": []
   },
   "outputs": [
    {
     "data": {
      "image/png": "[encoded data removed]",
      "text/plain": [
       "<Figure size 640x480 with 1 Axes>"
      ]
     },
     "metadata": {},
     "output_type": "display_data"
    }
   ],
   "source": [
    "plt.plot(data, marker='o', markersize=4)\n",
    "plt.grid(axis='y', linestyle='-', alpha=0.4)\n",
    "plt.legend(data.columns, loc='center left', bbox_to_anchor=(1,0.5))\n",
    "plt.title('연도별 팀 OPS')\n",
    "plt.show()"
   ]
  },
  {
   "cell_type": "code",
   "execution_count": 130,
   "metadata": {},
   "outputs": [
    {
     "name": "stdout",
     "output_type": "stream",
     "text": [
      "177cm/93kg 177.0 93.0\n"
     ]
    }
   ],
   "source": [
    "import re\n",
    "\n",
    "regular_season_df['height'] = regular_season_df['height/weight'].apply(\n",
    "    lambda x: int(re.findall('\\d+', x.split('/')[0])[0]) if pd.notnull(x) else x)\n",
    "regular_season_df['weight'] = regular_season_df['height/weight'].apply(\n",
    "    lambda x: int(re.findall('\\d+', x.split('/')[1])[0]) if pd.notnull(x) else x)\n",
    "\n",
    "print(regular_season_df['height/weight'][0],\n",
    "      regular_season_df['height'][0],\n",
    "      regular_season_df['weight'][0])"
   ]
  },
  {
   "cell_type": "code",
   "execution_count": 138,
   "metadata": {},
   "outputs": [
    {
     "data": {
      "image/png": "[encoded data removed]",
      "text/plain": [
       "<Figure size 1500x500 with 2 Axes>"
      ]
     },
     "metadata": {},
     "output_type": "display_data"
    }
   ],
   "source": [
    "# 몸무게/키 계산\n",
    "regular_season_df['weight_per_height'] = regular_season_df['weight']/regular_season_df['height']\n",
    "\n",
    "plt.figure(figsize=(15, 5))\n",
    "plt.subplot(1,2,1)\n",
    "\n",
    "# 정규시즌과 프리시즌의 상관관계 계산\n",
    "correlation = regular_season_df['weight_per_height'].corr(regular_season_df['OBP'])\n",
    "sns.scatterplot(x= regular_season_df['weight_per_height'] ,y= regular_season_df['OBP'])\n",
    "plt.title('몸무게/키 와 OBP 상관관계' + str(correlation), fontsize=15)\n",
    "plt.ylabel('정규시즌 OBP')\n",
    "plt.xlabel('몸무게/키')\n",
    "\n",
    "plt.subplot(1,2,2)\n",
    "\n",
    "correlation = regular_season_df['weight_per_height'].corr(regular_season_df['SLG'])\n",
    "sns.scatterplot(x= regular_season_df['weight_per_height'] ,y= regular_season_df['SLG'])\n",
    "plt.title('몸무게/키 와 SLG 상관관계' + str(correlation), fontsize=15)\n",
    "plt.ylabel('정규시즌 SLG')\n",
    "plt.xlabel('몸무게/키')\n",
    "plt.show()"
   ]
  },
  {
   "cell_type": "code",
   "execution_count": 139,
   "metadata": {},
   "outputs": [
    {
     "data": {
      "text/plain": [
       "position\n",
       "내야수(우투우타)    643\n",
       "외야수(우투우타)    230\n",
       "외야수(좌투좌타)    201\n",
       "포수(우투우타)     189\n",
       "외야수(우투좌타)    184\n",
       "내야수(우투좌타)    141\n",
       "내야수(좌투좌타)     36\n",
       "포수(우투좌타)      14\n",
       "외야수(우투양타)      7\n",
       "내야수(우투양타)      7\n",
       "Name: count, dtype: int64"
      ]
     },
     "execution_count": 139,
     "metadata": {},
     "output_type": "execute_result"
    }
   ],
   "source": [
    "regular_season_df['position'].value_counts()"
   ]
  },
  {
   "cell_type": "code",
   "execution_count": 140,
   "metadata": {},
   "outputs": [
    {
     "name": "stdout",
     "output_type": "stream",
     "text": [
      "내야수(우투우타) 내야수 우타\n"
     ]
    }
   ],
   "source": [
    "# position\n",
    "regular_season_df['pos'] = regular_season_df['position'].apply(\n",
    "    lambda x: x.split('(')[0] if pd.notnull(x) else x)\n",
    "\n",
    "\n",
    "# 우타, 좌타, 양타\n",
    "regular_season_df['hit_way'] = regular_season_df['position'].apply(\n",
    "    lambda x: x[-3:-1] if pd.notnull(x) else x)\n",
    "\n",
    "print(regular_season_df['position'][0], \n",
    "      regular_season_df['pos'][0], \n",
    "      regular_season_df['hit_way'][0])"
   ]
  },
  {
   "cell_type": "code",
   "execution_count": 157,
   "metadata": {},
   "outputs": [
    {
     "data": {
      "image/png": "[encoded data removed]",
      "text/plain": [
       "<Figure size 1500x500 with 2 Axes>"
      ]
     },
     "metadata": {},
     "output_type": "display_data"
    }
   ],
   "source": [
    "plt.figure(figsize=(15,5))\n",
    "plt.subplot(1,2,1)\n",
    "ax = sns.boxplot(data=regular_season_df, x='pos', y='OPS', showfliers=False)\n",
    "medians = regular_season_df.groupby(['pos'])['OPS'].median().to_dict()\n",
    "nobs = regular_season_df['pos'].value_counts().to_dict()\n",
    "\n",
    "for key in nobs:\n",
    "    nobs[key] = \"n:\"+str(nobs[key])\n",
    "    \n",
    "xticks_labels = [ item.get_text() for item in ax.get_xticklabels()]\n",
    "\n",
    "for label in ax.get_xticklabels():\n",
    "    ax.text(xticks_labels.index(label.get_text()),\n",
    "            medians[label.get_text()]+0.03,\n",
    "            nobs[label.get_text()],\n",
    "            horizontalalignment='center', size='large', color='w', weight='semibold'\n",
    "            )    \n",
    "ax.set_title('포지션별 OPS')\n",
    "\n",
    "\n",
    "plt.subplot(1,2,2)\n",
    "ax = sns.boxplot(data=regular_season_df, x='hit_way', y='OPS', showfliers=False)\n",
    "medians = regular_season_df.groupby(['hit_way'])['OPS'].median().to_dict()\n",
    "nobs = regular_season_df['hit_way'].value_counts().to_dict()\n",
    "\n",
    "for key in nobs:\n",
    "    nobs[key] = \"n:\"+str(nobs[key])\n",
    "    \n",
    "xticks_labels = [ item.get_text() for item in ax.get_xticklabels()]\n",
    "\n",
    "for label in ax.get_xticklabels():\n",
    "    ax.text(xticks_labels.index(label.get_text()),\n",
    "            medians[label.get_text()]+0.03,\n",
    "            nobs[label.get_text()],\n",
    "            horizontalalignment='center', size='large', color='w', weight='semibold'\n",
    "            )\n",
    "    \n",
    "ax.set_title('타석방향별 OPS')\n",
    "plt.show()"
   ]
  },
  {
   "cell_type": "code",
   "execution_count": 158,
   "metadata": {},
   "outputs": [
    {
     "data": {
      "text/plain": [
       "0    쿠바 Ciego de Avila Maximo Gomez Baez(대)\n",
       "1                         광주대성초-광주동성중-광주동성고\n",
       "2                         광주대성초-광주동성중-광주동성고\n",
       "3                         광주대성초-광주동성중-광주동성고\n",
       "4                         광주대성초-광주동성중-광주동성고\n",
       "Name: career, dtype: object"
      ]
     },
     "execution_count": 158,
     "metadata": {},
     "output_type": "execute_result"
    }
   ],
   "source": [
    "regular_season_df['career'].head()"
   ]
  },
  {
   "cell_type": "code",
   "execution_count": 165,
   "metadata": {},
   "outputs": [],
   "source": [
    "# career를 split\n",
    "foreign_country = regular_season_df['career'].apply(lambda x : x.replace('-', ' ').split()[0])\n",
    "# 외국만 추출\n",
    "foreign_country_list = list(set(foreign_country.apply(lambda x : np.nan  if '초' in x else x)))\n",
    "# 결측치 처리\n",
    "foreign_country_list = [ x for x in foreign_country_list if str(x) != 'nan']"
   ]
  },
  {
   "cell_type": "code",
   "execution_count": 176,
   "metadata": {},
   "outputs": [
    {
     "data": {
      "text/plain": [
       "0    foreign\n",
       "1     korean\n",
       "2     korean\n",
       "3     korean\n",
       "4     korean\n",
       "Name: country, dtype: object"
      ]
     },
     "execution_count": 176,
     "metadata": {},
     "output_type": "execute_result"
    }
   ],
   "source": [
    "regular_season_df['country'] = foreign_country\n",
    "regular_season_df['country'] = regular_season_df['country'].apply(\n",
    "                                                lambda x : x if pd.isnull(x) \n",
    "                                                             else ('foreign' if x in foreign_country_list else 'korean'))\n",
    "regular_season_df['country'].head()"
   ]
  },
  {
   "cell_type": "code",
   "execution_count": 179,
   "metadata": {},
   "outputs": [
    {
     "data": {
      "image/png": "[encoded data removed]",
      "text/plain": [
       "<Figure size 1000x500 with 1 Axes>"
      ]
     },
     "metadata": {},
     "output_type": "display_data"
    }
   ],
   "source": [
    "plt.figure(figsize=(10,5))\n",
    "ax = sns.boxplot(data=regular_season_df, x='country', y='OPS', showfliers=False)\n",
    "medians = regular_season_df.groupby(['country'])['OPS'].median().to_dict()\n",
    "nobs = regular_season_df['country'].value_counts().to_dict()\n",
    "\n",
    "for key in nobs:\n",
    "    nobs[key] = \"n:\"+str(nobs[key])\n",
    "    \n",
    "xticks_labels = [ item.get_text() for item in ax.get_xticklabels()]\n",
    "\n",
    "for label in ax.get_xticklabels():\n",
    "    ax.text(xticks_labels.index(label.get_text()),\n",
    "            medians[label.get_text()]+0.03,\n",
    "            nobs[label.get_text()],\n",
    "            horizontalalignment='center', size='large', color='w', weight='semibold'\n",
    "            )    \n",
    "ax.set_title('국적별 OPS')\n",
    "plt.show()"
   ]
  },
  {
   "cell_type": "code",
   "execution_count": null,
   "metadata": {},
   "outputs": [],
   "source": []
  },
  {
   "cell_type": "code",
   "execution_count": null,
   "metadata": {},
   "outputs": [],
   "source": [
    "# 결측치라면 그대로 0으로 두고 ‘만원’이 포함되어 있다면 숫자만 뽑아서 초봉으로 넣어준다. 그외 만 원 단위가 아닌 초봉은 결측치로 처리한다.\n"
   ]
  },
  {
   "cell_type": "code",
   "execution_count": null,
   "metadata": {},
   "outputs": [],
   "source": []
  },
  {
   "cell_type": "markdown",
   "metadata": {},
   "source": [
    "### 1.2.3. 일별 데이터 분석"
   ]
  },
  {
   "cell_type": "code",
   "execution_count": null,
   "metadata": {},
   "outputs": [],
   "source": []
  },
  {
   "cell_type": "code",
   "execution_count": null,
   "metadata": {},
   "outputs": [],
   "source": [
    "# 날짜(date)를 ‘.’을 기준으로 나누고 첫 번째 값을 월(month)로 지정 \n",
    "\n",
    "\n",
    "# 각 연도의 월별 평균 누적 타율(avg2) 계산\n",
    "\n",
    "\n",
    "# pivot_table을 이용해 데이터 변형\n"
   ]
  },
  {
   "cell_type": "markdown",
   "metadata": {},
   "source": [
    "<a id='m3'>연도별 월 평균 타율</a>"
   ]
  },
  {
   "cell_type": "code",
   "execution_count": null,
   "metadata": {},
   "outputs": [],
   "source": []
  },
  {
   "cell_type": "markdown",
   "metadata": {},
   "source": [
    "## 1.3. 데이터 전처리"
   ]
  },
  {
   "cell_type": "code",
   "execution_count": null,
   "metadata": {
    "scrolled": true
   },
   "outputs": [],
   "source": []
  },
  {
   "cell_type": "code",
   "execution_count": null,
   "metadata": {},
   "outputs": [],
   "source": [
    "# 수치형 타입의 변수 저장\n",
    "\n",
    "\n",
    "# 수치형 타입 변수 중 결측치가 하나라도 존재하는 행 출력\n",
    "# isna().sum(axis=1) -> 열 기준의 결측치 개수\n",
    "# df.loc[]를 통해 결측치 0개 이상 데이터를 추출\n"
   ]
  },
  {
   "cell_type": "code",
   "execution_count": null,
   "metadata": {},
   "outputs": [],
   "source": [
    "# 수치형 변수에 포함되는 데이터 타입 선정\n",
    "\n",
    "\n",
    "# 정규 시즌 데이터에서 결측치를 0으로 채우기\n"
   ]
  },
  {
   "cell_type": "code",
   "execution_count": null,
   "metadata": {},
   "outputs": [],
   "source": [
    "# 일별 데이터에서 결측치를 0으로 채우기\n"
   ]
  },
  {
   "cell_type": "code",
   "execution_count": null,
   "metadata": {},
   "outputs": [],
   "source": [
    "# 프리시즌 데이터에서 결측치를 0으로 채우기\n"
   ]
  },
  {
   "cell_type": "code",
   "execution_count": null,
   "metadata": {},
   "outputs": [],
   "source": [
    "# 수치형이 아닌 변수 추출\n",
    "\n",
    "\n",
    "# 수치형이 아닌 변수 중 결측치가 하나라도 존재하는 행 출력\n",
    "# isna().sum(axis=1) -> 열 기준의 결측치 개수\n",
    "# df.loc[]를 통해 결측치 0개 이상 데이터를 추출\n"
   ]
  },
  {
   "cell_type": "code",
   "execution_count": null,
   "metadata": {},
   "outputs": [],
   "source": [
    "# 삭제할 데이터 추출\n",
    "        \n",
    "\n",
    "# 데이터 삭제\n"
   ]
  },
  {
   "cell_type": "markdown",
   "metadata": {},
   "source": [
    "### 1.3.2. 규정 타수 정의"
   ]
  },
  {
   "cell_type": "code",
   "execution_count": null,
   "metadata": {},
   "outputs": [],
   "source": []
  },
  {
   "cell_type": "code",
   "execution_count": null,
   "metadata": {},
   "outputs": [],
   "source": [
    "# OPS 이상치 탐색을 위한 수치 정의\n",
    "\n",
    "\n",
    "# 실제 OPS 이상치 탐색\n"
   ]
  },
  {
   "cell_type": "markdown",
   "metadata": {},
   "source": [
    "<a id='m4'>7월 일별 경기수 합</a>"
   ]
  },
  {
   "cell_type": "code",
   "execution_count": null,
   "metadata": {},
   "outputs": [],
   "source": [
    "# 7.01~7.31 숫자 생성 후 반 올림\n"
   ]
  },
  {
   "cell_type": "markdown",
   "metadata": {},
   "source": [
    "### 1.3.3. 시간 변수"
   ]
  },
  {
   "cell_type": "code",
   "execution_count": null,
   "metadata": {},
   "outputs": [],
   "source": [
    "# 시간 변수를 생성하는 함수 정의\n"
   ]
  },
  {
   "cell_type": "code",
   "execution_count": null,
   "metadata": {
    "tags": []
   },
   "outputs": [],
   "source": [
    "# 상관관계를 탐색할 변수 선택\n"
   ]
  },
  {
   "cell_type": "code",
   "execution_count": null,
   "metadata": {},
   "outputs": [],
   "source": []
  },
  {
   "cell_type": "code",
   "execution_count": null,
   "metadata": {},
   "outputs": [],
   "source": [
    "# 시간변수 생성 함수를 통한 지표별 1년 전 성적 추출\n"
   ]
  },
  {
   "cell_type": "code",
   "execution_count": null,
   "metadata": {},
   "outputs": [],
   "source": []
  },
  {
   "cell_type": "code",
   "execution_count": null,
   "metadata": {},
   "outputs": [],
   "source": [
    "# 상관관계 도출\n"
   ]
  },
  {
   "cell_type": "code",
   "execution_count": null,
   "metadata": {},
   "outputs": [],
   "source": [
    "# 상관관계의 시각적 표현\n",
    "\n",
    "\n",
    "# 대각 행렬을 기준으로 한 쪽만 나타나게 설정해줍니다.\n",
    "\n"
   ]
  },
  {
   "cell_type": "code",
   "execution_count": null,
   "metadata": {},
   "outputs": [],
   "source": [
    "#희생 플라이 구하기\n",
    "#OBP(출루율) 계산 공식 이용하여 SF(희생 플라이)계산 >> (H+BB+HBP)/OBP-(AB+BB+HBP)\n",
    "\n",
    "\n",
    "#한 타수당 평균 희생 플라이 계산 후 필요한 것만 추출\n"
   ]
  },
  {
   "cell_type": "code",
   "execution_count": null,
   "metadata": {},
   "outputs": [],
   "source": [
    "#day_by_day에서 연도별 선수의 시즌 전반기 출루율과 관련된 성적 합 구하기\n",
    "\n",
    "#day_by_day와 regular season에서 구한 희생 플라이 관련 데이터를 합치기\n",
    "\n",
    "#선수별 전반기 희생 플라이 수 계산\n",
    "\n",
    "#선수별 전반기 OBP(출루율) 계산\n",
    "\n",
    "# OBP 결측치를 0으로 처리 \n",
    "\n",
    "# 분석에 필요하지 않은 열 제거\n"
   ]
  },
  {
   "cell_type": "markdown",
   "metadata": {},
   "source": [
    "### 1.3.4. 추가 변수 생성"
   ]
  },
  {
   "cell_type": "markdown",
   "metadata": {},
   "source": [
    "<a id='m5'>나이별 평균 성적</a>"
   ]
  },
  {
   "cell_type": "code",
   "execution_count": null,
   "metadata": {
    "tags": []
   },
   "outputs": [],
   "source": [
    "# 나이 변수 생성\n"
   ]
  },
  {
   "cell_type": "code",
   "execution_count": null,
   "metadata": {},
   "outputs": [],
   "source": [
    "# 나이, 평균 출루율, 출루율 중위값으로 구성된 데이터프레임 구축\n"
   ]
  },
  {
   "cell_type": "code",
   "execution_count": null,
   "metadata": {},
   "outputs": [],
   "source": []
  },
  {
   "cell_type": "code",
   "execution_count": null,
   "metadata": {},
   "outputs": [],
   "source": []
  },
  {
   "cell_type": "code",
   "execution_count": null,
   "metadata": {},
   "outputs": [],
   "source": [
    "# 나이에 따른 출루율 추이 시각화\n"
   ]
  },
  {
   "cell_type": "code",
   "execution_count": null,
   "metadata": {},
   "outputs": [],
   "source": [
    "# 나이를 포함한 변수 선택\n",
    "\n",
    "\n",
    "# 총 3년 전 성적까지 변수를 생성\n"
   ]
  },
  {
   "cell_type": "markdown",
   "metadata": {},
   "source": [
    "### 1.3.5. 데이터 사후 처리"
   ]
  },
  {
   "cell_type": "code",
   "execution_count": null,
   "metadata": {},
   "outputs": [],
   "source": [
    "# 결측치 비율 확인\n"
   ]
  },
  {
   "cell_type": "code",
   "execution_count": null,
   "metadata": {},
   "outputs": [],
   "source": [
    "#1. 선수별 OBP 평균\n",
    "# SF = (H+BB+HBP) / OBP-(AB+BB+HBP)\n",
    "# OBP = (H+BB+HBP) / (AB+BB+HBP+SF)\n"
   ]
  },
  {
   "cell_type": "code",
   "execution_count": null,
   "metadata": {},
   "outputs": [],
   "source": [
    "#2. 시즌별 OBP 평균\n"
   ]
  },
  {
   "cell_type": "code",
   "execution_count": null,
   "metadata": {},
   "outputs": [],
   "source": [
    "#### player_OBP_mean(선수평균) 열 추가\n"
   ]
  },
  {
   "cell_type": "code",
   "execution_count": null,
   "metadata": {},
   "outputs": [],
   "source": [
    "# 결측치 처리하는 함수 정의\n"
   ]
  },
  {
   "cell_type": "code",
   "execution_count": null,
   "metadata": {},
   "outputs": [],
   "source": [
    "# 생성한 함수를 이용해 결측치 처리 진행\n"
   ]
  },
  {
   "cell_type": "markdown",
   "metadata": {},
   "source": [
    "### 1.3.6. SLG 데이터 전처리"
   ]
  },
  {
   "cell_type": "code",
   "execution_count": null,
   "metadata": {},
   "outputs": [],
   "source": [
    "# 상관관계를 탐색할 변수 선택\n",
    "\n",
    "\n",
    "# 시간변수 생성 함수를 통한 지표별 1년 전 성적 추출\n",
    "\n",
    "# 상관관계 도출\n",
    "\n",
    "\n",
    "# 상관관계의 시각적 표현\n",
    "\n",
    "\n",
    "# 대각 행렬을 기준으로 한쪽만 나타나게 설정해줍니다.\n",
    "\n"
   ]
  },
  {
   "cell_type": "code",
   "execution_count": null,
   "metadata": {},
   "outputs": [],
   "source": [
    "# day_by_day에서 연도별 선수의 시즌 전반기 장타율(SLG)과 관련된 성적 합 구하기\n",
    "\n",
    "# 전반기 장타율 계산\n",
    "\n",
    "# SLG 결측치를 0으로 처리 \n",
    "\n",
    "# 필요한 칼럼만 불러오고 나이 계산\n"
   ]
  },
  {
   "cell_type": "code",
   "execution_count": null,
   "metadata": {},
   "outputs": [],
   "source": [
    "# 총 3년 전 성적까지 변수를 생성\n"
   ]
  },
  {
   "cell_type": "code",
   "execution_count": null,
   "metadata": {},
   "outputs": [],
   "source": [
    "# 선수별 SLG 평균 데이터(player_SLG_mean)를 만듭니다\n",
    "\n",
    "\n",
    "# 시즌별 SLG 평균 데이터(season_SLG_mean)를 만듭니다\n",
    "\n",
    "\n",
    "# 선수 평균의 SLG(player_OBP_mean)를 새로운 변수로 더합니다.\n",
    "\n",
    "\n",
    "# 선수 평균의 성적이 결측치이면 데이터에서 제거합니다.\n",
    "\n",
    "\n",
    "# 결측치 처리\n",
    "\n"
   ]
  },
  {
   "cell_type": "markdown",
   "metadata": {},
   "source": [
    "## 1.4. 모델링\n",
    "### 1.4.1. 데이터 분할"
   ]
  },
  {
   "cell_type": "code",
   "execution_count": null,
   "metadata": {},
   "outputs": [],
   "source": [
    "# 30타수 이상의 데이터만 학습\n",
    "\n",
    "\n",
    "# 2018년 데이터를 test 데이터 2018년 이전은 train 데이터로 나눈다.\n",
    "\n",
    "\n"
   ]
  },
  {
   "cell_type": "code",
   "execution_count": null,
   "metadata": {},
   "outputs": [],
   "source": []
  },
  {
   "cell_type": "markdown",
   "metadata": {},
   "source": [
    "### 1.4.2. 모델 선택"
   ]
  },
  {
   "cell_type": "code",
   "execution_count": null,
   "metadata": {},
   "outputs": [],
   "source": [
    "\n",
    "\n",
    "# log 단위(1e+01)로 1.e-04 ~ 1.e+01 사이의 구간에 대해 parameter를 탐색한다. \n",
    "\n",
    "\n",
    "# GridSearchCV를 이용하여 dict에 Lasso, Ridege OBP 모델을 저장한다.\n",
    "\n",
    "\n",
    "# GridSearchCV를 이용하여 dict에 Lasso, Ridge SLG 모델을 저장한다\n"
   ]
  },
  {
   "cell_type": "code",
   "execution_count": null,
   "metadata": {},
   "outputs": [],
   "source": [
    "\n",
    "\n",
    "# 랜덤 포레스트의 parameter 범위를 정의한다.\n",
    "\n",
    "\n",
    "# GridSearchCV를 이용하여 dict에 OBP Randomforest 모델을 저장한다.\n",
    "\n",
    "\n",
    "# GridSearchCV를 이용하여 dict에 OBP Randomforest 모델을 저장한다.\n",
    "\n"
   ]
  },
  {
   "cell_type": "raw",
   "metadata": {},
   "source": []
  },
  {
   "cell_type": "raw",
   "metadata": {},
   "source": []
  },
  {
   "cell_type": "raw",
   "metadata": {
    "tags": []
   },
   "source": []
  },
  {
   "cell_type": "code",
   "execution_count": null,
   "metadata": {},
   "outputs": [],
   "source": [
    "# 테스트 데이터셋(2018년)의 선수들의 OBP를 예측\n",
    "\n",
    "# XGB_OBP = XGB_OBP_gridsearch.predict(OBP_test.iloc[:,-5:])\n",
    "\n",
    "# test 데이터의 WRMSE 계산\n",
    "\n",
    "# 막대그래프 위에 값을 표시해준다.\n"
   ]
  },
  {
   "cell_type": "code",
   "execution_count": null,
   "metadata": {},
   "outputs": [],
   "source": [
    "# 테스트 데이터셋(2018년)의 선수들의 SLG를 예측\n",
    "\n",
    "\n",
    "# test데이터 WRMSE 계산\n",
    "\n"
   ]
  },
  {
   "cell_type": "markdown",
   "metadata": {},
   "source": [
    "### 1.4.3. 결과 해석과 평가"
   ]
  },
  {
   "cell_type": "code",
   "execution_count": null,
   "metadata": {},
   "outputs": [],
   "source": []
  },
  {
   "cell_type": "code",
   "execution_count": null,
   "metadata": {},
   "outputs": [],
   "source": [
    "# Lasso에서 GridSearchCV로 탐색한 최적의 alpha값 출력\n"
   ]
  },
  {
   "cell_type": "code",
   "execution_count": null,
   "metadata": {},
   "outputs": [],
   "source": []
  },
  {
   "cell_type": "markdown",
   "metadata": {},
   "source": [
    "## 1.5. 성능 향상을 위한 방법\n",
    "### 1.5.1. 앙상블"
   ]
  },
  {
   "cell_type": "code",
   "execution_count": null,
   "metadata": {},
   "outputs": [],
   "source": []
  },
  {
   "cell_type": "markdown",
   "metadata": {},
   "source": [
    "### 1.5.2. 단순화된 모델 생성"
   ]
  },
  {
   "cell_type": "code",
   "execution_count": null,
   "metadata": {},
   "outputs": [],
   "source": []
  },
  {
   "cell_type": "code",
   "execution_count": null,
   "metadata": {},
   "outputs": [],
   "source": []
  },
  {
   "cell_type": "code",
   "execution_count": null,
   "metadata": {},
   "outputs": [],
   "source": []
  },
  {
   "cell_type": "code",
   "execution_count": null,
   "metadata": {},
   "outputs": [],
   "source": []
  },
  {
   "cell_type": "code",
   "execution_count": null,
   "metadata": {},
   "outputs": [],
   "source": []
  },
  {
   "cell_type": "markdown",
   "metadata": {},
   "source": [
    "### 1.5.3. 테스트 데이터 정제"
   ]
  },
  {
   "cell_type": "code",
   "execution_count": null,
   "metadata": {},
   "outputs": [],
   "source": []
  },
  {
   "cell_type": "code",
   "execution_count": null,
   "metadata": {},
   "outputs": [],
   "source": []
  },
  {
   "cell_type": "code",
   "execution_count": null,
   "metadata": {},
   "outputs": [],
   "source": []
  },
  {
   "cell_type": "code",
   "execution_count": null,
   "metadata": {},
   "outputs": [],
   "source": []
  },
  {
   "cell_type": "code",
   "execution_count": null,
   "metadata": {},
   "outputs": [],
   "source": []
  },
  {
   "cell_type": "code",
   "execution_count": null,
   "metadata": {},
   "outputs": [],
   "source": []
  },
  {
   "cell_type": "code",
   "execution_count": null,
   "metadata": {},
   "outputs": [],
   "source": []
  },
  {
   "cell_type": "code",
   "execution_count": null,
   "metadata": {},
   "outputs": [],
   "source": []
  },
  {
   "cell_type": "code",
   "execution_count": null,
   "metadata": {},
   "outputs": [],
   "source": []
  },
  {
   "cell_type": "code",
   "execution_count": null,
   "metadata": {},
   "outputs": [],
   "source": []
  },
  {
   "cell_type": "code",
   "execution_count": null,
   "metadata": {},
   "outputs": [],
   "source": []
  },
  {
   "cell_type": "code",
   "execution_count": null,
   "metadata": {},
   "outputs": [],
   "source": []
  },
  {
   "cell_type": "code",
   "execution_count": null,
   "metadata": {},
   "outputs": [],
   "source": []
  },
  {
   "cell_type": "markdown",
   "metadata": {},
   "source": [
    "### 1.5.4. 반발계수의 변화"
   ]
  },
  {
   "cell_type": "code",
   "execution_count": null,
   "metadata": {},
   "outputs": [],
   "source": []
  },
  {
   "cell_type": "code",
   "execution_count": null,
   "metadata": {},
   "outputs": [],
   "source": []
  },
  {
   "cell_type": "code",
   "execution_count": null,
   "metadata": {},
   "outputs": [],
   "source": []
  },
  {
   "cell_type": "code",
   "execution_count": null,
   "metadata": {},
   "outputs": [],
   "source": []
  }
 ],
 "metadata": {
  "kernelspec": {
   "display_name": "Python 3 (ipykernel)",
   "language": "python",
   "name": "python3"
  },
  "language_info": {
   "codemirror_mode": {
    "name": "ipython",
    "version": 3
   },
   "file_extension": ".py",
   "mimetype": "text/x-python",
   "name": "python",
   "nbconvert_exporter": "python",
   "pygments_lexer": "ipython3",
   "version": "3.11.1"
  }
 },
 "nbformat": 4,
 "nbformat_minor": 4
}
